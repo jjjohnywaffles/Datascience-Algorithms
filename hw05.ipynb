{
 "cells": [
  {
   "cell_type": "code",
   "execution_count": 1,
   "id": "27131e22",
   "metadata": {
    "deletable": false,
    "editable": false
   },
   "outputs": [],
   "source": [
    "# Initialize Otter\n",
    "import otter\n",
    "grader = otter.Notebook(\"hw05.ipynb\")"
   ]
  },
  {
   "cell_type": "markdown",
   "id": "0a41ef94",
   "metadata": {},
   "source": [
    "# Homework 5\n",
    "\n",
    "## Due on Gradescope\n",
    "\n",
    "\n",
    "## Collaboration Policy\n",
    "\n",
    "Data science is a collaborative activity.  However a key step in learning and retention is **creating solutions on your own.**  \n",
    "\n",
    "\n",
    "Please see the Syllabus for the Collaboration Policy.\n",
    "\n",
    "On the other hand, the following are some **examples of things which would NOT usually be\n",
    "considered to be cheating**:\n",
    " - Working on a HW problem on your own first and then discussing with a classmate a particular part in the problem solution where you are stuck.  After clarifying any questions you should then continue to write your solution independently.\n",
    " - Asking someone (or searching online) how a particular construct in the language works.\n",
    " - Asking someone (or searching online) how to formulate a particular construct in the language.\n",
    " - Asking someone for help in finding an error in your program.  \n",
    " - Asking someone why a particular construct does not work as you expected in a given program.\n",
    "   \n",
    "\n",
    "To test whether you are truly doing your own work and retaining what you've learned you should be able to easily reproduce from scratch and explain a HW solution that was your own when asked in office hours by a TA/Instructor or on a quiz/exam.   \n",
    "\n",
    "\n",
    "If you have difficulty in formulating the general solution to a problem on your own, or\n",
    "you have difficulty in translating that general solution into a program, it is advisable to see\n",
    "your instructor or teaching assistant rather than another student as this situation can easily\n",
    "lead to a, possibly inadvertent, cheating situation.\n",
    "\n",
    "We are here to help!  Visit HW Hours and/or post questions on Piazza!\n"
   ]
  },
  {
   "cell_type": "markdown",
   "id": "e4d8a09d",
   "metadata": {},
   "source": [
    "If while completing this assignment you reference any websites other than those linked in this assignment or provided on Canvas please list those references here:\n",
    "\n",
    "**External references**:  *list any websites you referenced"
   ]
  },
  {
   "cell_type": "markdown",
   "id": "24b45ac0",
   "metadata": {},
   "source": [
    "#### Grading\n",
    "Grading is broken down into autograded answers and manually graded answers. \n",
    "\n",
    "For autograded answers, the results of your code are compared to provided and/or hidden tests.\n",
    "\n",
    "For manually graded answers you must show and explain all steps.  Graders will evaluate how well you answered the question and/or fulfilled the requirements of the question.\n",
    "\n",
    "\n",
    "### Score breakdown\n",
    "\n",
    "\n",
    "\n",
    "Question | Points | Grading Type\n",
    "--- | --- | ---\n",
    "Question 1 | 4 | autograded\n",
    "Question 2 | 4 | manual\n",
    "Question 3 | 6 | manual\n",
    "Question 4a | 3 | manual\n",
    "Question 4bi-iii | 5 | autograded\n",
    "Question 4biii | 4 | manual\n",
    "Question 5 | 8 | manual\n",
    "Question 6 | 10 | manual\n",
    "Question 7 | 6 | manual\n",
    "|Total | 50"
   ]
  },
  {
   "cell_type": "markdown",
   "id": "c0eec3bc",
   "metadata": {},
   "source": [
    "<a id='top'></a>\n",
    "---\n",
    "**Shortcuts:**  [Problem 2](#p2) | [Problem 3](#p3) | [Problem 4](#p4) | [Problem 5](#p5) |  [Problem 6](#p6) | [Problem 7](#p7) | \n",
    "---\n",
    "<hr style=\"border: 5px solid #003262;\" />\n",
    "<hr style=\"border: 1px solid #fdb515;\" />\n",
    "\n"
   ]
  },
  {
   "cell_type": "markdown",
   "id": "20206110",
   "metadata": {},
   "source": [
    "In this homework you'll investigate probability. You'll also use probability simulations to estimate probabilities, gain intuition about random processes and to check your pencil and paper work.   \n"
   ]
  },
  {
   "cell_type": "code",
   "execution_count": 2,
   "id": "931c6bb1",
   "metadata": {
    "scrolled": true
   },
   "outputs": [],
   "source": [
    "import pandas as pd\n",
    "import numpy as np\n",
    "import matplotlib.pylab as plt\n",
    "%matplotlib inline"
   ]
  },
  {
   "cell_type": "markdown",
   "id": "638ea3bb",
   "metadata": {},
   "source": [
    "### Problem 1: Roulette!\n",
    "\n",
    "\n",
    "A Nevada roulette wheel has 38 pockets and a small ball that rests on the wheel. When the wheel is spun, the ball comes to rest in one of the 38 pockets. That pocket is declared the winner. \n",
    "\n",
    "The pockets are labeled 0, 00, 1, 2, 3, 4, ... , 36. Pockets 0 and 00 are green, and the other pockets are alternately red and black. Below is an example of a roulette wheel!"
   ]
  },
  {
   "cell_type": "markdown",
   "id": "141c584c",
   "metadata": {},
   "source": [
    "<img src=\"img/roulette_wheel.jpeg\" width=\"330px\">"
   ]
  },
  {
   "cell_type": "markdown",
   "id": "ffd92b12",
   "metadata": {},
   "source": [
    "\n",
    "\n",
    "\n"
   ]
  },
  {
   "cell_type": "markdown",
   "id": "a2774291",
   "metadata": {},
   "source": [
    "\n",
    "On each spin of a roulette wheel, all 38 pockets are equally likely to be the winner regardless of the results of other spins. Among the 38 pockets, 18 are red, 18 black, and 2 green. "
   ]
  },
  {
   "cell_type": "markdown",
   "id": "ccb712bb",
   "metadata": {
    "deletable": false,
    "editable": false
   },
   "source": [
    "**In each part below, write code that evaluates to the chance of the event described.**\n",
    "\n",
    "**Part 1A (1 pt).**  What is the probability the winning pocket is black on all of the first three spins?\n"
   ]
  },
  {
   "cell_type": "code",
   "execution_count": 3,
   "id": "21341f68",
   "metadata": {
    "tags": []
   },
   "outputs": [],
   "source": [
    "# Probability of black on one spin\n",
    "probability_black_one_spin = 18 / 38\n",
    "first_three_black = probability_black_one_spin ** 3\n"
   ]
  },
  {
   "cell_type": "code",
   "execution_count": 4,
   "id": "6d3ba7f9",
   "metadata": {
    "deletable": false,
    "editable": false
   },
   "outputs": [
    {
     "data": {
      "text/html": [
       "<p><strong><pre style='display: inline;'>q1a</pre></strong> passed! 🍀</p>"
      ],
      "text/plain": [
       "q1a results: All test cases passed!"
      ]
     },
     "execution_count": 4,
     "metadata": {},
     "output_type": "execute_result"
    }
   ],
   "source": [
    "grader.check(\"q1a\")"
   ]
  },
  {
   "cell_type": "markdown",
   "id": "7c7ee8be",
   "metadata": {
    "deletable": false,
    "editable": false
   },
   "source": [
    "**Part 1B (1 pt)**  What is the probability the color green never wins in the first 10 spins?"
   ]
  },
  {
   "cell_type": "code",
   "execution_count": 5,
   "id": "4fdbbb20",
   "metadata": {
    "tags": []
   },
   "outputs": [],
   "source": [
    "# Probability of not getting green on one spin\n",
    "probability_no_green_one_spin = 36 / 38\n",
    "\n",
    "no_green = probability_no_green_one_spin ** 10"
   ]
  },
  {
   "cell_type": "code",
   "execution_count": 6,
   "id": "83b77c3c",
   "metadata": {
    "deletable": false,
    "editable": false
   },
   "outputs": [
    {
     "data": {
      "text/html": [
       "<p><strong><pre style='display: inline;'>q1b</pre></strong> passed! 🙌</p>"
      ],
      "text/plain": [
       "q1b results: All test cases passed!"
      ]
     },
     "execution_count": 6,
     "metadata": {},
     "output_type": "execute_result"
    }
   ],
   "source": [
    "grader.check(\"q1b\")"
   ]
  },
  {
   "cell_type": "markdown",
   "id": "1f4a6e57",
   "metadata": {
    "deletable": false,
    "editable": false
   },
   "source": [
    "**Part 1C (1 pt)** What is the probability the color green wins at least once on the first 10 spins?\n"
   ]
  },
  {
   "cell_type": "code",
   "execution_count": 7,
   "id": "de76de56",
   "metadata": {
    "tags": []
   },
   "outputs": [],
   "source": [
    "# Probability of not getting green on one spin\n",
    "probability_no_green_one_spin = 36 / 38\n",
    "\n",
    "# Probability of not getting green in the first 10 spins\n",
    "no_green = probability_no_green_one_spin ** 10\n",
    "\n",
    "at_least_one_green = 1 - no_green"
   ]
  },
  {
   "cell_type": "code",
   "execution_count": 8,
   "id": "bd64dc18",
   "metadata": {
    "deletable": false,
    "editable": false
   },
   "outputs": [
    {
     "data": {
      "text/html": [
       "<p><strong><pre style='display: inline;'>q1c</pre></strong> passed! 💯</p>"
      ],
      "text/plain": [
       "q1c results: All test cases passed!"
      ]
     },
     "execution_count": 8,
     "metadata": {},
     "output_type": "execute_result"
    }
   ],
   "source": [
    "grader.check(\"q1c\")"
   ]
  },
  {
   "cell_type": "markdown",
   "id": "d4001160",
   "metadata": {
    "deletable": false,
    "editable": false
   },
   "source": [
    "**Part 1D (1 pts).** What is the probability two of the three colors never win in the first 10 spins?\n",
    "\n"
   ]
  },
  {
   "cell_type": "code",
   "execution_count": 26,
   "id": "2932ea73",
   "metadata": {
    "tags": []
   },
   "outputs": [
    {
     "data": {
      "text/plain": [
       "0.0011374153385028288"
      ]
     },
     "execution_count": 26,
     "metadata": {},
     "output_type": "execute_result"
    }
   ],
   "source": [
    "from scipy.stats import binom\n",
    "\n",
    "total_pockets = 38\n",
    "red_black_pockets = 18\n",
    "green_pockets = 2\n",
    "\n",
    "# Probability of red or black winning in a single spin\n",
    "p_red_black_win = red_black_pockets / total_pockets\n",
    "# Probability of green winning in a single spin\n",
    "p_green_win = green_pockets / total_pockets\n",
    "\n",
    "# Since red and black have the same probability, we calculate for one and multiply by 2\n",
    "p_red_black_only_win = binom.pmf(10, 10, p_red_black_win)\n",
    "p_green_only_win = binom.pmf(10, 10, p_green_win)\n",
    "\n",
    "# Total probability that two of the three colors never win in the first 10 spins\n",
    "lone_winners = 2 * p_red_black_only_win + p_green_only_win\n",
    "lone_winners"
   ]
  },
  {
   "cell_type": "code",
   "execution_count": 25,
   "id": "40ae9274",
   "metadata": {
    "deletable": false,
    "editable": false
   },
   "outputs": [
    {
     "data": {
      "text/html": [
       "<p><strong><pre style='display: inline;'>q14</pre></strong> passed! 🚀</p>"
      ],
      "text/plain": [
       "q14 results: All test cases passed!"
      ]
     },
     "execution_count": 25,
     "metadata": {},
     "output_type": "execute_result"
    }
   ],
   "source": [
    "grader.check(\"q14\")"
   ]
  },
  {
   "cell_type": "markdown",
   "id": "cdeb51fe",
   "metadata": {
    "deletable": false,
    "editable": false
   },
   "source": [
    "<!-- BEGIN QUESTION -->\n",
    "\n",
    "***\n",
    "\n",
    "[Back to top](#top)\n",
    "\n",
    "<a id='p2'></a>\n",
    "\n",
    "### Problem 2\n",
    "\n",
    "Let $A$ and $B$ be events in a sample space $\\Omega$.  \n",
    "\n",
    "Suppose that the probability that $A$ occurs is $0.2$, the probability that $B$ occurs is $0.6$, and the probability that $\\textbf{neither}$ $A$ $\\textbf{nor}$ $B$ occur is $0.3$.  \n",
    "\n",
    "\n",
    "**2a) (2 pts)**  What is $P(A, B)$?\n",
    "\n",
    "**2b) (2 pts)**  What is $P(B\\mid A')$?\n",
    "\n",
    "\n",
    "Write up your full solution to both questions in the SAME box below using LaTeX (not code).  Show all steps fully justifying your answers.  \n"
   ]
  },
  {
   "cell_type": "markdown",
   "id": "a9ca3a81",
   "metadata": {},
   "source": [
    "We know that the probability of neither $A$ nor $B$ occurring is $0.3$. This means the probability of the complement of the union of $A$ and $B$ is $0.3$.\n",
    "\n",
    "We can use the principle of inclusion-exclusion to find $P(A,B)$:\n",
    "\n",
    "\n",
    "$P(A \\cup B) = P(A) + P(B) - P(A, B)$\n",
    "\n",
    "\n",
    "Given:\n",
    "\\begin{align*}\n",
    "P(A) &= 0.2 \\\\\n",
    "P(B) &= 0.6 \\\\\n",
    "P(A' \\cap B') &= 0.3\n",
    "\\end{align*}\n",
    "\n",
    "We need to find $P(A, B)$. Rearranging the formula:\n",
    "\n",
    "\n",
    "$P(A, B) = P(A) + P(B) - P(A \\cup B)$\n",
    "\n",
    "$P(A, B) = 0.2 + 0.6 - (1 - 0.3) = 0.8 - 0.7 = 0.1$\n",
    "\n",
    "Therefore, $P(A, B) = 0.1$.\n",
    "\n",
    "2b) What is $P(B|A')$?\n",
    "\n",
    "Solution:\n",
    "\n",
    "$P(B|A')$ represents the probability of event $B$ occurring given that event $A'$ (the complement of $A$) has occurred.\n",
    "\n",
    "Using the definition of conditional probability:\n",
    "\n",
    "\n",
    "$P(B|A') = \\frac{P(B \\cap A')}{P(A')}$\n",
    "\n",
    "\n",
    "We know that $P(A') = 1 - P(A) = 1 - 0.2 = 0.8$.\n",
    "\n",
    "We also know that $P(B \\cap A') = P(B) - P(A, B)$.\n",
    "\n",
    "Given:\n",
    "\\begin{align*}\n",
    "P(B) &= 0.6 \\\\\n",
    "P(A, B) &= 0.1\n",
    "\\end{align*}\n",
    "\n",
    "$P(B \\cap A') = 0.6 - 0.1 = 0.5$\n",
    "\n",
    "So,\n",
    "\n",
    "$P(B|A') = \\frac{0.5}{0.8} = \\frac{5}{8}$\n",
    "\n",
    "Therefore, $P(B|A') = \\frac{5}{8}$."
   ]
  },
  {
   "cell_type": "markdown",
   "id": "0e170d08",
   "metadata": {
    "deletable": false,
    "editable": false
   },
   "source": [
    "<!-- END QUESTION -->\n",
    "\n",
    "To check your answer for Problem 2a, enter the answer you came up with (just the number) in the cell below. Note that this is just a public test. Full credit requires that you show all your work written in LaTeX fully justifying your answer in the cell above.  "
   ]
  },
  {
   "cell_type": "code",
   "execution_count": 30,
   "id": "73372c9e",
   "metadata": {
    "tags": []
   },
   "outputs": [],
   "source": [
    "q2a_answer=0.1"
   ]
  },
  {
   "cell_type": "code",
   "execution_count": 31,
   "id": "cea19281",
   "metadata": {
    "deletable": false,
    "editable": false
   },
   "outputs": [
    {
     "data": {
      "text/html": [
       "<p><strong><pre style='display: inline;'>q2acheck</pre></strong> passed! ✨</p>"
      ],
      "text/plain": [
       "q2acheck results: All test cases passed!"
      ]
     },
     "execution_count": 31,
     "metadata": {},
     "output_type": "execute_result"
    }
   ],
   "source": [
    "grader.check(\"q2acheck\")"
   ]
  },
  {
   "cell_type": "markdown",
   "id": "f4fdf61c",
   "metadata": {
    "deletable": false,
    "editable": false
   },
   "source": [
    "To check your answer for Problem 2b, enter the answer you came up with (just the number) in the cell below. Note that this is just a public test. Full credit requires that you show all your work written in LaTeX fully justifying your answer in the Markdown cell provided above.  "
   ]
  },
  {
   "cell_type": "code",
   "execution_count": 32,
   "id": "b454f3d3",
   "metadata": {
    "tags": []
   },
   "outputs": [],
   "source": [
    "q2b_answer = 0.625"
   ]
  },
  {
   "cell_type": "code",
   "execution_count": 33,
   "id": "b43c5c96",
   "metadata": {
    "deletable": false,
    "editable": false
   },
   "outputs": [
    {
     "data": {
      "text/html": [
       "<p><strong><pre style='display: inline;'>q2bcheck</pre></strong> passed! 🎉</p>"
      ],
      "text/plain": [
       "q2bcheck results: All test cases passed!"
      ]
     },
     "execution_count": 33,
     "metadata": {},
     "output_type": "execute_result"
    }
   ],
   "source": [
    "grader.check(\"q2bcheck\")"
   ]
  },
  {
   "cell_type": "markdown",
   "id": "2ba3c6c2",
   "metadata": {
    "deletable": false,
    "editable": false
   },
   "source": [
    "<!-- BEGIN QUESTION -->\n",
    "\n",
    "[Back to top](#top)\n",
    "\n",
    "<a id='p3'></a>\n",
    "\n",
    "### Problem 3\n",
    "\n",
    "The accuracy of a diagnostic test is often described using the following terms:\n",
    "\n",
    " - Test Sensitivity: Ability to detect a positive case (i.e. probability that the test is positive given that the person actually has the virus).\n",
    "\n",
    " - Test Specificity:  Ability to determine a negative case (i.e. the probability that a person tests negative given that they don't have the virus)).\n",
    "\n",
    "\n",
    "Suppose a  diagnostic test for a virus is reported to have $90\\%$ sensitivity and $92\\%$ specificity.\n",
    "\n",
    "Suppose $2\\%$ of the population has the virus in question.  \n",
    "\n",
    "Answer the following questions all in ONE cell below using LaTeX.  Show all steps.\n",
    "\n",
    "**3a) (5 pts)**.  If a person is chosen at random from the population and the diagnostic test indicates that they have the virus, what is the conditional probability that they do, in fact, have the virus?    Write up your full solution using LaTeX.\n",
    "\n",
    "**3b) (1 pt)**.  Terminology: What is the prior and what is the likelihood in this scenario?\n"
   ]
  },
  {
   "cell_type": "markdown",
   "id": "a2a48d09",
   "metadata": {},
   "source": [
    "Solution for 3a\n",
    "\n",
    "Given:\n",
    "Test Sensitivity, $P(\\text{Positive|Disease}) = 0.90$.\n",
    "\n",
    "Test Specificity, $P(\\text{Negative|No Disease}) = 0.92$.\n",
    "\n",
    "Prevalence of the virus, $P(\\text{Disease}) = 0.02$.\n",
    "\n",
    "Therefore, $P(\\text{No Disease}) = 1 - P(\\text{Disease}) = 0.98$.\n",
    "\n",
    "$P(\\text{Positive|No Disease}) = 1 - P(\\text{Negative|No Disease}) = 0.08$.\n",
    "\n",
    "The total probability of testing positive is:\n",
    "\n",
    "$P(\\text{Positive}) = P(\\text{Positive|Disease}) \\cdot P(\\text{Disease}) + P(\\text{Positive|No Disease}) \\cdot P(\\text{No Disease})$\n",
    "\n",
    "$P(\\text{Positive}) = 0.90 \\cdot 0.02 + 0.08 \\cdot 0.98$\n",
    "\n",
    "$P(\\text{Positive}) = 0.018 + 0.0784$\n",
    "\n",
    "$P(\\text{Positive}) = 0.0964$\n",
    "\n",
    "The conditional probability that a person has the virus given a positive test result is:\n",
    "\n",
    "$P(\\text{Disease|Positive}) = \\frac{P(\\text{Positive|Disease}) \\cdot P(\\text{Disease})}{P(\\text{Positive})}$\n",
    "\n",
    "$P(\\text{Disease|Positive}) = \\frac{0.90 \\cdot 0.02}{0.0964}$\n",
    "\n",
    "$P(\\text{Disease|Positive}) = \\frac{0.018}{0.0964}$\n",
    "\n",
    "Solution for 3b\n",
    "\n",
    "$P(\\text{Disease}) = 0.02$, which is the probability of having the virus before considering the test results.\n",
    "\n",
    "Likelihood: $P(\\text{Positive|Disease}) = 0.90$, which is the probability of testing positive given that the person has the disease.\n"
   ]
  },
  {
   "cell_type": "markdown",
   "id": "2e62757b",
   "metadata": {
    "deletable": false,
    "editable": false
   },
   "source": [
    "<!-- END QUESTION -->\n",
    "\n",
    "To check your answer for Problem 3a, enter the answer you came up with (just the probability) in the cell below. Note that this is just a public test. Full credit requires that you show all your work written in LaTeX and fully justifying your answer above."
   ]
  },
  {
   "cell_type": "code",
   "execution_count": 42,
   "id": "dc7d990f",
   "metadata": {
    "tags": []
   },
   "outputs": [],
   "source": [
    "q3a_answer = 0.018/0.0964"
   ]
  },
  {
   "cell_type": "code",
   "execution_count": 43,
   "id": "9fba8d74",
   "metadata": {
    "deletable": false,
    "editable": false
   },
   "outputs": [
    {
     "data": {
      "text/html": [
       "<p><strong><pre style='display: inline;'>q3check</pre></strong> passed! 🍀</p>"
      ],
      "text/plain": [
       "q3check results: All test cases passed!"
      ]
     },
     "execution_count": 43,
     "metadata": {},
     "output_type": "execute_result"
    }
   ],
   "source": [
    "grader.check(\"q3check\")"
   ]
  },
  {
   "cell_type": "markdown",
   "id": "7357582c",
   "metadata": {
    "deletable": false,
    "editable": false
   },
   "source": [
    "<!-- BEGIN QUESTION -->\n",
    "\n",
    "***\n",
    "[Back to top](#top)\n",
    "\n",
    "<a id='p4'></a>\n",
    "\n",
    "### Problem 4: Poker!\n",
    "\n",
    "A common example for discrete counting and probability questions are poker hands.  Consider using a standard 52-card playing deck, with card ranks `[A,2,3,4,5,6,7,8,9,10,J,Q,K]` across the standard 4 suits: `[C,D,H,S]`.\n",
    "\n",
    "**Part 4A (3 pts)** \n",
    "\n",
    "Suppose we draw 5 cards at random from the deck without replacement.  \n",
    "\n",
    "In Poker, \"Three of a Kind\" is defined as a hand that contains three cards of one rank and two cards of two other ranks.  Notice that in this definition a Full House (a hand that contains three cards of one rank and two cards of another rank) is NOT classified as \"three of a kind\".  https://en.wikipedia.org/wiki/List_of_poker_hands#Three_of_a_kind\n",
    "\n",
    "\n",
    "<img src=\"img/three.png\" width=\"330px\">\n",
    "\n",
    "What is the probability of drawing 5 cards (without replacement) that are \"three of a kind?\" \n",
    "\n",
    "Typeset your work using LaTeX below.  Show work justifying all steps.  You may leave your answer in terms of a ratio of products, but you should simplify away any combinatoric notation such as ${n \\choose k}$ or $P(n,k)$.\n"
   ]
  },
  {
   "cell_type": "markdown",
   "id": "4bcb3927",
   "metadata": {},
   "source": [
    "1. Choose the rank for the three cards: There are 13 ranks, so there are 13 ways to choose the rank.\n",
    "\n",
    "2. Choose three cards of that rank: There are $\\binom{4}{3} = 4$ ways to choose 3 cards out of 4 of the same rank.\n",
    "\n",
    "3. Choose the ranks for the other two cards: The two remaining cards must be of different ranks, neither matching the \"Three of a Kind\" rank. There are $\\binom{12}{2}$ ways to choose these ranks, since we exclude the rank already chosen.\n",
    "\n",
    "4. Choose one card from each of these ranks: For each rank, there are 4 cards available (one for each suit), so there are $4 \\times 4 = 16$ ways to choose these two cards.\n",
    "\n",
    "Therefore, the total number of ways to draw a \"Three of a Kind\" is $13 \\times \\binom{4}{3} \\times \\binom{12}{2} \\times 16$.\n",
    "\n",
    "The total number of ways to draw any 5 cards from a 52-card deck is $\\binom{52}{5}$.\n",
    "\n",
    "Thus, the probability of drawing a \"Three of a Kind\" is:\n",
    "\n",
    "$P(\\text{Three of a Kind}) = \\frac{13 \\times \\binom{4}{3} \\times \\binom{12}{2} \\times 16}{\\binom{52}{5}}$\n",
    "\n",
    "$P(\\text{Three of a Kind})$ = $\\frac{13 \\times 4 \\times 66 \\times 16}{2598960}$ = $\\frac{54912}{2598960}$"
   ]
  },
  {
   "cell_type": "markdown",
   "id": "95b8f59d",
   "metadata": {
    "deletable": false,
    "editable": false
   },
   "source": [
    "<!-- END QUESTION -->\n",
    "\n",
    "To check your answer for 4a, enter the answer you came up with (just the probability) in the cell below. Note that this is just a public test. Full credit requires that you show all your work written in LaTeX and fully justifying your answer in the cell above."
   ]
  },
  {
   "cell_type": "code",
   "execution_count": 50,
   "id": "4928731e",
   "metadata": {
    "tags": []
   },
   "outputs": [],
   "source": [
    "q4a_answer = 54912/2598960"
   ]
  },
  {
   "cell_type": "code",
   "execution_count": 51,
   "id": "580fdd09",
   "metadata": {
    "deletable": false,
    "editable": false
   },
   "outputs": [
    {
     "data": {
      "text/html": [
       "<p><strong><pre style='display: inline;'>q4acheck</pre></strong> passed! 🚀</p>"
      ],
      "text/plain": [
       "q4acheck results: All test cases passed!"
      ]
     },
     "execution_count": 51,
     "metadata": {},
     "output_type": "execute_result"
    }
   ],
   "source": [
    "grader.check(\"q4acheck\")"
   ]
  },
  {
   "cell_type": "markdown",
   "id": "c93830f5",
   "metadata": {
    "deletable": false,
    "editable": false
   },
   "source": [
    "\n",
    "\n",
    "\n",
    "\n",
    "One of the big payoffs of simulation is that it can let us answer some probability questions that are otherwise quite difficult.  We can instead just simulate the process and get approximate results based on simulation.\n",
    "\n",
    "\n",
    "\n",
    "In lecture we have outlined several ways to draw random samples using Python:\n",
    "\n",
    "\n",
    "- `np.random.choice(a)` draws a random sample from a population whose elements are in an array `a`. The output is an array consisting of the sampled elements.\n",
    "\n",
    "- `df.sample(n)` draws a random sample of `n` rows from the DataFrame `df`. The output is a DataFrame consisting of the sampled rows. \n",
    "\n",
    "**Part 4B**  Poker with computers!\n",
    "\n",
    "To simulate the scenario you calculated theoretically in part 4a, you will use the steps below to write code to simulate draws of a hand of 5 cards from a standard 52-card deck.  You'll repeat the simulation 10000 times, and report how many \"three of a kind\" hands were observed.  If your simulation code is correct, your answer should be very close to your theoretical answer from part 4a. \n",
    "\n",
    "**4bi)(2 pts)**.  Create a Python `list` called `cards` of 52 strings that represent a full deck of cards (see documentation for Python `list` here: https://docs.python.org/3/library/stdtypes.html#list).  \n",
    "\n",
    "For suits use the labeling `[C,D,H,S]` and for ranks use the labeling `[A,2,3,4,5,6,7,8,9,10,J,Q,K]`. \n",
    "\n",
    "In the string describing the card give the suit first and the rank second.  For example to represent the 3 of hearts use the string 'H3'. To represent the queen of hearts use the string 'HQ`.   \n",
    "Your deck should have 52 distinct cards.\n"
   ]
  },
  {
   "cell_type": "code",
   "execution_count": 52,
   "id": "3a290aa1",
   "metadata": {
    "tags": []
   },
   "outputs": [
    {
     "data": {
      "text/plain": [
       "(['CA',\n",
       "  'C2',\n",
       "  'C3',\n",
       "  'C4',\n",
       "  'C5',\n",
       "  'C6',\n",
       "  'C7',\n",
       "  'C8',\n",
       "  'C9',\n",
       "  'C10',\n",
       "  'CJ',\n",
       "  'CQ',\n",
       "  'CK',\n",
       "  'DA',\n",
       "  'D2',\n",
       "  'D3',\n",
       "  'D4',\n",
       "  'D5',\n",
       "  'D6',\n",
       "  'D7',\n",
       "  'D8',\n",
       "  'D9',\n",
       "  'D10',\n",
       "  'DJ',\n",
       "  'DQ',\n",
       "  'DK',\n",
       "  'HA',\n",
       "  'H2',\n",
       "  'H3',\n",
       "  'H4',\n",
       "  'H5',\n",
       "  'H6',\n",
       "  'H7',\n",
       "  'H8',\n",
       "  'H9',\n",
       "  'H10',\n",
       "  'HJ',\n",
       "  'HQ',\n",
       "  'HK',\n",
       "  'SA',\n",
       "  'S2',\n",
       "  'S3',\n",
       "  'S4',\n",
       "  'S5',\n",
       "  'S6',\n",
       "  'S7',\n",
       "  'S8',\n",
       "  'S9',\n",
       "  'S10',\n",
       "  'SJ',\n",
       "  'SQ',\n",
       "  'SK'],\n",
       " 52)"
      ]
     },
     "execution_count": 52,
     "metadata": {},
     "output_type": "execute_result"
    }
   ],
   "source": [
    "suits = ['C', 'D', 'H', 'S']  # Clubs, Diamonds, Hearts, Spades\n",
    "ranks = ['A', '2', '3', '4', '5', '6', '7', '8', '9', '10', 'J', 'Q', 'K']\n",
    "cards = [suit + rank for suit in suits for rank in ranks]\n",
    "\n",
    "cards, len(cards)\n",
    "# 4bi).  Write code to create a list called `cards` representing a 52-card deck above this line.\n"
   ]
  },
  {
   "cell_type": "code",
   "execution_count": 53,
   "id": "4da9de02",
   "metadata": {
    "deletable": false,
    "editable": false
   },
   "outputs": [
    {
     "data": {
      "text/html": [
       "<p><strong><pre style='display: inline;'>q4i</pre></strong> passed! 🎉</p>"
      ],
      "text/plain": [
       "q4i results: All test cases passed!"
      ]
     },
     "execution_count": 53,
     "metadata": {},
     "output_type": "execute_result"
    }
   ],
   "source": [
    "grader.check(\"q4i\")"
   ]
  },
  {
   "cell_type": "markdown",
   "id": "2e721039-2f1e-4f47-bd2d-00e630b3db63",
   "metadata": {
    "deletable": false,
    "editable": false
   },
   "source": [
    "**4bii)(3 pts)**.  Define a function named `three_kind` to take a Python `list` of 5 cards as input (where the cards are given as strings such as `H3`) and check if the cards are Three of a Kind.  Your function should return `True` if the input is 3 of a kind and `False` otherwise. \n",
    "\n",
    "HINT: The function `np.unique` can make checking hands easier. \n"
   ]
  },
  {
   "cell_type": "code",
   "execution_count": 56,
   "id": "f5bddc33",
   "metadata": {
    "tags": []
   },
   "outputs": [],
   "source": [
    "import numpy as np\n",
    "\n",
    "def three_kind(cards):\n",
    "    # Extract ranks from the cards\n",
    "    ranks = [card[1:] for card in cards]\n",
    "    \n",
    "    # Count occurrences of each rank\n",
    "    unique_ranks, counts = np.unique(ranks, return_counts=True)\n",
    "    \n",
    "    # 'Three of a Kind' is true if exactly one rank occurs three times and no rank occurs twice or four times\n",
    "    return (3 in counts) and (2 not in counts) and (np.max(counts) == 3)\n",
    "\n",
    "# 4bii).Write a function (above this line) 'three_kind' to check a list of 5 cards to see if it is 3 of a kind "
   ]
  },
  {
   "cell_type": "code",
   "execution_count": 57,
   "id": "0e028438",
   "metadata": {
    "deletable": false,
    "editable": false
   },
   "outputs": [
    {
     "data": {
      "text/html": [
       "<p><strong><pre style='display: inline;'>q4ii</pre></strong> passed! 🍀</p>"
      ],
      "text/plain": [
       "q4ii results: All test cases passed!"
      ]
     },
     "execution_count": 57,
     "metadata": {},
     "output_type": "execute_result"
    }
   ],
   "source": [
    "grader.check(\"q4ii\")"
   ]
  },
  {
   "cell_type": "markdown",
   "id": "5a82bca1-a6bc-49e5-9c35-5d54a45b9a1b",
   "metadata": {
    "deletable": false,
    "editable": false
   },
   "source": [
    "<!-- BEGIN QUESTION -->\n",
    "\n",
    "**4biii)(4 pts)**. \n",
    "\n",
    "Write code in the space below that completes the following steps:\n",
    "\n",
    "Step 1:  Write a function to simulate 10,000 random draws from `cards` of 5 cards each, and check if each draw is Three of a Kind. The function should return the overall proportion of random hands (out of the 10,000) in which Three of a Kind was observed. If you have coded your simulation correctly, your answer to this part should be very close to your theoretical answer from Part 4A.  \n",
    "\n",
    "Step 2:  Let's visualize how this simulation converges to the theoretical probability.   In class, we plotted a running estimate of the probability of an event as a function of the number of trials in our simulation.  Write code that completes 10,000 random draws of 5 cards each, but this time outputs a plot of a running estimate of the proportion of hands that are Three of a Kind as a function of the number of trials (from 1 to 10,000) in your simulation.  **Include a red horizontal line on your plot with the theoretical probability that you calculated in part 4A.**  Be sure to include a title on your plot and be sure to label both your axes on the plot.\n",
    "\n",
    "\n",
    "\n",
    "\n"
   ]
  },
  {
   "cell_type": "code",
   "execution_count": 58,
   "id": "88cd2f2c",
   "metadata": {
    "tags": []
   },
   "outputs": [],
   "source": [
    "import numpy as np\n",
    "import matplotlib.pyplot as plt\n",
    "\n",
    "np.random.seed(42)  # For reproducibility\n",
    "\n",
    "def simulate_three_kind(trials=10000):\n",
    "    count_three_of_a_kind = 0\n",
    "    for _ in range(trials):\n",
    "        drawn_cards = np.random.choice(cards, 5, replace=False)\n",
    "        if three_kind(drawn_cards):\n",
    "            count_three_of_a_kind += 1\n",
    "    return count_three_of_a_kind / trials\n",
    "\n",
    "# Calculate the proportion of Three of a Kind in 10,000 trials\n",
    "proportion_three_of_a_kind = simulate_three_kind()\n",
    "#4biii).Write your code for Step 1 above this line"
   ]
  },
  {
   "cell_type": "code",
   "execution_count": 60,
   "id": "8be0968b-f024-4e32-8970-37c2d8d86297",
   "metadata": {
    "tags": []
   },
   "outputs": [
    {
     "data": {
      "image/png": "[encoded data removed]",
      "text/plain": [
       "<Figure size 1000x600 with 1 Axes>"
      ]
     },
     "metadata": {},
     "output_type": "display_data"
    },
    {
     "data": {
      "text/plain": [
       "(0.0236, 0.021)"
      ]
     },
     "execution_count": 60,
     "metadata": {},
     "output_type": "execute_result"
    }
   ],
   "source": [
    "# Step 2: Visualize the simulation convergence\n",
    "def simulate_three_kind_with_plot(trials=10000):\n",
    "    three_of_a_kind_counts = 0\n",
    "    proportions = []\n",
    "    for trial in range(1, trials + 1):\n",
    "        drawn_cards = np.random.choice(cards, 5, replace=False)\n",
    "        if three_kind(drawn_cards):\n",
    "            three_of_a_kind_counts += 1\n",
    "        proportions.append(three_of_a_kind_counts / trial)\n",
    "    \n",
    "    # Theoretical probability from Part 4A\n",
    "    theoretical_probability = 54912/2598960\n",
    "    \n",
    "    # Plotting\n",
    "    plt.figure(figsize=(10, 6))\n",
    "    plt.plot(proportions, label=\"Simulated Probability\")\n",
    "    plt.axhline(y=theoretical_probability, color='r', linestyle='-', label=\"Theoretical Probability\")\n",
    "    plt.title(\"Simulation of Three of a Kind Probability\")\n",
    "    plt.xlabel(\"Number of Trials\")\n",
    "    plt.ylabel(\"Proportion of Three of a Kind\")\n",
    "    plt.legend()\n",
    "    plt.show()\n",
    "    \n",
    "    return proportions[-1]\n",
    "\n",
    "proportion_with_plot = simulate_three_kind_with_plot()\n",
    "\n",
    "proportion_three_of_a_kind, proportion_with_plot\n",
    "# 4biii) Write your code for Step 2 above this line"
   ]
  },
  {
   "cell_type": "markdown",
   "id": "656bc114",
   "metadata": {
    "deletable": false,
    "editable": false
   },
   "source": [
    "<!-- END QUESTION -->\n",
    "\n",
    "<!-- BEGIN QUESTION -->\n",
    "\n",
    "***\n",
    "[Back to top](#top)\n",
    "\n",
    "<a id='p5'></a>\n",
    "\n",
    "### Problem 5\n",
    "\n",
    "To play a game, you have a bag containing 28 fair [four-sided dice](https://en.wikipedia.org/wiki/Four-sided_die), with faces `{1,2,3,4}`.  This bag also contains 9 fair six-sided dice (faces `{1,2,3,4,5,6}`) and 3 fair twenty-sided dice (faces `{1,2,3,4,...,19,20}`).  Call these 3 classes of die \"Four\", \"Six\" and \"Twenty\" (or $D_4$, $D_6$, and $D_{20}$, for short).  You grab one die at random from the box.  \n",
    "\n",
    "Work the following problems by hand and write up your full solution using LaTeX unless otherwise stated (but don't be afraid to simulate to check your result!). "
   ]
  },
  {
   "cell_type": "markdown",
   "id": "fc16aa75",
   "metadata": {
    "deletable": false,
    "editable": false
   },
   "source": [
    "**Part 5A (3 pts)**: You grab one die at random from the box and roll it one time.  What is the probability of the event $R_5$, that you roll a 5? Explain your reasoning mathematically (using LaTeX).   "
   ]
  },
  {
   "cell_type": "markdown",
   "id": "3274be64",
   "metadata": {},
   "source": [
    "To calculate the probability of rolling a 5 $(R_5)$, we must consider the total setup of the game, which includes 28 four-sided dice $(D_4)$, 9 six-sided dice $(D_6)$, and 3 twenty-sided dice $(D_{20})$. Since only the six-sided and twenty-sided dice can result in a roll of 5, the four-sided dice are not relevant for this specific probability.\n",
    "\n",
    "The probability of selecting a specific type of die and then rolling a 5 can be calculated as follows:\n",
    "\n",
    "The probability of choosing a six-sided die $(D_6)$ from the bag is $\\frac{9}{40}$ since there are 9 six-sided dice out of a total of 40 dice.\n",
    "Given that a six-sided die is selected, the probability of rolling a 5 on it is $\\frac{1}{6}$ since there is only one 5 on a six-sided die.\n",
    "The probability of choosing a twenty-sided die $(D_{20})$ from the bag is $\\frac{3}{40}$ since there are 3 twenty-sided dice out of a total of 40 dice.\n",
    "Given that a twenty-sided die is selected, the probability of rolling a 5 on it is $\\frac{1}{20}$ since there is only one 5 on a twenty-sided die.\n",
    "\n",
    "Therefore, the total probability of rolling a 5, $P(R_5)$, can be found by adding the probabilities of each scenario where a 5 is rolled:\n",
    "\n",
    "$P(R_5) = P(D_6) \\times P(5|D_6) + P(D_{20}) \\times P(5|D_{20})$\n",
    "\n",
    "Substituting the values:\n",
    "\n",
    "$P(R_5) = \\frac{9}{40} \\times \\frac{1}{6} + \\frac{3}{40} \\times \\frac{1}{20}$\n",
    "\n",
    "Simplifying:\n",
    "\n",
    "$P(R_5) = \\frac{9}{240} + \\frac{3}{800}$\n",
    "\n",
    "$P(R_5) = \\frac{30}{800} + \\frac{3}{800}$\n",
    "\n",
    "$P(R_5) = \\frac{33}{800}$\n",
    "\n",
    "Therefore, the probability of rolling a 5 when selecting a die at random from the bag is $\\frac{33}{800}$."
   ]
  },
  {
   "cell_type": "markdown",
   "id": "295114bf",
   "metadata": {
    "deletable": false,
    "editable": false
   },
   "source": [
    "<!-- END QUESTION -->\n",
    "\n",
    "To check your answer for 5a, enter the answer you came up with (just the probability) in the cell below. Note that this is just a public test. Full credit requires that you show all your work written in LaTeX and fully justifying your answer in part 5a above."
   ]
  },
  {
   "cell_type": "code",
   "execution_count": 3,
   "id": "74b46d0f",
   "metadata": {
    "tags": []
   },
   "outputs": [],
   "source": [
    "q5a_answer = 33/800"
   ]
  },
  {
   "cell_type": "code",
   "execution_count": 4,
   "id": "7e6c7224",
   "metadata": {
    "deletable": false,
    "editable": false
   },
   "outputs": [
    {
     "data": {
      "text/html": [
       "<p><strong><pre style='display: inline;'>q5acheck</pre></strong> passed! 🌈</p>"
      ],
      "text/plain": [
       "q5acheck results: All test cases passed!"
      ]
     },
     "execution_count": 4,
     "metadata": {},
     "output_type": "execute_result"
    }
   ],
   "source": [
    "grader.check(\"q5acheck\")"
   ]
  },
  {
   "cell_type": "markdown",
   "id": "b1bef844",
   "metadata": {
    "deletable": false,
    "editable": false
   },
   "source": [
    "<!-- BEGIN QUESTION -->\n",
    "\n",
    "**Part 5B (3 pts)**: Suppose you roll a 5.  Given this information, what is the probability that the die you chose from the box is a Six-sided die? Write up your full solution using LaTeX. Show all steps.  "
   ]
  },
  {
   "cell_type": "markdown",
   "id": "9dd49b95",
   "metadata": {},
   "source": [
    "To find the probability that the die chosen is a six-sided die given that a 5 was rolled, we use Bayes' Theorem. Bayes' Theorem relates the conditional and marginal probabilities of random events:\n",
    "\n",
    "$P(A|B) = \\frac{P(B|A) \\cdot P(A)}{P(B)}$\n",
    "\n",
    "Here, we want to find $P(D_6|R_5)$, which is the probability that we chose a six-sided die $(D_6)$ given that we rolled a 5 $(R_5)$.\n",
    "\n",
    "From the previous setup, we know:\n",
    "$P(R_5|D_6) = \\frac{1}{6}$, the probability of rolling a 5 given that the die is six-sided.\n",
    "$P(D_6) = \\frac{9}{40}$, the prior probability of choosing a six-sided die.\n",
    "$P(R_5) = \\frac{33}{800}$, the total probability of rolling a 5 with any die, calculated as follows:\n",
    "\n",
    "$P(R_5) = P(R_5|D_6) \\cdot P(D_6) + P(R_5|D_{20}) \\cdot P(D_{20})$\n",
    "\n",
    "Given that:\n",
    "$P(R_5|D_{20}) = \\frac{1}{20}$, the probability of rolling a 5 given that the die is twenty-sided.\n",
    "$P(D_{20}) = \\frac{3}{40}$, the probability of choosing a twenty-sided die.\n",
    "\n",
    "Using Bayes' Theorem:\n",
    "\n",
    "$P(D_6|R_5) = \\frac{P(R_5|D_6) \\cdot P(D_6)}{P(R_5)}$\n",
    "\n",
    "Substituting the known values:\n",
    "\n",
    "$P(D_6|R_5) = \\frac{\\frac{1}{6} \\cdot \\frac{9}{40}}{\\frac{33}{800}}$\n",
    "\n",
    "Simplify the expression to calculate the probability:\n",
    "\n",
    "$P(D_6|R_5) = \\frac{\\frac{9}{240}}{\\frac{33}{800}}$\n",
    "\n",
    "$P(D_6|R_5) = \\frac{9}{240} \\cdot \\frac{800}{33}$\n",
    "\n",
    "$P(D_6|R_5) = \\frac{9 \\cdot 800}{240 \\cdot 33}$\n",
    "\n",
    "$P(D_6|R_5) = \\frac{3 \\cdot 800}{80 \\cdot 33}$\n",
    "\n",
    "$P(D_6|R_5) = \\frac{800}{880}$\n",
    "\n",
    "$P(D_6|R_5) = \\frac{800}{880} = \\frac{10}{11}$"
   ]
  },
  {
   "cell_type": "markdown",
   "id": "f0dcffd4",
   "metadata": {
    "deletable": false,
    "editable": false
   },
   "source": [
    "<!-- END QUESTION -->\n",
    "\n",
    "To check your answer for 5b, enter the answer you came up with (just the probability) in the cell below. Note that this is just a public test. Full credit requires that you show all your work written in LaTeX and fully justifying your answer in part 5b above."
   ]
  },
  {
   "cell_type": "code",
   "execution_count": 5,
   "id": "4347169f",
   "metadata": {
    "tags": []
   },
   "outputs": [],
   "source": [
    "q5b_answer = 10/11"
   ]
  },
  {
   "cell_type": "code",
   "execution_count": 6,
   "id": "c18b6c65",
   "metadata": {
    "deletable": false,
    "editable": false
   },
   "outputs": [
    {
     "data": {
      "text/html": [
       "<p><strong><pre style='display: inline;'>q5bcheck</pre></strong> passed! ✨</p>"
      ],
      "text/plain": [
       "q5bcheck results: All test cases passed!"
      ]
     },
     "execution_count": 6,
     "metadata": {},
     "output_type": "execute_result"
    }
   ],
   "source": [
    "grader.check(\"q5bcheck\")"
   ]
  },
  {
   "cell_type": "markdown",
   "id": "58bcab0a",
   "metadata": {
    "deletable": false,
    "editable": false
   },
   "source": [
    "<!-- BEGIN QUESTION -->\n",
    "\n",
    "**Part 5C (2 pts):**  Are the events $R_5$ and $D_6$ independent?  Write up your full solution using LaTeX. Show all steps. Justify your answer **using the mathematical definition of independence**."
   ]
  },
  {
   "cell_type": "markdown",
   "id": "b24b1b85",
   "metadata": {},
   "source": [
    "To determine if the events R_5 (rolling a 5) and D_6 (selecting a six-sided die) are independent, we refer to the mathematical definition of independence. Two events, A and B, are independent if and only if:\n",
    "\n",
    "$P(A \\cap B) = P(A) \\cdot P(B)$\n",
    "\n",
    "For our scenario, the events R_5 and D_6 would be independent if:\n",
    "\n",
    "$P(R_5 \\cap D_6) = P(R_5) \\cdot P(D_6)$\n",
    "\n",
    "From previous calculations, we have:\n",
    "\n",
    "$P(R_5) = \\frac{33}{800}$, the probability of rolling a 5 with any die.\n",
    "\n",
    "$P(D_6) = \\frac{9}{40}$, the probability of selecting a six-sided die.\n",
    "\n",
    "The probability of $R_5 \\cap D_6$ is the probability of selecting a six-sided die and rolling a 5 with it, which is calculated as:\n",
    "\n",
    "$P(R_5 \\cap D_6) = P(R_5 | D_6) \\cdot P(D_6)$\n",
    "\n",
    "Given that:\n",
    "\n",
    "$P(R_5 | D_6) = \\frac{1}{6}$, the probability of rolling a 5 given that a six-sided die is selected.\n",
    "\n",
    "Substituting the given values:\n",
    "\n",
    "$P(R_5 \\cap D_6) = \\frac{1}{6} \\cdot \\frac{9}{40}$\n",
    "\n",
    "Simplifying:\n",
    "\n",
    "$P(R_5 \\cap D_6) = \\frac{9}{240}$\n",
    "\n",
    "Now, to verify independence, we calculate $P(R_5) \\cdot P(D_6)$ and compare:\n",
    "\n",
    "$P(R_5) \\cdot P(D_6) = \\frac{33}{800} \\cdot \\frac{9}{40}$\n",
    "\n",
    "Simplifying:\n",
    "\n",
    "$P(R_5) \\cdot P(D_6) = \\frac{297}{32000}$\n",
    "\n",
    "Since $P(R_5 \\cap D_6) \\neq P(R_5) \\cdot P(D_6)$, it indicates that the events $R_5$ and $D_6$ are not independent. The occurrence of both events together does not equal the product of their individual probabilities, showing that the likelihood of rolling a 5 is influenced by the type of die selected, highlighting a dependency between selecting a six-sided die and rolling a 5."
   ]
  },
  {
   "cell_type": "markdown",
   "id": "24638e4a",
   "metadata": {
    "deletable": false,
    "editable": false
   },
   "source": [
    "<!-- END QUESTION -->\n",
    "\n",
    "To check your answer for 5c, enter the answer you came up with as a string (e.g., `'in/dependent'`) in the cell below. Note that this is just a public test. Full credit requires that you show all your work written in LaTeX and fully justifying your answer in part 5c above."
   ]
  },
  {
   "cell_type": "code",
   "execution_count": 10,
   "id": "c2fb3f78",
   "metadata": {
    "tags": []
   },
   "outputs": [],
   "source": [
    "q5c_answer = \"dependent\""
   ]
  },
  {
   "cell_type": "code",
   "execution_count": 11,
   "id": "e265d1a7",
   "metadata": {
    "deletable": false,
    "editable": false
   },
   "outputs": [
    {
     "data": {
      "text/html": [
       "<p><strong><pre style='display: inline;'>q5ccheck</pre></strong> passed! 🌈</p>"
      ],
      "text/plain": [
       "q5ccheck results: All test cases passed!"
      ]
     },
     "execution_count": 11,
     "metadata": {},
     "output_type": "execute_result"
    }
   ],
   "source": [
    "grader.check(\"q5ccheck\")"
   ]
  },
  {
   "cell_type": "markdown",
   "id": "11fbdb39",
   "metadata": {
    "deletable": false,
    "editable": false
   },
   "source": [
    "<!-- BEGIN QUESTION -->\n",
    "\n",
    "***\n",
    "[Back to top](#top)\n",
    "\n",
    "<a id='p6'></a>\n",
    "\n",
    "### Problem 6\n",
    "\n",
    "Suppose you roll two fair six-sided dice.  Let $C$ be the event that the two rolls are _close_ to one another in value, in the sense that they're either equal or differ by only 1.  \n",
    "\n",
    "**Part 6A (3 pts)**: Compute $P(C)$ by hand.  Show all steps using LaTeX.\n"
   ]
  },
  {
   "cell_type": "markdown",
   "id": "d77a9c5c",
   "metadata": {},
   "source": [
    "To compute $P(C)$, the probability that two rolls of fair six-sided dice are close to each other (either equal or differ by only 1), we enumerate the outcomes that satisfy this condition.\n",
    "\n",
    "There are a total of $6 \\times 6 = 36$ possible outcomes when rolling two six-sided dice, since each die has 6 faces.\n",
    "\n",
    "The outcomes where the two rolls are close to each other (equal or differ by 1) include:\n",
    "\n",
    "Equal: (1,1), (2,2), (3,3), (4,4), (5,5), (6,6) - 6 outcomes.\n",
    "\n",
    "Differ by 1: (1,2), (2,1), (2,3), (3,2), (3,4), (4,3), (4,5), (5,4), (5,6), (6,5) - 10 outcomes.\n",
    "\n",
    "Therefore, the probability P(C) is given by the ratio of the number of favorable outcomes to the total number of outcomes:\n",
    "\n",
    "$P(C) = \\frac{16}{36}$\n",
    "\n",
    "So, the probability that the two rolls are close to each other is $\\frac{16}{36}$."
   ]
  },
  {
   "cell_type": "markdown",
   "id": "e914779b",
   "metadata": {
    "deletable": false,
    "editable": false
   },
   "source": [
    "<!-- END QUESTION -->\n",
    "\n",
    "To check your answer for 6a, enter the answer you came up with (just the probability) in the cell below. Note that this is just a public test. Full credit requires that you show all your work written in LaTeX and fully justifying your answer in part 6a above."
   ]
  },
  {
   "cell_type": "code",
   "execution_count": 14,
   "id": "95ffa14f",
   "metadata": {
    "tags": []
   },
   "outputs": [],
   "source": [
    "q6a_answer = 16/36"
   ]
  },
  {
   "cell_type": "code",
   "execution_count": 15,
   "id": "3185fe73",
   "metadata": {
    "deletable": false,
    "editable": false
   },
   "outputs": [
    {
     "data": {
      "text/html": [
       "<p><strong><pre style='display: inline;'>q6acheck</pre></strong> passed! 🌟</p>"
      ],
      "text/plain": [
       "q6acheck results: All test cases passed!"
      ]
     },
     "execution_count": 15,
     "metadata": {},
     "output_type": "execute_result"
    }
   ],
   "source": [
    "grader.check(\"q6acheck\")"
   ]
  },
  {
   "cell_type": "markdown",
   "id": "74cc8948",
   "metadata": {
    "deletable": false,
    "editable": false
   },
   "source": [
    "<!-- BEGIN QUESTION -->\n",
    "\n",
    "**Part 6B (3 pts)**: \n",
    "Write a simulation to run 10,000 trials of rolling a pair of dice and estimate the value of $P(C)$ you calculated in **Part A**.  Your estimate should agree with the exact calculation you did in **Part A**.  If it doesn't, try increasing the number of trials in your simulation. "
   ]
  },
  {
   "cell_type": "code",
   "execution_count": 1,
   "id": "a22a53f9",
   "metadata": {
    "tags": []
   },
   "outputs": [
    {
     "data": {
      "text/plain": [
       "0.44268"
      ]
     },
     "execution_count": 1,
     "metadata": {},
     "output_type": "execute_result"
    }
   ],
   "source": [
    "import numpy as np\n",
    "\n",
    "def roll_dice():\n",
    "    return np.random.randint(1, 7), np.random.randint(1, 7)\n",
    "\n",
    "def is_close(roll1, roll2):\n",
    "    return roll1 == roll2 or abs(roll1 - roll2) == 1\n",
    "\n",
    "trials = 50000\n",
    "close_rolls = sum(is_close(*roll_dice()) for _ in range(trials))\n",
    "\n",
    "estimate_p_c = close_rolls / trials\n",
    "estimate_p_c\n",
    "#Your code above this line"
   ]
  },
  {
   "cell_type": "markdown",
   "id": "051be3a3",
   "metadata": {
    "deletable": false,
    "editable": false
   },
   "source": [
    "<!-- END QUESTION -->\n",
    "\n",
    "<!-- BEGIN QUESTION -->\n",
    "\n",
    "##### **Part 6C (3 pts)**:  \n",
    "In class we plotted a running estimate of the probability of an event as a function of the number of trials in our simulation.  Write code to run 5 independent simulations of 50,000 trials each to estimate $P(C)$ and plot their running estimate curves on the same set of axes. **Hint**: This is a lot of computation, so try to leverage Numpy as much as possible so that your code doesn't run forever. \n",
    "\n",
    "**Include a red horizontal line on your plot with the theoretical probability that you calculated in part 6A.**  Be sure to include a title on your plot and be sure to label both your axes on the plot."
   ]
  },
  {
   "cell_type": "code",
   "execution_count": 2,
   "id": "f9032ffe",
   "metadata": {
    "tags": []
   },
   "outputs": [
    {
     "data": {
      "image/png": "[encoded data removed]",
      "text/plain": [
       "<Figure size 1000x600 with 1 Axes>"
      ]
     },
     "metadata": {},
     "output_type": "display_data"
    }
   ],
   "source": [
    "%%time\n",
    "import matplotlib.pyplot as plt\n",
    "\n",
    "num_simulations = 5\n",
    "num_trials = 50000\n",
    "\n",
    "# Theoretical probability from Part 6A\n",
    "theoretical_p_c = 16/36\n",
    "\n",
    "plt.figure(figsize=(10, 6))\n",
    "\n",
    "for _ in range(num_simulations):\n",
    "    rolls1 = np.random.randint(1, 7, num_trials)\n",
    "    rolls2 = np.random.randint(1, 7, num_trials)\n",
    "    \n",
    "    closeness = np.abs(rolls1 - rolls2) <= 1\n",
    "    \n",
    "    running_estimate = np.cumsum(closeness) / np.arange(1, num_trials + 1)\n",
    "    \n",
    "    plt.plot(running_estimate, label=\"Simulation\")\n",
    "\n",
    "plt.axhline(y=theoretical_p_c, color='r', linestyle='-', label=\"Theoretical Probability\")\n",
    "\n",
    "plt.title(\"Running Estimate of $P(C)$ for Two Dice Rolls\")\n",
    "plt.xlabel(\"Number of Trials\")\n",
    "plt.ylabel(\"Estimated Probability of $P(C)$\")\n",
    "plt.legend()\n",
    "\n",
    "plt.show()\n",
    "# Your code above this line"
   ]
  },
  {
   "cell_type": "markdown",
   "id": "c1c71570",
   "metadata": {
    "deletable": false,
    "editable": false
   },
   "source": [
    "<!-- END QUESTION -->\n",
    "\n",
    "<!-- BEGIN QUESTION -->\n",
    "\n",
    "**Part 6D (1 pt)**: Describe the behavior of the running estimates as the number of trials increases.\n",
    "\n",
    "i).  What value(s) are they converging to?  \n",
    "ii).  How many trials does it take until they appear to converge?"
   ]
  },
  {
   "cell_type": "markdown",
   "id": "ee9f2aab",
   "metadata": {},
   "source": [
    "i). The running estimates are converging to the theoretical probability of P(C)=4/9, or approximately 0.4444. This value represents the likelihood that two rolls of fair six-sided dice will either be equal or differ by only 1.\n",
    "\n",
    "ii). Observing the plot, the running estimates appear to begin converging towards the theoretical value fairly quickly, within the first few thousand trials. However, for the convergence to appear stable and consistent across all simulations, it typically takes around 10,000 to 20,000 trials. Beyond this point, the fluctuations around the theoretical value become less pronounced, and the running estimates appear more consistently close to 4/9."
   ]
  },
  {
   "cell_type": "markdown",
   "id": "cf1943b4",
   "metadata": {
    "deletable": false,
    "editable": false
   },
   "source": [
    "<!-- END QUESTION -->\n",
    "\n",
    "<!-- BEGIN QUESTION -->\n",
    "\n",
    "[Back to top](#top)\n",
    "\n",
    "<a id='p7'></a>\n",
    "\n",
    "## Problem 7    \n",
    "    \n",
    "Three brands of coffee, $X$, $Y$ and $Z$, are to be ranked according to taste by a single judge.  Define the following events:\n",
    "\n",
    "Event A: Brand $X$ is preferred to $Y$\n",
    "\n",
    "Event B: Brand $X$ is ranked best.\n",
    "\n",
    "Event C: Brand $X$ is ranked second best.\n",
    "\n",
    "Event D: Brand $X$ is ranked third best.\n",
    "\n",
    "If the judge actually has no taste preference and just randomly assigns ranks to the brands, which of the following events are independent and which are dependent?  Justify your answers using the mathematical definition of independence.  Write up your full solution using LaTeX.\n",
    "\n",
    "**Part 7a (2 pts)**.  Are events $A$ and $B$ independent or dependent?\n",
    "\n",
    "**Part 7b (2 pts)**. Are events $A$ and $C$ independent or dependent?\n",
    "\n",
    "**Part 7c (2 pts)**. Are events $A$ and $D$ independent or dependent?\n",
    "\n",
    "Answer all 3 parts using LaTeX in the ONE cell provided below.  "
   ]
  },
  {
   "cell_type": "markdown",
   "id": "10ba86d8",
   "metadata": {},
   "source": [
    "To determine if events are independent or dependent, we use the mathematical definition of independence. Two events, E and F, are independent if and only if:\n",
    "\n",
    "$P(E \\cap F) = P(E) \\cdot P(F)$\n",
    "\n",
    "**Part 7a (Events A and B):**\n",
    "\n",
    "Since $P(A \\cap B) = P(B) \\neq P(A) \\cdot P(B)$, Events A and B are dependent.\n",
    "\n",
    "**Part 7b (Events A and C):**\n",
    "\n",
    "Since $P(A \\cap C) \\neq P(A) \\cdot P(C)$, Events A and C are independent.\n",
    "\n",
    "**Part 7c (Events A and D):**\n",
    "\n",
    "Since $P(A \\cap D) \\neq P(A) \\cdot P(D)$, Events A and D are dependent."
   ]
  },
  {
   "cell_type": "markdown",
   "id": "dcde8c8b",
   "metadata": {
    "deletable": false,
    "editable": false
   },
   "source": [
    "<!-- END QUESTION -->\n",
    "\n",
    "To check your answer for Problem 7, enter the answer you came up as a list of strings (`['in/dependent', 'in/dependent', 'in/dependent']`) in the cell below. Note that this is just a public test. Full credit requires that you show all your work written in LaTeX and fully justifying your answer above."
   ]
  },
  {
   "cell_type": "code",
   "execution_count": 20,
   "id": "9d9b3549",
   "metadata": {
    "tags": []
   },
   "outputs": [],
   "source": [
    "q7_answer = \"dependent\", \"independent\", \"dependent\""
   ]
  },
  {
   "cell_type": "code",
   "execution_count": 21,
   "id": "9fe842e9",
   "metadata": {
    "deletable": false,
    "editable": false
   },
   "outputs": [
    {
     "data": {
      "text/html": [
       "<p><strong><pre style='display: inline;'>q7check</pre></strong> passed! 🚀</p>"
      ],
      "text/plain": [
       "q7check results: All test cases passed!"
      ]
     },
     "execution_count": 21,
     "metadata": {},
     "output_type": "execute_result"
    }
   ],
   "source": [
    "grader.check(\"q7check\")"
   ]
  },
  {
   "cell_type": "markdown",
   "id": "169d7663",
   "metadata": {},
   "source": [
    "<br/><br/>\n",
    "<hr style=\"border: 5px solid #003262;\" />\n",
    "<hr style=\"border: 1px solid #fdb515;\" />\n",
    "\n",
    "## Congratulations! You have finished Homework 5!"
   ]
  },
  {
   "cell_type": "markdown",
   "id": "cc31acf9",
   "metadata": {},
   "source": [
    "If you discussed this assignment with any other students in the class (in a manner that is acceptable as described by the Collaboration policy above) please **include their names** here:\n",
    "\n",
    "**Collaborators**: *list collaborators here*"
   ]
  },
  {
   "cell_type": "markdown",
   "id": "46739932",
   "metadata": {},
   "source": [
    "### Submission Instructions\n",
    "\n",
    "Before proceeding any further, **save this notebook.**\n",
    "\n",
    "After running the `grader.export()` cell provided below, **2 files will be created**: a zip file and pdf file.  You can download them using the links provided below OR by finding them in the same folder where this juptyer notebook resides in your JuptyerHub.\n",
    "\n",
    "To receive credit on this assignment, **you must submit BOTH of these files\n",
    "to their respective Gradescope portals:** \n",
    "\n",
    "* **Homework 5 Autograded**: Submit the zip file that is output by the `grader.export()` cell below to the HW5 Autograded assignment in Gradescope.\n",
    "\n",
    "* **Homework 5 Manually Graded**: Submit your hw05.PDF to the HW1 Manually Graded assignment in Gradescope.  \n",
    "\n",
    "\n",
    "**You are responsible for ensuring your submission follows our requirements. We will not be granting regrade requests nor extensions to submissions that don't follow instructions.** If you encounter any difficulties with submission, please don't hesitate to reach out to staff prior to the deadline."
   ]
  },
  {
   "cell_type": "markdown",
   "id": "b01ef8ad",
   "metadata": {
    "deletable": false,
    "editable": false
   },
   "source": [
    "## Submission\n",
    "\n",
    "Make sure you have run all cells in your notebook in order before running the cell below, so that all images/graphs appear in the output. The cell below will generate a zip file for you to submit. **Please save before exporting!**\n",
    "\n",
    "AFTER running the cell below, click on <a href='hw05.pdf' download>this link to download the PDF </a> to upload to Gradescope.  There will be a separate link that appears after running the cell below with a link to download the zip file to upload to Gradescope."
   ]
  },
  {
   "cell_type": "code",
   "execution_count": 27,
   "id": "76295e41",
   "metadata": {
    "deletable": false,
    "editable": false
   },
   "outputs": [
    {
     "name": "stdout",
     "output_type": "stream",
     "text": [
      "Running your submission against local test cases...\n",
      "\n",
      "\n",
      "\n",
      "Your submission received the following results when run against available test cases:\n",
      "\n",
      "    q1a results: All test cases passed!\n",
      "\n",
      "    q1b results: All test cases passed!\n",
      "\n",
      "    q1c results: All test cases passed!\n",
      "\n",
      "    q14 results: All test cases passed!\n",
      "\n",
      "    q2acheck results: All test cases passed!\n",
      "\n",
      "    q2bcheck results: All test cases passed!\n",
      "\n",
      "    q3check results: All test cases passed!\n",
      "\n",
      "    q4acheck results: All test cases passed!\n",
      "\n",
      "    q4i results: All test cases passed!\n",
      "\n",
      "    q4ii results: All test cases passed!\n",
      "\n",
      "    q5acheck results: All test cases passed!\n",
      "\n",
      "    q5bcheck results: All test cases passed!\n",
      "\n",
      "    q5ccheck results: All test cases passed!\n",
      "\n",
      "    q6acheck results: All test cases passed!\n",
      "\n",
      "    q7check results: All test cases passed!\n"
     ]
    },
    {
     "data": {
      "text/html": [
       "\n",
       "                    <p>\n",
       "                        Your submission has been exported. Click\n",
       "                        <a href=\"hw05_2024_02_19T00_04_27_224159.zip\" download=\"hw05_2024_02_19T00_04_27_224159.zip\" target=\"_blank\">here</a> to download\n",
       "                        the zip file.\n",
       "                    </p>\n",
       "                "
      ],
      "text/plain": [
       "<IPython.core.display.HTML object>"
      ]
     },
     "metadata": {},
     "output_type": "display_data"
    }
   ],
   "source": [
    "# Save your notebook first, then run this cell to export your submission.\n",
    "grader.export(run_tests=True)"
   ]
  },
  {
   "cell_type": "markdown",
   "id": "37440dcb",
   "metadata": {},
   "source": [
    " "
   ]
  }
 ],
 "metadata": {
  "kernelspec": {
   "display_name": "Python 3 (ipykernel)",
   "language": "python",
   "name": "python3"
  },
  "language_info": {
   "codemirror_mode": {
    "name": "ipython",
    "version": 3
   },
   "file_extension": ".py",
   "mimetype": "text/x-python",
   "name": "python",
   "nbconvert_exporter": "python",
   "pygments_lexer": "ipython3",
   "version": "3.10.8"
  },
  "otter": {
   "OK_FORMAT": true,
   "tests": {
    "q14": {
     "name": "q14",
     "points": 1,
     "suites": [
      {
       "cases": [
        {
         "code": ">>> assert np.isclose(lone_winners,(18/38)**10 + (18/38)**10 + (2/38)**10 )\n",
         "hidden": false,
         "locked": false
        }
       ],
       "scored": true,
       "setup": "",
       "teardown": "",
       "type": "doctest"
      }
     ]
    },
    "q1a": {
     "name": "q1a",
     "points": 1,
     "suites": [
      {
       "cases": [
        {
         "code": ">>> \n>>> assert np.isclose(first_three_black, (18/38)**3 )\n",
         "hidden": false,
         "locked": false
        }
       ],
       "scored": true,
       "setup": "",
       "teardown": "",
       "type": "doctest"
      }
     ]
    },
    "q1b": {
     "name": "q1b",
     "points": 1,
     "suites": [
      {
       "cases": [
        {
         "code": ">>> assert np.isclose(no_green, (36/38)**10)\n",
         "hidden": false,
         "locked": false
        }
       ],
       "scored": true,
       "setup": "",
       "teardown": "",
       "type": "doctest"
      }
     ]
    },
    "q1c": {
     "name": "q1c",
     "points": 1,
     "suites": [
      {
       "cases": [
        {
         "code": ">>> assert np.isclose(at_least_one_green, 1 - (36/38)**10)\n",
         "hidden": false,
         "locked": false
        }
       ],
       "scored": true,
       "setup": "",
       "teardown": "",
       "type": "doctest"
      }
     ]
    },
    "q2acheck": {
     "name": "q2acheck",
     "points": 0,
     "suites": [
      {
       "cases": [
        {
         "code": ">>> assert np.isclose(q2a_answer, 0.1)\n",
         "hidden": false,
         "locked": false
        }
       ],
       "scored": true,
       "setup": "",
       "teardown": "",
       "type": "doctest"
      }
     ]
    },
    "q2bcheck": {
     "name": "q2bcheck",
     "points": 0,
     "suites": [
      {
       "cases": [
        {
         "code": ">>> assert np.isclose(q2b_answer, 5/8)\n",
         "hidden": false,
         "locked": false
        }
       ],
       "scored": true,
       "setup": "",
       "teardown": "",
       "type": "doctest"
      }
     ]
    },
    "q3check": {
     "name": "q3check",
     "points": 0,
     "suites": [
      {
       "cases": [
        {
         "code": ">>> assert np.isclose(q3a_answer, 45/241)\n",
         "hidden": false,
         "locked": false
        }
       ],
       "scored": true,
       "setup": "",
       "teardown": "",
       "type": "doctest"
      }
     ]
    },
    "q4acheck": {
     "name": "q4acheck",
     "points": 0,
     "suites": [
      {
       "cases": [
        {
         "code": ">>> assert np.isclose(q4a_answer, 88/4165)\n",
         "hidden": false,
         "locked": false
        }
       ],
       "scored": true,
       "setup": "",
       "teardown": "",
       "type": "doctest"
      }
     ]
    },
    "q4i": {
     "name": "q4i",
     "points": 2,
     "suites": [
      {
       "cases": [
        {
         "code": ">>> assert len(cards) == 52\n",
         "hidden": false,
         "locked": false
        },
        {
         "code": ">>> a=set(cards)\n>>> \n>>> b=set(['C10','C2','C3','C4','C5','C6','C7','C8','C9','CA','CJ','CK','CQ','D10','D2','D3','D4','D5','D6','D7','D8','D9','DA','DJ','DK','DQ','H10','H2','H3','H4','H5','H6','H7','H8','H9','HA','HJ','HK','HQ','S10','S2','S3','S4','S5','S6','S7','S8','S9','SA','SJ','SK','SQ'])\n>>> \n>>> assert a==b\n",
         "hidden": false,
         "locked": false
        }
       ],
       "scored": true,
       "setup": "",
       "teardown": "",
       "type": "doctest"
      }
     ]
    },
    "q4ii": {
     "name": "q4ii",
     "points": 3,
     "suites": [
      {
       "cases": [
        {
         "code": ">>> assert (three_kind(['H3', 'S3', 'D3', 'H4', 'C5']) == True)\n",
         "hidden": false,
         "locked": false
        },
        {
         "code": ">>> assert (three_kind(['C4', 'D4', 'S4', 'H4', 'H2']) == False)\n",
         "hidden": false,
         "locked": false
        },
        {
         "code": ">>> assert (three_kind(['SA', 'S4', 'S4', 'H5', 'H2']) == False)\n",
         "hidden": false,
         "locked": false
        },
        {
         "code": ">>> assert (three_kind(['SA', 'DA', 'HA', 'C5', 'H5']) == False)\n",
         "hidden": false,
         "locked": false
        }
       ],
       "scored": true,
       "setup": "",
       "teardown": "",
       "type": "doctest"
      }
     ]
    },
    "q5acheck": {
     "name": "q5acheck",
     "points": 0,
     "suites": [
      {
       "cases": [
        {
         "code": ">>> assert np.isclose(q5a_answer, 33/800)\n",
         "hidden": false,
         "locked": false
        }
       ],
       "scored": true,
       "setup": "",
       "teardown": "",
       "type": "doctest"
      }
     ]
    },
    "q5bcheck": {
     "name": "q5bcheck",
     "points": 0,
     "suites": [
      {
       "cases": [
        {
         "code": ">>> assert np.isclose(q5b_answer, 10/11)\n",
         "hidden": false,
         "locked": false
        }
       ],
       "scored": true,
       "setup": "",
       "teardown": "",
       "type": "doctest"
      }
     ]
    },
    "q5ccheck": {
     "name": "q5ccheck",
     "points": 0,
     "suites": [
      {
       "cases": [
        {
         "code": ">>> assert q5c_answer.lower() == 'dependent'\n",
         "hidden": false,
         "locked": false
        }
       ],
       "scored": true,
       "setup": "",
       "teardown": "",
       "type": "doctest"
      }
     ]
    },
    "q6acheck": {
     "name": "q6acheck",
     "points": 0,
     "suites": [
      {
       "cases": [
        {
         "code": ">>> assert np.isclose(q6a_answer, 16/36)\n",
         "hidden": false,
         "locked": false
        }
       ],
       "scored": true,
       "setup": "",
       "teardown": "",
       "type": "doctest"
      }
     ]
    },
    "q7check": {
     "name": "q7check",
     "points": 0,
     "suites": [
      {
       "cases": [
        {
         "code": ">>> assert [x.lower() for x in q7_answer] == ['dependent', 'independent', 'dependent']\n",
         "hidden": false,
         "locked": false
        }
       ],
       "scored": true,
       "setup": "",
       "teardown": "",
       "type": "doctest"
      }
     ]
    }
   }
  }
 },
 "nbformat": 4,
 "nbformat_minor": 5
}
