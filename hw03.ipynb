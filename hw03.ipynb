{
 "cells": [
  {
   "cell_type": "code",
   "execution_count": 10,
   "id": "1675cdc5",
   "metadata": {
    "deletable": false,
    "editable": false
   },
   "outputs": [],
   "source": [
    "# Initialize Otter\n",
    "import otter\n",
    "grader = otter.Notebook(\"hw03.ipynb\")"
   ]
  },
  {
   "cell_type": "markdown",
   "id": "a552e640",
   "metadata": {},
   "source": [
    "### Importing Libraries and Magic Commands\n",
    "\n",
    "In CSPB 3022, we will be using common Python libraries to help us process data. By convention, we import all libraries at the very top of the notebook. There are also a set of standard aliases that are used to shorten the library names. Below are some of the libraries that you may encounter throughout the course, along with their respective aliases."
   ]
  },
  {
   "cell_type": "code",
   "execution_count": 11,
   "id": "721febdf",
   "metadata": {},
   "outputs": [],
   "source": [
    "import numpy as np\n",
    "import matplotlib.pyplot as plt\n",
    "import pandas as pd\n",
    "import plotly.express as px\n",
    "%matplotlib inline"
   ]
  },
  {
   "cell_type": "markdown",
   "id": "380021a2",
   "metadata": {},
   "source": [
    "<a id='verytop'></a>\n",
    "\n",
    "# Homework 3: Practicing with Pandas\n",
    "\n",
    "## Due on Gradescope\n",
    "\n",
    "\n",
    "### Detailed Submission Instructions Are Provided at the end of this Notebook\n",
    "\n",
    "\n",
    "\n",
    "\n",
    "\n",
    "\n",
    "\n",
    "## Collaboration Policy\n",
    "\n",
    "Data science is a collaborative activity.  However a key step in learning and retention is **creating solutions on your own.**  \n",
    "\n",
    "Please see the **Course Syllabus for the Collaboration Policy**.\n",
    "\n",
    "On the other hand, the following are some **examples of things which would NOT usually be\n",
    "considered to be cheating**:\n",
    " - Working on a HW problem on your own first and then discussing with a classmate a particular part in the problem solution where you are stuck.  After clarifying any questions you should then continue to write your solution independently.\n",
    " - Asking someone (or searching online) how a particular construct in the language works.\n",
    " - Asking someone (or searching online) how to formulate a particular construct in the language.\n",
    " - Asking someone for help in finding an error in your program.  \n",
    " - Asking someone why a particular construct does not work as you expected in a given program.\n",
    "   \n",
    "\n",
    "To test whether you are truly doing your own work and retaining what you've learned you should be able to easily reproduce from scratch and explain a HW solution that was your own when asked in office hours by an Instructor or on a quiz/exam.   \n",
    "\n",
    "\n",
    "If you have difficulty in formulating the general solution to a problem on your own, or\n",
    "you have difficulty in translating that general solution into a program, it is advisable to see\n",
    "your instructor.\n",
    "\n",
    "We are here to help!  Visit HW Hours and/or post questions on Piazza!\n",
    "\n"
   ]
  },
  {
   "cell_type": "markdown",
   "id": "e4d8a09d",
   "metadata": {},
   "source": [
    "If while completing this assignment you reference any websites other than those linked in this assignment or provided on Canvas please list those references here:\n",
    "\n",
    "**External references**:  *list any websites you referenced"
   ]
  },
  {
   "cell_type": "markdown",
   "id": "24b45ac0",
   "metadata": {},
   "source": [
    "## Grading\n",
    "Grading is broken down into autograded answers and manually graded answers. \n",
    "\n",
    "For autograded answers, the results of your code are compared to provided and/or hidden tests.\n",
    "\n",
    "For manually graded answers you must show and explain all steps.  Graders will evaluate how well you answered the question and/or fulfilled the requirements of the question.\n",
    "\n",
    "\n",
    "### Score breakdown\n",
    "\n",
    "\n",
    "\n",
    "Question | Points | Grading Type\n",
    "--- | --- | ---\n",
    "Question 1a | 5 | autograded\n",
    "Question 1b | 5 | autograded\n",
    "Question 1c | 5 | autograded\n",
    "Question 2 | 5 | autograded\n",
    "Question 3a | 5 | autograded\n",
    "Question 3b | 3 | manual\n",
    "Question 4ai | 4 | autograded\n",
    "Question 4aii | 1 | autograded\n",
    "Question 4bi | 4 | autograded\n",
    "Question 4bii | 1 | autograded\n",
    "Question 4c | 4 | autograded\n",
    "Question 4d | 6 | manual\n",
    "Question 4e | 2 | manual\n",
    "|Total | 50"
   ]
  },
  {
   "cell_type": "markdown",
   "id": "c0eec3bc",
   "metadata": {},
   "source": [
    "<hr style=\"border: 5px solid #003262;\" />\n",
    "<hr style=\"border: 1px solid #fdb515;\" />\n",
    "\n"
   ]
  },
  {
   "cell_type": "markdown",
   "id": "3aaad965",
   "metadata": {},
   "source": [
    "### Question 1: Elections"
   ]
  },
  {
   "cell_type": "markdown",
   "id": "451db535",
   "metadata": {},
   "source": [
    "**Review**: Let's start by reading in the election dataset from the pandas lectures."
   ]
  },
  {
   "cell_type": "code",
   "execution_count": 12,
   "id": "4d3368a1",
   "metadata": {
    "ExecuteTime": {
     "end_time": "2020-09-16T20:55:15.205576Z",
     "start_time": "2020-09-16T20:55:15.194080Z"
    }
   },
   "outputs": [
    {
     "data": {
      "text/html": [
       "<div>\n",
       "<style scoped>\n",
       "    .dataframe tbody tr th:only-of-type {\n",
       "        vertical-align: middle;\n",
       "    }\n",
       "\n",
       "    .dataframe tbody tr th {\n",
       "        vertical-align: top;\n",
       "    }\n",
       "\n",
       "    .dataframe thead th {\n",
       "        text-align: right;\n",
       "    }\n",
       "</style>\n",
       "<table border=\"1\" class=\"dataframe\">\n",
       "  <thead>\n",
       "    <tr style=\"text-align: right;\">\n",
       "      <th></th>\n",
       "      <th>Year</th>\n",
       "      <th>Candidate</th>\n",
       "      <th>Party</th>\n",
       "      <th>Popular vote</th>\n",
       "      <th>Result</th>\n",
       "      <th>%</th>\n",
       "    </tr>\n",
       "  </thead>\n",
       "  <tbody>\n",
       "    <tr>\n",
       "      <th>0</th>\n",
       "      <td>1824</td>\n",
       "      <td>Andrew Jackson</td>\n",
       "      <td>Democratic-Republican</td>\n",
       "      <td>151271</td>\n",
       "      <td>loss</td>\n",
       "      <td>57.210122</td>\n",
       "    </tr>\n",
       "    <tr>\n",
       "      <th>1</th>\n",
       "      <td>1824</td>\n",
       "      <td>John Quincy Adams</td>\n",
       "      <td>Democratic-Republican</td>\n",
       "      <td>113142</td>\n",
       "      <td>win</td>\n",
       "      <td>42.789878</td>\n",
       "    </tr>\n",
       "    <tr>\n",
       "      <th>2</th>\n",
       "      <td>1828</td>\n",
       "      <td>Andrew Jackson</td>\n",
       "      <td>Democratic</td>\n",
       "      <td>642806</td>\n",
       "      <td>win</td>\n",
       "      <td>56.203927</td>\n",
       "    </tr>\n",
       "    <tr>\n",
       "      <th>3</th>\n",
       "      <td>1828</td>\n",
       "      <td>John Quincy Adams</td>\n",
       "      <td>National Republican</td>\n",
       "      <td>500897</td>\n",
       "      <td>loss</td>\n",
       "      <td>43.796073</td>\n",
       "    </tr>\n",
       "    <tr>\n",
       "      <th>4</th>\n",
       "      <td>1832</td>\n",
       "      <td>Andrew Jackson</td>\n",
       "      <td>Democratic</td>\n",
       "      <td>702735</td>\n",
       "      <td>win</td>\n",
       "      <td>54.574789</td>\n",
       "    </tr>\n",
       "  </tbody>\n",
       "</table>\n",
       "</div>"
      ],
      "text/plain": [
       "   Year          Candidate                  Party  Popular vote Result  \\\n",
       "0  1824     Andrew Jackson  Democratic-Republican        151271   loss   \n",
       "1  1824  John Quincy Adams  Democratic-Republican        113142    win   \n",
       "2  1828     Andrew Jackson             Democratic        642806    win   \n",
       "3  1828  John Quincy Adams    National Republican        500897   loss   \n",
       "4  1832     Andrew Jackson             Democratic        702735    win   \n",
       "\n",
       "           %  \n",
       "0  57.210122  \n",
       "1  42.789878  \n",
       "2  56.203927  \n",
       "3  43.796073  \n",
       "4  54.574789  "
      ]
     },
     "execution_count": 12,
     "metadata": {},
     "output_type": "execute_result"
    }
   ],
   "source": [
    "# run this cell\n",
    "elections = pd.read_csv(\"data/elections.csv\")\n",
    "elections.head(5)"
   ]
  },
  {
   "cell_type": "markdown",
   "id": "e143e4b1",
   "metadata": {},
   "source": [
    "As we saw, we can groupby a specific column, e.g. \"Party\". It turns out that using some syntax we didn't cover in lecture, we can print out the subframes that result. This isn't something you'll do for any practical purpose. However, it may help you get an understanding of what groupby is actually doing.\n",
    "\n",
    "An example is given below for elections since 1980."
   ]
  },
  {
   "cell_type": "code",
   "execution_count": 13,
   "id": "492befea",
   "metadata": {
    "ExecuteTime": {
     "end_time": "2020-09-16T20:55:16.136582Z",
     "start_time": "2020-09-16T20:55:16.020654Z"
    },
    "scrolled": true
   },
   "outputs": [
    {
     "name": "stdout",
     "output_type": "stream",
     "text": [
      "Name: Citizens\n"
     ]
    },
    {
     "data": {
      "text/html": [
       "<div>\n",
       "<style scoped>\n",
       "    .dataframe tbody tr th:only-of-type {\n",
       "        vertical-align: middle;\n",
       "    }\n",
       "\n",
       "    .dataframe tbody tr th {\n",
       "        vertical-align: top;\n",
       "    }\n",
       "\n",
       "    .dataframe thead th {\n",
       "        text-align: right;\n",
       "    }\n",
       "</style>\n",
       "<table border=\"1\" class=\"dataframe\">\n",
       "  <thead>\n",
       "    <tr style=\"text-align: right;\">\n",
       "      <th></th>\n",
       "      <th>Year</th>\n",
       "      <th>Candidate</th>\n",
       "      <th>Party</th>\n",
       "      <th>Popular vote</th>\n",
       "      <th>Result</th>\n",
       "      <th>%</th>\n",
       "    </tr>\n",
       "  </thead>\n",
       "  <tbody>\n",
       "    <tr>\n",
       "      <th>127</th>\n",
       "      <td>1980</td>\n",
       "      <td>Barry Commoner</td>\n",
       "      <td>Citizens</td>\n",
       "      <td>233052</td>\n",
       "      <td>loss</td>\n",
       "      <td>0.270182</td>\n",
       "    </tr>\n",
       "  </tbody>\n",
       "</table>\n",
       "</div>"
      ],
      "text/plain": [
       "     Year       Candidate     Party  Popular vote Result         %\n",
       "127  1980  Barry Commoner  Citizens        233052   loss  0.270182"
      ]
     },
     "metadata": {},
     "output_type": "display_data"
    },
    {
     "name": "stdout",
     "output_type": "stream",
     "text": [
      "Name: Constitution\n"
     ]
    },
    {
     "data": {
      "text/html": [
       "<div>\n",
       "<style scoped>\n",
       "    .dataframe tbody tr th:only-of-type {\n",
       "        vertical-align: middle;\n",
       "    }\n",
       "\n",
       "    .dataframe tbody tr th {\n",
       "        vertical-align: top;\n",
       "    }\n",
       "\n",
       "    .dataframe thead th {\n",
       "        text-align: right;\n",
       "    }\n",
       "</style>\n",
       "<table border=\"1\" class=\"dataframe\">\n",
       "  <thead>\n",
       "    <tr style=\"text-align: right;\">\n",
       "      <th></th>\n",
       "      <th>Year</th>\n",
       "      <th>Candidate</th>\n",
       "      <th>Party</th>\n",
       "      <th>Popular vote</th>\n",
       "      <th>Result</th>\n",
       "      <th>%</th>\n",
       "    </tr>\n",
       "  </thead>\n",
       "  <tbody>\n",
       "    <tr>\n",
       "      <th>160</th>\n",
       "      <td>2004</td>\n",
       "      <td>Michael Peroutka</td>\n",
       "      <td>Constitution</td>\n",
       "      <td>143630</td>\n",
       "      <td>loss</td>\n",
       "      <td>0.117542</td>\n",
       "    </tr>\n",
       "    <tr>\n",
       "      <th>164</th>\n",
       "      <td>2008</td>\n",
       "      <td>Chuck Baldwin</td>\n",
       "      <td>Constitution</td>\n",
       "      <td>199750</td>\n",
       "      <td>loss</td>\n",
       "      <td>0.152398</td>\n",
       "    </tr>\n",
       "    <tr>\n",
       "      <th>172</th>\n",
       "      <td>2016</td>\n",
       "      <td>Darrell Castle</td>\n",
       "      <td>Constitution</td>\n",
       "      <td>203091</td>\n",
       "      <td>loss</td>\n",
       "      <td>0.149640</td>\n",
       "    </tr>\n",
       "  </tbody>\n",
       "</table>\n",
       "</div>"
      ],
      "text/plain": [
       "     Year         Candidate         Party  Popular vote Result         %\n",
       "160  2004  Michael Peroutka  Constitution        143630   loss  0.117542\n",
       "164  2008     Chuck Baldwin  Constitution        199750   loss  0.152398\n",
       "172  2016    Darrell Castle  Constitution        203091   loss  0.149640"
      ]
     },
     "metadata": {},
     "output_type": "display_data"
    },
    {
     "name": "stdout",
     "output_type": "stream",
     "text": [
      "Name: Democratic\n"
     ]
    },
    {
     "data": {
      "text/html": [
       "<div>\n",
       "<style scoped>\n",
       "    .dataframe tbody tr th:only-of-type {\n",
       "        vertical-align: middle;\n",
       "    }\n",
       "\n",
       "    .dataframe tbody tr th {\n",
       "        vertical-align: top;\n",
       "    }\n",
       "\n",
       "    .dataframe thead th {\n",
       "        text-align: right;\n",
       "    }\n",
       "</style>\n",
       "<table border=\"1\" class=\"dataframe\">\n",
       "  <thead>\n",
       "    <tr style=\"text-align: right;\">\n",
       "      <th></th>\n",
       "      <th>Year</th>\n",
       "      <th>Candidate</th>\n",
       "      <th>Party</th>\n",
       "      <th>Popular vote</th>\n",
       "      <th>Result</th>\n",
       "      <th>%</th>\n",
       "    </tr>\n",
       "  </thead>\n",
       "  <tbody>\n",
       "    <tr>\n",
       "      <th>129</th>\n",
       "      <td>1980</td>\n",
       "      <td>Jimmy Carter</td>\n",
       "      <td>Democratic</td>\n",
       "      <td>35480115</td>\n",
       "      <td>loss</td>\n",
       "      <td>41.132848</td>\n",
       "    </tr>\n",
       "    <tr>\n",
       "      <th>134</th>\n",
       "      <td>1984</td>\n",
       "      <td>Walter Mondale</td>\n",
       "      <td>Democratic</td>\n",
       "      <td>37577352</td>\n",
       "      <td>loss</td>\n",
       "      <td>40.729429</td>\n",
       "    </tr>\n",
       "    <tr>\n",
       "      <th>137</th>\n",
       "      <td>1988</td>\n",
       "      <td>Michael Dukakis</td>\n",
       "      <td>Democratic</td>\n",
       "      <td>41809074</td>\n",
       "      <td>loss</td>\n",
       "      <td>45.770691</td>\n",
       "    </tr>\n",
       "    <tr>\n",
       "      <th>140</th>\n",
       "      <td>1992</td>\n",
       "      <td>Bill Clinton</td>\n",
       "      <td>Democratic</td>\n",
       "      <td>44909806</td>\n",
       "      <td>win</td>\n",
       "      <td>43.118485</td>\n",
       "    </tr>\n",
       "    <tr>\n",
       "      <th>144</th>\n",
       "      <td>1996</td>\n",
       "      <td>Bill Clinton</td>\n",
       "      <td>Democratic</td>\n",
       "      <td>47400125</td>\n",
       "      <td>win</td>\n",
       "      <td>49.296938</td>\n",
       "    </tr>\n",
       "    <tr>\n",
       "      <th>151</th>\n",
       "      <td>2000</td>\n",
       "      <td>Al Gore</td>\n",
       "      <td>Democratic</td>\n",
       "      <td>50999897</td>\n",
       "      <td>loss</td>\n",
       "      <td>48.491813</td>\n",
       "    </tr>\n",
       "    <tr>\n",
       "      <th>158</th>\n",
       "      <td>2004</td>\n",
       "      <td>John Kerry</td>\n",
       "      <td>Democratic</td>\n",
       "      <td>59028444</td>\n",
       "      <td>loss</td>\n",
       "      <td>48.306775</td>\n",
       "    </tr>\n",
       "    <tr>\n",
       "      <th>162</th>\n",
       "      <td>2008</td>\n",
       "      <td>Barack Obama</td>\n",
       "      <td>Democratic</td>\n",
       "      <td>69498516</td>\n",
       "      <td>win</td>\n",
       "      <td>53.023510</td>\n",
       "    </tr>\n",
       "    <tr>\n",
       "      <th>168</th>\n",
       "      <td>2012</td>\n",
       "      <td>Barack Obama</td>\n",
       "      <td>Democratic</td>\n",
       "      <td>65915795</td>\n",
       "      <td>win</td>\n",
       "      <td>51.258484</td>\n",
       "    </tr>\n",
       "    <tr>\n",
       "      <th>176</th>\n",
       "      <td>2016</td>\n",
       "      <td>Hillary Clinton</td>\n",
       "      <td>Democratic</td>\n",
       "      <td>65853514</td>\n",
       "      <td>loss</td>\n",
       "      <td>48.521539</td>\n",
       "    </tr>\n",
       "    <tr>\n",
       "      <th>178</th>\n",
       "      <td>2020</td>\n",
       "      <td>Joseph Biden</td>\n",
       "      <td>Democratic</td>\n",
       "      <td>81268924</td>\n",
       "      <td>win</td>\n",
       "      <td>51.311515</td>\n",
       "    </tr>\n",
       "  </tbody>\n",
       "</table>\n",
       "</div>"
      ],
      "text/plain": [
       "     Year        Candidate       Party  Popular vote Result          %\n",
       "129  1980     Jimmy Carter  Democratic      35480115   loss  41.132848\n",
       "134  1984   Walter Mondale  Democratic      37577352   loss  40.729429\n",
       "137  1988  Michael Dukakis  Democratic      41809074   loss  45.770691\n",
       "140  1992     Bill Clinton  Democratic      44909806    win  43.118485\n",
       "144  1996     Bill Clinton  Democratic      47400125    win  49.296938\n",
       "151  2000          Al Gore  Democratic      50999897   loss  48.491813\n",
       "158  2004       John Kerry  Democratic      59028444   loss  48.306775\n",
       "162  2008     Barack Obama  Democratic      69498516    win  53.023510\n",
       "168  2012     Barack Obama  Democratic      65915795    win  51.258484\n",
       "176  2016  Hillary Clinton  Democratic      65853514   loss  48.521539\n",
       "178  2020     Joseph Biden  Democratic      81268924    win  51.311515"
      ]
     },
     "metadata": {},
     "output_type": "display_data"
    },
    {
     "name": "stdout",
     "output_type": "stream",
     "text": [
      "Name: Green\n"
     ]
    },
    {
     "data": {
      "text/html": [
       "<div>\n",
       "<style scoped>\n",
       "    .dataframe tbody tr th:only-of-type {\n",
       "        vertical-align: middle;\n",
       "    }\n",
       "\n",
       "    .dataframe tbody tr th {\n",
       "        vertical-align: top;\n",
       "    }\n",
       "\n",
       "    .dataframe thead th {\n",
       "        text-align: right;\n",
       "    }\n",
       "</style>\n",
       "<table border=\"1\" class=\"dataframe\">\n",
       "  <thead>\n",
       "    <tr style=\"text-align: right;\">\n",
       "      <th></th>\n",
       "      <th>Year</th>\n",
       "      <th>Candidate</th>\n",
       "      <th>Party</th>\n",
       "      <th>Popular vote</th>\n",
       "      <th>Result</th>\n",
       "      <th>%</th>\n",
       "    </tr>\n",
       "  </thead>\n",
       "  <tbody>\n",
       "    <tr>\n",
       "      <th>149</th>\n",
       "      <td>1996</td>\n",
       "      <td>Ralph Nader</td>\n",
       "      <td>Green</td>\n",
       "      <td>685297</td>\n",
       "      <td>loss</td>\n",
       "      <td>0.712721</td>\n",
       "    </tr>\n",
       "    <tr>\n",
       "      <th>155</th>\n",
       "      <td>2000</td>\n",
       "      <td>Ralph Nader</td>\n",
       "      <td>Green</td>\n",
       "      <td>2882955</td>\n",
       "      <td>loss</td>\n",
       "      <td>2.741176</td>\n",
       "    </tr>\n",
       "    <tr>\n",
       "      <th>156</th>\n",
       "      <td>2004</td>\n",
       "      <td>David Cobb</td>\n",
       "      <td>Green</td>\n",
       "      <td>119859</td>\n",
       "      <td>loss</td>\n",
       "      <td>0.098088</td>\n",
       "    </tr>\n",
       "    <tr>\n",
       "      <th>165</th>\n",
       "      <td>2008</td>\n",
       "      <td>Cynthia McKinney</td>\n",
       "      <td>Green</td>\n",
       "      <td>161797</td>\n",
       "      <td>loss</td>\n",
       "      <td>0.123442</td>\n",
       "    </tr>\n",
       "    <tr>\n",
       "      <th>170</th>\n",
       "      <td>2012</td>\n",
       "      <td>Jill Stein</td>\n",
       "      <td>Green</td>\n",
       "      <td>469627</td>\n",
       "      <td>loss</td>\n",
       "      <td>0.365199</td>\n",
       "    </tr>\n",
       "    <tr>\n",
       "      <th>177</th>\n",
       "      <td>2016</td>\n",
       "      <td>Jill Stein</td>\n",
       "      <td>Green</td>\n",
       "      <td>1457226</td>\n",
       "      <td>loss</td>\n",
       "      <td>1.073699</td>\n",
       "    </tr>\n",
       "    <tr>\n",
       "      <th>181</th>\n",
       "      <td>2020</td>\n",
       "      <td>Howard Hawkins</td>\n",
       "      <td>Green</td>\n",
       "      <td>405035</td>\n",
       "      <td>loss</td>\n",
       "      <td>0.255731</td>\n",
       "    </tr>\n",
       "  </tbody>\n",
       "</table>\n",
       "</div>"
      ],
      "text/plain": [
       "     Year         Candidate  Party  Popular vote Result         %\n",
       "149  1996       Ralph Nader  Green        685297   loss  0.712721\n",
       "155  2000       Ralph Nader  Green       2882955   loss  2.741176\n",
       "156  2004        David Cobb  Green        119859   loss  0.098088\n",
       "165  2008  Cynthia McKinney  Green        161797   loss  0.123442\n",
       "170  2012        Jill Stein  Green        469627   loss  0.365199\n",
       "177  2016        Jill Stein  Green       1457226   loss  1.073699\n",
       "181  2020    Howard Hawkins  Green        405035   loss  0.255731"
      ]
     },
     "metadata": {},
     "output_type": "display_data"
    },
    {
     "name": "stdout",
     "output_type": "stream",
     "text": [
      "Name: Independent\n"
     ]
    },
    {
     "data": {
      "text/html": [
       "<div>\n",
       "<style scoped>\n",
       "    .dataframe tbody tr th:only-of-type {\n",
       "        vertical-align: middle;\n",
       "    }\n",
       "\n",
       "    .dataframe tbody tr th {\n",
       "        vertical-align: top;\n",
       "    }\n",
       "\n",
       "    .dataframe thead th {\n",
       "        text-align: right;\n",
       "    }\n",
       "</style>\n",
       "<table border=\"1\" class=\"dataframe\">\n",
       "  <thead>\n",
       "    <tr style=\"text-align: right;\">\n",
       "      <th></th>\n",
       "      <th>Year</th>\n",
       "      <th>Candidate</th>\n",
       "      <th>Party</th>\n",
       "      <th>Popular vote</th>\n",
       "      <th>Result</th>\n",
       "      <th>%</th>\n",
       "    </tr>\n",
       "  </thead>\n",
       "  <tbody>\n",
       "    <tr>\n",
       "      <th>130</th>\n",
       "      <td>1980</td>\n",
       "      <td>John B. Anderson</td>\n",
       "      <td>Independent</td>\n",
       "      <td>5719850</td>\n",
       "      <td>loss</td>\n",
       "      <td>6.631143</td>\n",
       "    </tr>\n",
       "    <tr>\n",
       "      <th>143</th>\n",
       "      <td>1992</td>\n",
       "      <td>Ross Perot</td>\n",
       "      <td>Independent</td>\n",
       "      <td>19743821</td>\n",
       "      <td>loss</td>\n",
       "      <td>18.956298</td>\n",
       "    </tr>\n",
       "    <tr>\n",
       "      <th>161</th>\n",
       "      <td>2004</td>\n",
       "      <td>Ralph Nader</td>\n",
       "      <td>Independent</td>\n",
       "      <td>465151</td>\n",
       "      <td>loss</td>\n",
       "      <td>0.380663</td>\n",
       "    </tr>\n",
       "    <tr>\n",
       "      <th>167</th>\n",
       "      <td>2008</td>\n",
       "      <td>Ralph Nader</td>\n",
       "      <td>Independent</td>\n",
       "      <td>739034</td>\n",
       "      <td>loss</td>\n",
       "      <td>0.563842</td>\n",
       "    </tr>\n",
       "    <tr>\n",
       "      <th>174</th>\n",
       "      <td>2016</td>\n",
       "      <td>Evan McMullin</td>\n",
       "      <td>Independent</td>\n",
       "      <td>732273</td>\n",
       "      <td>loss</td>\n",
       "      <td>0.539546</td>\n",
       "    </tr>\n",
       "  </tbody>\n",
       "</table>\n",
       "</div>"
      ],
      "text/plain": [
       "     Year         Candidate        Party  Popular vote Result          %\n",
       "130  1980  John B. Anderson  Independent       5719850   loss   6.631143\n",
       "143  1992        Ross Perot  Independent      19743821   loss  18.956298\n",
       "161  2004       Ralph Nader  Independent        465151   loss   0.380663\n",
       "167  2008       Ralph Nader  Independent        739034   loss   0.563842\n",
       "174  2016     Evan McMullin  Independent        732273   loss   0.539546"
      ]
     },
     "metadata": {},
     "output_type": "display_data"
    },
    {
     "name": "stdout",
     "output_type": "stream",
     "text": [
      "Name: Libertarian\n"
     ]
    },
    {
     "data": {
      "text/html": [
       "<div>\n",
       "<style scoped>\n",
       "    .dataframe tbody tr th:only-of-type {\n",
       "        vertical-align: middle;\n",
       "    }\n",
       "\n",
       "    .dataframe tbody tr th {\n",
       "        vertical-align: top;\n",
       "    }\n",
       "\n",
       "    .dataframe thead th {\n",
       "        text-align: right;\n",
       "    }\n",
       "</style>\n",
       "<table border=\"1\" class=\"dataframe\">\n",
       "  <thead>\n",
       "    <tr style=\"text-align: right;\">\n",
       "      <th></th>\n",
       "      <th>Year</th>\n",
       "      <th>Candidate</th>\n",
       "      <th>Party</th>\n",
       "      <th>Popular vote</th>\n",
       "      <th>Result</th>\n",
       "      <th>%</th>\n",
       "    </tr>\n",
       "  </thead>\n",
       "  <tbody>\n",
       "    <tr>\n",
       "      <th>128</th>\n",
       "      <td>1980</td>\n",
       "      <td>Ed Clark</td>\n",
       "      <td>Libertarian</td>\n",
       "      <td>921128</td>\n",
       "      <td>loss</td>\n",
       "      <td>1.067883</td>\n",
       "    </tr>\n",
       "    <tr>\n",
       "      <th>132</th>\n",
       "      <td>1984</td>\n",
       "      <td>David Bergland</td>\n",
       "      <td>Libertarian</td>\n",
       "      <td>228111</td>\n",
       "      <td>loss</td>\n",
       "      <td>0.247245</td>\n",
       "    </tr>\n",
       "    <tr>\n",
       "      <th>138</th>\n",
       "      <td>1988</td>\n",
       "      <td>Ron Paul</td>\n",
       "      <td>Libertarian</td>\n",
       "      <td>431750</td>\n",
       "      <td>loss</td>\n",
       "      <td>0.472660</td>\n",
       "    </tr>\n",
       "    <tr>\n",
       "      <th>139</th>\n",
       "      <td>1992</td>\n",
       "      <td>Andre Marrou</td>\n",
       "      <td>Libertarian</td>\n",
       "      <td>290087</td>\n",
       "      <td>loss</td>\n",
       "      <td>0.278516</td>\n",
       "    </tr>\n",
       "    <tr>\n",
       "      <th>146</th>\n",
       "      <td>1996</td>\n",
       "      <td>Harry Browne</td>\n",
       "      <td>Libertarian</td>\n",
       "      <td>485759</td>\n",
       "      <td>loss</td>\n",
       "      <td>0.505198</td>\n",
       "    </tr>\n",
       "    <tr>\n",
       "      <th>153</th>\n",
       "      <td>2000</td>\n",
       "      <td>Harry Browne</td>\n",
       "      <td>Libertarian</td>\n",
       "      <td>384431</td>\n",
       "      <td>loss</td>\n",
       "      <td>0.365525</td>\n",
       "    </tr>\n",
       "    <tr>\n",
       "      <th>159</th>\n",
       "      <td>2004</td>\n",
       "      <td>Michael Badnarik</td>\n",
       "      <td>Libertarian</td>\n",
       "      <td>397265</td>\n",
       "      <td>loss</td>\n",
       "      <td>0.325108</td>\n",
       "    </tr>\n",
       "    <tr>\n",
       "      <th>163</th>\n",
       "      <td>2008</td>\n",
       "      <td>Bob Barr</td>\n",
       "      <td>Libertarian</td>\n",
       "      <td>523715</td>\n",
       "      <td>loss</td>\n",
       "      <td>0.399565</td>\n",
       "    </tr>\n",
       "    <tr>\n",
       "      <th>169</th>\n",
       "      <td>2012</td>\n",
       "      <td>Gary Johnson</td>\n",
       "      <td>Libertarian</td>\n",
       "      <td>1275971</td>\n",
       "      <td>loss</td>\n",
       "      <td>0.992241</td>\n",
       "    </tr>\n",
       "    <tr>\n",
       "      <th>175</th>\n",
       "      <td>2016</td>\n",
       "      <td>Gary Johnson</td>\n",
       "      <td>Libertarian</td>\n",
       "      <td>4489235</td>\n",
       "      <td>loss</td>\n",
       "      <td>3.307714</td>\n",
       "    </tr>\n",
       "    <tr>\n",
       "      <th>180</th>\n",
       "      <td>2020</td>\n",
       "      <td>Jo Jorgensen</td>\n",
       "      <td>Libertarian</td>\n",
       "      <td>1865724</td>\n",
       "      <td>loss</td>\n",
       "      <td>1.177979</td>\n",
       "    </tr>\n",
       "  </tbody>\n",
       "</table>\n",
       "</div>"
      ],
      "text/plain": [
       "     Year         Candidate        Party  Popular vote Result         %\n",
       "128  1980          Ed Clark  Libertarian        921128   loss  1.067883\n",
       "132  1984    David Bergland  Libertarian        228111   loss  0.247245\n",
       "138  1988          Ron Paul  Libertarian        431750   loss  0.472660\n",
       "139  1992      Andre Marrou  Libertarian        290087   loss  0.278516\n",
       "146  1996      Harry Browne  Libertarian        485759   loss  0.505198\n",
       "153  2000      Harry Browne  Libertarian        384431   loss  0.365525\n",
       "159  2004  Michael Badnarik  Libertarian        397265   loss  0.325108\n",
       "163  2008          Bob Barr  Libertarian        523715   loss  0.399565\n",
       "169  2012      Gary Johnson  Libertarian       1275971   loss  0.992241\n",
       "175  2016      Gary Johnson  Libertarian       4489235   loss  3.307714\n",
       "180  2020      Jo Jorgensen  Libertarian       1865724   loss  1.177979"
      ]
     },
     "metadata": {},
     "output_type": "display_data"
    },
    {
     "name": "stdout",
     "output_type": "stream",
     "text": [
      "Name: Natural Law\n"
     ]
    },
    {
     "data": {
      "text/html": [
       "<div>\n",
       "<style scoped>\n",
       "    .dataframe tbody tr th:only-of-type {\n",
       "        vertical-align: middle;\n",
       "    }\n",
       "\n",
       "    .dataframe tbody tr th {\n",
       "        vertical-align: top;\n",
       "    }\n",
       "\n",
       "    .dataframe thead th {\n",
       "        text-align: right;\n",
       "    }\n",
       "</style>\n",
       "<table border=\"1\" class=\"dataframe\">\n",
       "  <thead>\n",
       "    <tr style=\"text-align: right;\">\n",
       "      <th></th>\n",
       "      <th>Year</th>\n",
       "      <th>Candidate</th>\n",
       "      <th>Party</th>\n",
       "      <th>Popular vote</th>\n",
       "      <th>Result</th>\n",
       "      <th>%</th>\n",
       "    </tr>\n",
       "  </thead>\n",
       "  <tbody>\n",
       "    <tr>\n",
       "      <th>148</th>\n",
       "      <td>1996</td>\n",
       "      <td>John Hagelin</td>\n",
       "      <td>Natural Law</td>\n",
       "      <td>113670</td>\n",
       "      <td>loss</td>\n",
       "      <td>0.118219</td>\n",
       "    </tr>\n",
       "  </tbody>\n",
       "</table>\n",
       "</div>"
      ],
      "text/plain": [
       "     Year     Candidate        Party  Popular vote Result         %\n",
       "148  1996  John Hagelin  Natural Law        113670   loss  0.118219"
      ]
     },
     "metadata": {},
     "output_type": "display_data"
    },
    {
     "name": "stdout",
     "output_type": "stream",
     "text": [
      "Name: New Alliance\n"
     ]
    },
    {
     "data": {
      "text/html": [
       "<div>\n",
       "<style scoped>\n",
       "    .dataframe tbody tr th:only-of-type {\n",
       "        vertical-align: middle;\n",
       "    }\n",
       "\n",
       "    .dataframe tbody tr th {\n",
       "        vertical-align: top;\n",
       "    }\n",
       "\n",
       "    .dataframe thead th {\n",
       "        text-align: right;\n",
       "    }\n",
       "</style>\n",
       "<table border=\"1\" class=\"dataframe\">\n",
       "  <thead>\n",
       "    <tr style=\"text-align: right;\">\n",
       "      <th></th>\n",
       "      <th>Year</th>\n",
       "      <th>Candidate</th>\n",
       "      <th>Party</th>\n",
       "      <th>Popular vote</th>\n",
       "      <th>Result</th>\n",
       "      <th>%</th>\n",
       "    </tr>\n",
       "  </thead>\n",
       "  <tbody>\n",
       "    <tr>\n",
       "      <th>136</th>\n",
       "      <td>1988</td>\n",
       "      <td>Lenora Fulani</td>\n",
       "      <td>New Alliance</td>\n",
       "      <td>217221</td>\n",
       "      <td>loss</td>\n",
       "      <td>0.237804</td>\n",
       "    </tr>\n",
       "  </tbody>\n",
       "</table>\n",
       "</div>"
      ],
      "text/plain": [
       "     Year      Candidate         Party  Popular vote Result         %\n",
       "136  1988  Lenora Fulani  New Alliance        217221   loss  0.237804"
      ]
     },
     "metadata": {},
     "output_type": "display_data"
    },
    {
     "name": "stdout",
     "output_type": "stream",
     "text": [
      "Name: Populist\n"
     ]
    },
    {
     "data": {
      "text/html": [
       "<div>\n",
       "<style scoped>\n",
       "    .dataframe tbody tr th:only-of-type {\n",
       "        vertical-align: middle;\n",
       "    }\n",
       "\n",
       "    .dataframe tbody tr th {\n",
       "        vertical-align: top;\n",
       "    }\n",
       "\n",
       "    .dataframe thead th {\n",
       "        text-align: right;\n",
       "    }\n",
       "</style>\n",
       "<table border=\"1\" class=\"dataframe\">\n",
       "  <thead>\n",
       "    <tr style=\"text-align: right;\">\n",
       "      <th></th>\n",
       "      <th>Year</th>\n",
       "      <th>Candidate</th>\n",
       "      <th>Party</th>\n",
       "      <th>Popular vote</th>\n",
       "      <th>Result</th>\n",
       "      <th>%</th>\n",
       "    </tr>\n",
       "  </thead>\n",
       "  <tbody>\n",
       "    <tr>\n",
       "      <th>141</th>\n",
       "      <td>1992</td>\n",
       "      <td>Bo Gritz</td>\n",
       "      <td>Populist</td>\n",
       "      <td>106152</td>\n",
       "      <td>loss</td>\n",
       "      <td>0.101918</td>\n",
       "    </tr>\n",
       "  </tbody>\n",
       "</table>\n",
       "</div>"
      ],
      "text/plain": [
       "     Year Candidate     Party  Popular vote Result         %\n",
       "141  1992  Bo Gritz  Populist        106152   loss  0.101918"
      ]
     },
     "metadata": {},
     "output_type": "display_data"
    },
    {
     "name": "stdout",
     "output_type": "stream",
     "text": [
      "Name: Reform\n"
     ]
    },
    {
     "data": {
      "text/html": [
       "<div>\n",
       "<style scoped>\n",
       "    .dataframe tbody tr th:only-of-type {\n",
       "        vertical-align: middle;\n",
       "    }\n",
       "\n",
       "    .dataframe tbody tr th {\n",
       "        vertical-align: top;\n",
       "    }\n",
       "\n",
       "    .dataframe thead th {\n",
       "        text-align: right;\n",
       "    }\n",
       "</style>\n",
       "<table border=\"1\" class=\"dataframe\">\n",
       "  <thead>\n",
       "    <tr style=\"text-align: right;\">\n",
       "      <th></th>\n",
       "      <th>Year</th>\n",
       "      <th>Candidate</th>\n",
       "      <th>Party</th>\n",
       "      <th>Popular vote</th>\n",
       "      <th>Result</th>\n",
       "      <th>%</th>\n",
       "    </tr>\n",
       "  </thead>\n",
       "  <tbody>\n",
       "    <tr>\n",
       "      <th>150</th>\n",
       "      <td>1996</td>\n",
       "      <td>Ross Perot</td>\n",
       "      <td>Reform</td>\n",
       "      <td>8085294</td>\n",
       "      <td>loss</td>\n",
       "      <td>8.408844</td>\n",
       "    </tr>\n",
       "    <tr>\n",
       "      <th>154</th>\n",
       "      <td>2000</td>\n",
       "      <td>Pat Buchanan</td>\n",
       "      <td>Reform</td>\n",
       "      <td>448895</td>\n",
       "      <td>loss</td>\n",
       "      <td>0.426819</td>\n",
       "    </tr>\n",
       "  </tbody>\n",
       "</table>\n",
       "</div>"
      ],
      "text/plain": [
       "     Year     Candidate   Party  Popular vote Result         %\n",
       "150  1996    Ross Perot  Reform       8085294   loss  8.408844\n",
       "154  2000  Pat Buchanan  Reform        448895   loss  0.426819"
      ]
     },
     "metadata": {},
     "output_type": "display_data"
    },
    {
     "name": "stdout",
     "output_type": "stream",
     "text": [
      "Name: Republican\n"
     ]
    },
    {
     "data": {
      "text/html": [
       "<div>\n",
       "<style scoped>\n",
       "    .dataframe tbody tr th:only-of-type {\n",
       "        vertical-align: middle;\n",
       "    }\n",
       "\n",
       "    .dataframe tbody tr th {\n",
       "        vertical-align: top;\n",
       "    }\n",
       "\n",
       "    .dataframe thead th {\n",
       "        text-align: right;\n",
       "    }\n",
       "</style>\n",
       "<table border=\"1\" class=\"dataframe\">\n",
       "  <thead>\n",
       "    <tr style=\"text-align: right;\">\n",
       "      <th></th>\n",
       "      <th>Year</th>\n",
       "      <th>Candidate</th>\n",
       "      <th>Party</th>\n",
       "      <th>Popular vote</th>\n",
       "      <th>Result</th>\n",
       "      <th>%</th>\n",
       "    </tr>\n",
       "  </thead>\n",
       "  <tbody>\n",
       "    <tr>\n",
       "      <th>131</th>\n",
       "      <td>1980</td>\n",
       "      <td>Ronald Reagan</td>\n",
       "      <td>Republican</td>\n",
       "      <td>43903230</td>\n",
       "      <td>win</td>\n",
       "      <td>50.897944</td>\n",
       "    </tr>\n",
       "    <tr>\n",
       "      <th>133</th>\n",
       "      <td>1984</td>\n",
       "      <td>Ronald Reagan</td>\n",
       "      <td>Republican</td>\n",
       "      <td>54455472</td>\n",
       "      <td>win</td>\n",
       "      <td>59.023326</td>\n",
       "    </tr>\n",
       "    <tr>\n",
       "      <th>135</th>\n",
       "      <td>1988</td>\n",
       "      <td>George H. W. Bush</td>\n",
       "      <td>Republican</td>\n",
       "      <td>48886597</td>\n",
       "      <td>win</td>\n",
       "      <td>53.518845</td>\n",
       "    </tr>\n",
       "    <tr>\n",
       "      <th>142</th>\n",
       "      <td>1992</td>\n",
       "      <td>George H. W. Bush</td>\n",
       "      <td>Republican</td>\n",
       "      <td>39104550</td>\n",
       "      <td>loss</td>\n",
       "      <td>37.544784</td>\n",
       "    </tr>\n",
       "    <tr>\n",
       "      <th>145</th>\n",
       "      <td>1996</td>\n",
       "      <td>Bob Dole</td>\n",
       "      <td>Republican</td>\n",
       "      <td>39197469</td>\n",
       "      <td>loss</td>\n",
       "      <td>40.766036</td>\n",
       "    </tr>\n",
       "    <tr>\n",
       "      <th>152</th>\n",
       "      <td>2000</td>\n",
       "      <td>George W. Bush</td>\n",
       "      <td>Republican</td>\n",
       "      <td>50456002</td>\n",
       "      <td>win</td>\n",
       "      <td>47.974666</td>\n",
       "    </tr>\n",
       "    <tr>\n",
       "      <th>157</th>\n",
       "      <td>2004</td>\n",
       "      <td>George W. Bush</td>\n",
       "      <td>Republican</td>\n",
       "      <td>62040610</td>\n",
       "      <td>win</td>\n",
       "      <td>50.771824</td>\n",
       "    </tr>\n",
       "    <tr>\n",
       "      <th>166</th>\n",
       "      <td>2008</td>\n",
       "      <td>John McCain</td>\n",
       "      <td>Republican</td>\n",
       "      <td>59948323</td>\n",
       "      <td>loss</td>\n",
       "      <td>45.737243</td>\n",
       "    </tr>\n",
       "    <tr>\n",
       "      <th>171</th>\n",
       "      <td>2012</td>\n",
       "      <td>Mitt Romney</td>\n",
       "      <td>Republican</td>\n",
       "      <td>60933504</td>\n",
       "      <td>loss</td>\n",
       "      <td>47.384076</td>\n",
       "    </tr>\n",
       "    <tr>\n",
       "      <th>173</th>\n",
       "      <td>2016</td>\n",
       "      <td>Donald Trump</td>\n",
       "      <td>Republican</td>\n",
       "      <td>62984828</td>\n",
       "      <td>win</td>\n",
       "      <td>46.407862</td>\n",
       "    </tr>\n",
       "    <tr>\n",
       "      <th>179</th>\n",
       "      <td>2020</td>\n",
       "      <td>Donald Trump</td>\n",
       "      <td>Republican</td>\n",
       "      <td>74216154</td>\n",
       "      <td>loss</td>\n",
       "      <td>46.858542</td>\n",
       "    </tr>\n",
       "  </tbody>\n",
       "</table>\n",
       "</div>"
      ],
      "text/plain": [
       "     Year          Candidate       Party  Popular vote Result          %\n",
       "131  1980      Ronald Reagan  Republican      43903230    win  50.897944\n",
       "133  1984      Ronald Reagan  Republican      54455472    win  59.023326\n",
       "135  1988  George H. W. Bush  Republican      48886597    win  53.518845\n",
       "142  1992  George H. W. Bush  Republican      39104550   loss  37.544784\n",
       "145  1996           Bob Dole  Republican      39197469   loss  40.766036\n",
       "152  2000     George W. Bush  Republican      50456002    win  47.974666\n",
       "157  2004     George W. Bush  Republican      62040610    win  50.771824\n",
       "166  2008        John McCain  Republican      59948323   loss  45.737243\n",
       "171  2012        Mitt Romney  Republican      60933504   loss  47.384076\n",
       "173  2016       Donald Trump  Republican      62984828    win  46.407862\n",
       "179  2020       Donald Trump  Republican      74216154   loss  46.858542"
      ]
     },
     "metadata": {},
     "output_type": "display_data"
    },
    {
     "name": "stdout",
     "output_type": "stream",
     "text": [
      "Name: Taxpayers\n"
     ]
    },
    {
     "data": {
      "text/html": [
       "<div>\n",
       "<style scoped>\n",
       "    .dataframe tbody tr th:only-of-type {\n",
       "        vertical-align: middle;\n",
       "    }\n",
       "\n",
       "    .dataframe tbody tr th {\n",
       "        vertical-align: top;\n",
       "    }\n",
       "\n",
       "    .dataframe thead th {\n",
       "        text-align: right;\n",
       "    }\n",
       "</style>\n",
       "<table border=\"1\" class=\"dataframe\">\n",
       "  <thead>\n",
       "    <tr style=\"text-align: right;\">\n",
       "      <th></th>\n",
       "      <th>Year</th>\n",
       "      <th>Candidate</th>\n",
       "      <th>Party</th>\n",
       "      <th>Popular vote</th>\n",
       "      <th>Result</th>\n",
       "      <th>%</th>\n",
       "    </tr>\n",
       "  </thead>\n",
       "  <tbody>\n",
       "    <tr>\n",
       "      <th>147</th>\n",
       "      <td>1996</td>\n",
       "      <td>Howard Phillips</td>\n",
       "      <td>Taxpayers</td>\n",
       "      <td>184656</td>\n",
       "      <td>loss</td>\n",
       "      <td>0.192045</td>\n",
       "    </tr>\n",
       "  </tbody>\n",
       "</table>\n",
       "</div>"
      ],
      "text/plain": [
       "     Year        Candidate      Party  Popular vote Result         %\n",
       "147  1996  Howard Phillips  Taxpayers        184656   loss  0.192045"
      ]
     },
     "metadata": {},
     "output_type": "display_data"
    }
   ],
   "source": [
    "# run this cell\n",
    "for n, g in elections.query(\"Year >= 1980\").groupby(\"Party\"):\n",
    "    print(f\"Name: {n}\") # by the way this is an \"f string\", a relatively new and great feature of Python\n",
    "    display(g)"
   ]
  },
  {
   "cell_type": "markdown",
   "id": "368f4908",
   "metadata": {},
   "source": [
    "Recall that once we've formed groups, we can aggregate each sub-dataframe (a.k.a. group) into a single row using an aggregation function. For example, if we use `.agg(np.mean)` on the groups above, we get back a single DataFrame where each group has been replaced by a single row. In each column for that aggregate row, the value that appears is the average of all values in that group.\n"
   ]
  },
  {
   "cell_type": "code",
   "execution_count": 14,
   "id": "86459430",
   "metadata": {},
   "outputs": [
    {
     "data": {
      "text/html": [
       "<div>\n",
       "<style scoped>\n",
       "    .dataframe tbody tr th:only-of-type {\n",
       "        vertical-align: middle;\n",
       "    }\n",
       "\n",
       "    .dataframe tbody tr th {\n",
       "        vertical-align: top;\n",
       "    }\n",
       "\n",
       "    .dataframe thead th {\n",
       "        text-align: right;\n",
       "    }\n",
       "</style>\n",
       "<table border=\"1\" class=\"dataframe\">\n",
       "  <thead>\n",
       "    <tr style=\"text-align: right;\">\n",
       "      <th></th>\n",
       "      <th>Popular vote</th>\n",
       "      <th>%</th>\n",
       "    </tr>\n",
       "    <tr>\n",
       "      <th>Party</th>\n",
       "      <th></th>\n",
       "      <th></th>\n",
       "    </tr>\n",
       "  </thead>\n",
       "  <tbody>\n",
       "    <tr>\n",
       "      <th>Citizens</th>\n",
       "      <td>2.330520e+05</td>\n",
       "      <td>0.270182</td>\n",
       "    </tr>\n",
       "    <tr>\n",
       "      <th>Constitution</th>\n",
       "      <td>1.821570e+05</td>\n",
       "      <td>0.139860</td>\n",
       "    </tr>\n",
       "    <tr>\n",
       "      <th>Democratic</th>\n",
       "      <td>5.452196e+07</td>\n",
       "      <td>47.360184</td>\n",
       "    </tr>\n",
       "    <tr>\n",
       "      <th>Green</th>\n",
       "      <td>8.831137e+05</td>\n",
       "      <td>0.767151</td>\n",
       "    </tr>\n",
       "    <tr>\n",
       "      <th>Independent</th>\n",
       "      <td>5.480026e+06</td>\n",
       "      <td>5.414298</td>\n",
       "    </tr>\n",
       "    <tr>\n",
       "      <th>Libertarian</th>\n",
       "      <td>1.026652e+06</td>\n",
       "      <td>0.830876</td>\n",
       "    </tr>\n",
       "    <tr>\n",
       "      <th>Natural Law</th>\n",
       "      <td>1.136700e+05</td>\n",
       "      <td>0.118219</td>\n",
       "    </tr>\n",
       "    <tr>\n",
       "      <th>New Alliance</th>\n",
       "      <td>2.172210e+05</td>\n",
       "      <td>0.237804</td>\n",
       "    </tr>\n",
       "    <tr>\n",
       "      <th>Populist</th>\n",
       "      <td>1.061520e+05</td>\n",
       "      <td>0.101918</td>\n",
       "    </tr>\n",
       "    <tr>\n",
       "      <th>Reform</th>\n",
       "      <td>4.267094e+06</td>\n",
       "      <td>4.417831</td>\n",
       "    </tr>\n",
       "    <tr>\n",
       "      <th>Republican</th>\n",
       "      <td>5.419334e+07</td>\n",
       "      <td>47.898650</td>\n",
       "    </tr>\n",
       "    <tr>\n",
       "      <th>Taxpayers</th>\n",
       "      <td>1.846560e+05</td>\n",
       "      <td>0.192045</td>\n",
       "    </tr>\n",
       "  </tbody>\n",
       "</table>\n",
       "</div>"
      ],
      "text/plain": [
       "              Popular vote          %\n",
       "Party                                \n",
       "Citizens      2.330520e+05   0.270182\n",
       "Constitution  1.821570e+05   0.139860\n",
       "Democratic    5.452196e+07  47.360184\n",
       "Green         8.831137e+05   0.767151\n",
       "Independent   5.480026e+06   5.414298\n",
       "Libertarian   1.026652e+06   0.830876\n",
       "Natural Law   1.136700e+05   0.118219\n",
       "New Alliance  2.172210e+05   0.237804\n",
       "Populist      1.061520e+05   0.101918\n",
       "Reform        4.267094e+06   4.417831\n",
       "Republican    5.419334e+07  47.898650\n",
       "Taxpayers     1.846560e+05   0.192045"
      ]
     },
     "execution_count": 14,
     "metadata": {},
     "output_type": "execute_result"
    }
   ],
   "source": [
    "elections_after_1980 = elections[elections[\"Year\"] >= 1980][[\"Party\",\"Popular vote\", \"%\"]]\n",
    "\n",
    "elections_after_1980.groupby(\"Party\").agg(np.mean)"
   ]
  },
  {
   "cell_type": "markdown",
   "id": "7678ea00",
   "metadata": {},
   "source": [
    "Equivalently we can use one of the shorthand aggregation functions, e.g. `.mean()`: "
   ]
  },
  {
   "cell_type": "code",
   "execution_count": 15,
   "id": "6393b314",
   "metadata": {
    "scrolled": true
   },
   "outputs": [
    {
     "data": {
      "text/html": [
       "<div>\n",
       "<style scoped>\n",
       "    .dataframe tbody tr th:only-of-type {\n",
       "        vertical-align: middle;\n",
       "    }\n",
       "\n",
       "    .dataframe tbody tr th {\n",
       "        vertical-align: top;\n",
       "    }\n",
       "\n",
       "    .dataframe thead th {\n",
       "        text-align: right;\n",
       "    }\n",
       "</style>\n",
       "<table border=\"1\" class=\"dataframe\">\n",
       "  <thead>\n",
       "    <tr style=\"text-align: right;\">\n",
       "      <th></th>\n",
       "      <th>Popular vote</th>\n",
       "      <th>%</th>\n",
       "    </tr>\n",
       "    <tr>\n",
       "      <th>Party</th>\n",
       "      <th></th>\n",
       "      <th></th>\n",
       "    </tr>\n",
       "  </thead>\n",
       "  <tbody>\n",
       "    <tr>\n",
       "      <th>Citizens</th>\n",
       "      <td>2.330520e+05</td>\n",
       "      <td>0.270182</td>\n",
       "    </tr>\n",
       "    <tr>\n",
       "      <th>Constitution</th>\n",
       "      <td>1.821570e+05</td>\n",
       "      <td>0.139860</td>\n",
       "    </tr>\n",
       "    <tr>\n",
       "      <th>Democratic</th>\n",
       "      <td>5.452196e+07</td>\n",
       "      <td>47.360184</td>\n",
       "    </tr>\n",
       "    <tr>\n",
       "      <th>Green</th>\n",
       "      <td>8.831137e+05</td>\n",
       "      <td>0.767151</td>\n",
       "    </tr>\n",
       "    <tr>\n",
       "      <th>Independent</th>\n",
       "      <td>5.480026e+06</td>\n",
       "      <td>5.414298</td>\n",
       "    </tr>\n",
       "    <tr>\n",
       "      <th>Libertarian</th>\n",
       "      <td>1.026652e+06</td>\n",
       "      <td>0.830876</td>\n",
       "    </tr>\n",
       "    <tr>\n",
       "      <th>Natural Law</th>\n",
       "      <td>1.136700e+05</td>\n",
       "      <td>0.118219</td>\n",
       "    </tr>\n",
       "    <tr>\n",
       "      <th>New Alliance</th>\n",
       "      <td>2.172210e+05</td>\n",
       "      <td>0.237804</td>\n",
       "    </tr>\n",
       "    <tr>\n",
       "      <th>Populist</th>\n",
       "      <td>1.061520e+05</td>\n",
       "      <td>0.101918</td>\n",
       "    </tr>\n",
       "    <tr>\n",
       "      <th>Reform</th>\n",
       "      <td>4.267094e+06</td>\n",
       "      <td>4.417831</td>\n",
       "    </tr>\n",
       "    <tr>\n",
       "      <th>Republican</th>\n",
       "      <td>5.419334e+07</td>\n",
       "      <td>47.898650</td>\n",
       "    </tr>\n",
       "    <tr>\n",
       "      <th>Taxpayers</th>\n",
       "      <td>1.846560e+05</td>\n",
       "      <td>0.192045</td>\n",
       "    </tr>\n",
       "  </tbody>\n",
       "</table>\n",
       "</div>"
      ],
      "text/plain": [
       "              Popular vote          %\n",
       "Party                                \n",
       "Citizens      2.330520e+05   0.270182\n",
       "Constitution  1.821570e+05   0.139860\n",
       "Democratic    5.452196e+07  47.360184\n",
       "Green         8.831137e+05   0.767151\n",
       "Independent   5.480026e+06   5.414298\n",
       "Libertarian   1.026652e+06   0.830876\n",
       "Natural Law   1.136700e+05   0.118219\n",
       "New Alliance  2.172210e+05   0.237804\n",
       "Populist      1.061520e+05   0.101918\n",
       "Reform        4.267094e+06   4.417831\n",
       "Republican    5.419334e+07  47.898650\n",
       "Taxpayers     1.846560e+05   0.192045"
      ]
     },
     "execution_count": 15,
     "metadata": {},
     "output_type": "execute_result"
    }
   ],
   "source": [
    "elections_after_1980.groupby(\"Party\").mean()"
   ]
  },
  {
   "cell_type": "markdown",
   "id": "522812cb",
   "metadata": {},
   "source": [
    "Note that the index of the dataframe returned by an `groupby.agg` call is no longer a set of numeric indices from 0 to N-1. Instead, we see that the index for the example above is now the `Party`. If we want to restore our DataFrame so that `Party` is a column rather than the index, we can use `reset_index`."
   ]
  },
  {
   "cell_type": "code",
   "execution_count": 16,
   "id": "df55047d",
   "metadata": {},
   "outputs": [
    {
     "data": {
      "text/html": [
       "<div>\n",
       "<style scoped>\n",
       "    .dataframe tbody tr th:only-of-type {\n",
       "        vertical-align: middle;\n",
       "    }\n",
       "\n",
       "    .dataframe tbody tr th {\n",
       "        vertical-align: top;\n",
       "    }\n",
       "\n",
       "    .dataframe thead th {\n",
       "        text-align: right;\n",
       "    }\n",
       "</style>\n",
       "<table border=\"1\" class=\"dataframe\">\n",
       "  <thead>\n",
       "    <tr style=\"text-align: right;\">\n",
       "      <th></th>\n",
       "      <th>Party</th>\n",
       "      <th>Popular vote</th>\n",
       "      <th>%</th>\n",
       "    </tr>\n",
       "  </thead>\n",
       "  <tbody>\n",
       "    <tr>\n",
       "      <th>0</th>\n",
       "      <td>Citizens</td>\n",
       "      <td>2.330520e+05</td>\n",
       "      <td>0.270182</td>\n",
       "    </tr>\n",
       "    <tr>\n",
       "      <th>1</th>\n",
       "      <td>Constitution</td>\n",
       "      <td>1.821570e+05</td>\n",
       "      <td>0.139860</td>\n",
       "    </tr>\n",
       "    <tr>\n",
       "      <th>2</th>\n",
       "      <td>Democratic</td>\n",
       "      <td>5.452196e+07</td>\n",
       "      <td>47.360184</td>\n",
       "    </tr>\n",
       "    <tr>\n",
       "      <th>3</th>\n",
       "      <td>Green</td>\n",
       "      <td>8.831137e+05</td>\n",
       "      <td>0.767151</td>\n",
       "    </tr>\n",
       "    <tr>\n",
       "      <th>4</th>\n",
       "      <td>Independent</td>\n",
       "      <td>5.480026e+06</td>\n",
       "      <td>5.414298</td>\n",
       "    </tr>\n",
       "    <tr>\n",
       "      <th>5</th>\n",
       "      <td>Libertarian</td>\n",
       "      <td>1.026652e+06</td>\n",
       "      <td>0.830876</td>\n",
       "    </tr>\n",
       "    <tr>\n",
       "      <th>6</th>\n",
       "      <td>Natural Law</td>\n",
       "      <td>1.136700e+05</td>\n",
       "      <td>0.118219</td>\n",
       "    </tr>\n",
       "    <tr>\n",
       "      <th>7</th>\n",
       "      <td>New Alliance</td>\n",
       "      <td>2.172210e+05</td>\n",
       "      <td>0.237804</td>\n",
       "    </tr>\n",
       "    <tr>\n",
       "      <th>8</th>\n",
       "      <td>Populist</td>\n",
       "      <td>1.061520e+05</td>\n",
       "      <td>0.101918</td>\n",
       "    </tr>\n",
       "    <tr>\n",
       "      <th>9</th>\n",
       "      <td>Reform</td>\n",
       "      <td>4.267094e+06</td>\n",
       "      <td>4.417831</td>\n",
       "    </tr>\n",
       "    <tr>\n",
       "      <th>10</th>\n",
       "      <td>Republican</td>\n",
       "      <td>5.419334e+07</td>\n",
       "      <td>47.898650</td>\n",
       "    </tr>\n",
       "    <tr>\n",
       "      <th>11</th>\n",
       "      <td>Taxpayers</td>\n",
       "      <td>1.846560e+05</td>\n",
       "      <td>0.192045</td>\n",
       "    </tr>\n",
       "  </tbody>\n",
       "</table>\n",
       "</div>"
      ],
      "text/plain": [
       "           Party  Popular vote          %\n",
       "0       Citizens  2.330520e+05   0.270182\n",
       "1   Constitution  1.821570e+05   0.139860\n",
       "2     Democratic  5.452196e+07  47.360184\n",
       "3          Green  8.831137e+05   0.767151\n",
       "4    Independent  5.480026e+06   5.414298\n",
       "5    Libertarian  1.026652e+06   0.830876\n",
       "6    Natural Law  1.136700e+05   0.118219\n",
       "7   New Alliance  2.172210e+05   0.237804\n",
       "8       Populist  1.061520e+05   0.101918\n",
       "9         Reform  4.267094e+06   4.417831\n",
       "10    Republican  5.419334e+07  47.898650\n",
       "11     Taxpayers  1.846560e+05   0.192045"
      ]
     },
     "execution_count": 16,
     "metadata": {},
     "output_type": "execute_result"
    }
   ],
   "source": [
    "elections_after_1980.groupby(\"Party\").mean().reset_index()"
   ]
  },
  {
   "cell_type": "markdown",
   "id": "14a1f0c2",
   "metadata": {},
   "source": [
    "**IMPORTANT NOTE:** Notice that the code above consists of a series of chained method calls. This sort of code is very very common in Pandas programming and in data science in general. Such chained method calls can sometimes go many layers deep, in which case you might consider adding newlines between lines of code for clarity. For example, we could instead write the code above as:"
   ]
  },
  {
   "cell_type": "code",
   "execution_count": 17,
   "id": "e61b4998",
   "metadata": {},
   "outputs": [
    {
     "data": {
      "text/html": [
       "<div>\n",
       "<style scoped>\n",
       "    .dataframe tbody tr th:only-of-type {\n",
       "        vertical-align: middle;\n",
       "    }\n",
       "\n",
       "    .dataframe tbody tr th {\n",
       "        vertical-align: top;\n",
       "    }\n",
       "\n",
       "    .dataframe thead th {\n",
       "        text-align: right;\n",
       "    }\n",
       "</style>\n",
       "<table border=\"1\" class=\"dataframe\">\n",
       "  <thead>\n",
       "    <tr style=\"text-align: right;\">\n",
       "      <th></th>\n",
       "      <th>Party</th>\n",
       "      <th>Popular vote</th>\n",
       "      <th>%</th>\n",
       "    </tr>\n",
       "  </thead>\n",
       "  <tbody>\n",
       "    <tr>\n",
       "      <th>0</th>\n",
       "      <td>Citizens</td>\n",
       "      <td>2.330520e+05</td>\n",
       "      <td>0.270182</td>\n",
       "    </tr>\n",
       "    <tr>\n",
       "      <th>1</th>\n",
       "      <td>Constitution</td>\n",
       "      <td>1.821570e+05</td>\n",
       "      <td>0.139860</td>\n",
       "    </tr>\n",
       "    <tr>\n",
       "      <th>2</th>\n",
       "      <td>Democratic</td>\n",
       "      <td>5.452196e+07</td>\n",
       "      <td>47.360184</td>\n",
       "    </tr>\n",
       "    <tr>\n",
       "      <th>3</th>\n",
       "      <td>Green</td>\n",
       "      <td>8.831137e+05</td>\n",
       "      <td>0.767151</td>\n",
       "    </tr>\n",
       "    <tr>\n",
       "      <th>4</th>\n",
       "      <td>Independent</td>\n",
       "      <td>5.480026e+06</td>\n",
       "      <td>5.414298</td>\n",
       "    </tr>\n",
       "    <tr>\n",
       "      <th>5</th>\n",
       "      <td>Libertarian</td>\n",
       "      <td>1.026652e+06</td>\n",
       "      <td>0.830876</td>\n",
       "    </tr>\n",
       "    <tr>\n",
       "      <th>6</th>\n",
       "      <td>Natural Law</td>\n",
       "      <td>1.136700e+05</td>\n",
       "      <td>0.118219</td>\n",
       "    </tr>\n",
       "    <tr>\n",
       "      <th>7</th>\n",
       "      <td>New Alliance</td>\n",
       "      <td>2.172210e+05</td>\n",
       "      <td>0.237804</td>\n",
       "    </tr>\n",
       "    <tr>\n",
       "      <th>8</th>\n",
       "      <td>Populist</td>\n",
       "      <td>1.061520e+05</td>\n",
       "      <td>0.101918</td>\n",
       "    </tr>\n",
       "    <tr>\n",
       "      <th>9</th>\n",
       "      <td>Reform</td>\n",
       "      <td>4.267094e+06</td>\n",
       "      <td>4.417831</td>\n",
       "    </tr>\n",
       "    <tr>\n",
       "      <th>10</th>\n",
       "      <td>Republican</td>\n",
       "      <td>5.419334e+07</td>\n",
       "      <td>47.898650</td>\n",
       "    </tr>\n",
       "    <tr>\n",
       "      <th>11</th>\n",
       "      <td>Taxpayers</td>\n",
       "      <td>1.846560e+05</td>\n",
       "      <td>0.192045</td>\n",
       "    </tr>\n",
       "  </tbody>\n",
       "</table>\n",
       "</div>"
      ],
      "text/plain": [
       "           Party  Popular vote          %\n",
       "0       Citizens  2.330520e+05   0.270182\n",
       "1   Constitution  1.821570e+05   0.139860\n",
       "2     Democratic  5.452196e+07  47.360184\n",
       "3          Green  8.831137e+05   0.767151\n",
       "4    Independent  5.480026e+06   5.414298\n",
       "5    Libertarian  1.026652e+06   0.830876\n",
       "6    Natural Law  1.136700e+05   0.118219\n",
       "7   New Alliance  2.172210e+05   0.237804\n",
       "8       Populist  1.061520e+05   0.101918\n",
       "9         Reform  4.267094e+06   4.417831\n",
       "10    Republican  5.419334e+07  47.898650\n",
       "11     Taxpayers  1.846560e+05   0.192045"
      ]
     },
     "execution_count": 17,
     "metadata": {},
     "output_type": "execute_result"
    }
   ],
   "source": [
    "# pandas method chaining\n",
    "(\n",
    "elections.query(\"Year >= 1980\")[[\"Party\",\"Popular vote\", \"%\"]].groupby(\"Party\") \n",
    "                               .mean()            ## computes the mean values by party\n",
    "                               .reset_index()     ## reset to a numerical index\n",
    ")"
   ]
  },
  {
   "cell_type": "markdown",
   "id": "67c42e3b",
   "metadata": {},
   "source": [
    "Note that we have surrounded the entire call by a big set of parentheses so that Python doesn't complain about the indentation. An alternative is to use the \\ symbol to indicate to Python that your code continues on to the next line!"
   ]
  },
  {
   "cell_type": "code",
   "execution_count": 18,
   "id": "6f555ff6",
   "metadata": {
    "scrolled": true
   },
   "outputs": [
    {
     "data": {
      "text/html": [
       "<div>\n",
       "<style scoped>\n",
       "    .dataframe tbody tr th:only-of-type {\n",
       "        vertical-align: middle;\n",
       "    }\n",
       "\n",
       "    .dataframe tbody tr th {\n",
       "        vertical-align: top;\n",
       "    }\n",
       "\n",
       "    .dataframe thead th {\n",
       "        text-align: right;\n",
       "    }\n",
       "</style>\n",
       "<table border=\"1\" class=\"dataframe\">\n",
       "  <thead>\n",
       "    <tr style=\"text-align: right;\">\n",
       "      <th></th>\n",
       "      <th>Party</th>\n",
       "      <th>Popular vote</th>\n",
       "      <th>%</th>\n",
       "    </tr>\n",
       "  </thead>\n",
       "  <tbody>\n",
       "    <tr>\n",
       "      <th>0</th>\n",
       "      <td>Citizens</td>\n",
       "      <td>2.330520e+05</td>\n",
       "      <td>0.270182</td>\n",
       "    </tr>\n",
       "    <tr>\n",
       "      <th>1</th>\n",
       "      <td>Constitution</td>\n",
       "      <td>1.821570e+05</td>\n",
       "      <td>0.139860</td>\n",
       "    </tr>\n",
       "    <tr>\n",
       "      <th>2</th>\n",
       "      <td>Democratic</td>\n",
       "      <td>5.452196e+07</td>\n",
       "      <td>47.360184</td>\n",
       "    </tr>\n",
       "    <tr>\n",
       "      <th>3</th>\n",
       "      <td>Green</td>\n",
       "      <td>8.831137e+05</td>\n",
       "      <td>0.767151</td>\n",
       "    </tr>\n",
       "    <tr>\n",
       "      <th>4</th>\n",
       "      <td>Independent</td>\n",
       "      <td>5.480026e+06</td>\n",
       "      <td>5.414298</td>\n",
       "    </tr>\n",
       "    <tr>\n",
       "      <th>5</th>\n",
       "      <td>Libertarian</td>\n",
       "      <td>1.026652e+06</td>\n",
       "      <td>0.830876</td>\n",
       "    </tr>\n",
       "    <tr>\n",
       "      <th>6</th>\n",
       "      <td>Natural Law</td>\n",
       "      <td>1.136700e+05</td>\n",
       "      <td>0.118219</td>\n",
       "    </tr>\n",
       "    <tr>\n",
       "      <th>7</th>\n",
       "      <td>New Alliance</td>\n",
       "      <td>2.172210e+05</td>\n",
       "      <td>0.237804</td>\n",
       "    </tr>\n",
       "    <tr>\n",
       "      <th>8</th>\n",
       "      <td>Populist</td>\n",
       "      <td>1.061520e+05</td>\n",
       "      <td>0.101918</td>\n",
       "    </tr>\n",
       "    <tr>\n",
       "      <th>9</th>\n",
       "      <td>Reform</td>\n",
       "      <td>4.267094e+06</td>\n",
       "      <td>4.417831</td>\n",
       "    </tr>\n",
       "    <tr>\n",
       "      <th>10</th>\n",
       "      <td>Republican</td>\n",
       "      <td>5.419334e+07</td>\n",
       "      <td>47.898650</td>\n",
       "    </tr>\n",
       "    <tr>\n",
       "      <th>11</th>\n",
       "      <td>Taxpayers</td>\n",
       "      <td>1.846560e+05</td>\n",
       "      <td>0.192045</td>\n",
       "    </tr>\n",
       "  </tbody>\n",
       "</table>\n",
       "</div>"
      ],
      "text/plain": [
       "           Party  Popular vote          %\n",
       "0       Citizens  2.330520e+05   0.270182\n",
       "1   Constitution  1.821570e+05   0.139860\n",
       "2     Democratic  5.452196e+07  47.360184\n",
       "3          Green  8.831137e+05   0.767151\n",
       "4    Independent  5.480026e+06   5.414298\n",
       "5    Libertarian  1.026652e+06   0.830876\n",
       "6    Natural Law  1.136700e+05   0.118219\n",
       "7   New Alliance  2.172210e+05   0.237804\n",
       "8       Populist  1.061520e+05   0.101918\n",
       "9         Reform  4.267094e+06   4.417831\n",
       "10    Republican  5.419334e+07  47.898650\n",
       "11     Taxpayers  1.846560e+05   0.192045"
      ]
     },
     "execution_count": 18,
     "metadata": {},
     "output_type": "execute_result"
    }
   ],
   "source": [
    "# pandas method chaining (alternative)\n",
    "elections.query(\"Year >= 1980\")[[\"Party\",\"Popular vote\", \"%\"]].groupby(\"Party\") \\\n",
    "                               .mean() \\\n",
    "                               .reset_index()     "
   ]
  },
  {
   "cell_type": "markdown",
   "id": "69d5ec9f",
   "metadata": {},
   "source": [
    "**IMPORTANT NOTE:** You should NEVER solve problems like the one above using loops or list comprehensions. This is slow and also misses the entire point of this part of CSPB 3022. \n",
    "\n",
    "Before we continue, we'll print out the election dataset again for your convenience. "
   ]
  },
  {
   "cell_type": "code",
   "execution_count": 19,
   "id": "e44a479c",
   "metadata": {},
   "outputs": [
    {
     "data": {
      "text/html": [
       "<div>\n",
       "<style scoped>\n",
       "    .dataframe tbody tr th:only-of-type {\n",
       "        vertical-align: middle;\n",
       "    }\n",
       "\n",
       "    .dataframe tbody tr th {\n",
       "        vertical-align: top;\n",
       "    }\n",
       "\n",
       "    .dataframe thead th {\n",
       "        text-align: right;\n",
       "    }\n",
       "</style>\n",
       "<table border=\"1\" class=\"dataframe\">\n",
       "  <thead>\n",
       "    <tr style=\"text-align: right;\">\n",
       "      <th></th>\n",
       "      <th>Year</th>\n",
       "      <th>Candidate</th>\n",
       "      <th>Party</th>\n",
       "      <th>Popular vote</th>\n",
       "      <th>Result</th>\n",
       "      <th>%</th>\n",
       "    </tr>\n",
       "  </thead>\n",
       "  <tbody>\n",
       "    <tr>\n",
       "      <th>0</th>\n",
       "      <td>1824</td>\n",
       "      <td>Andrew Jackson</td>\n",
       "      <td>Democratic-Republican</td>\n",
       "      <td>151271</td>\n",
       "      <td>loss</td>\n",
       "      <td>57.210122</td>\n",
       "    </tr>\n",
       "    <tr>\n",
       "      <th>1</th>\n",
       "      <td>1824</td>\n",
       "      <td>John Quincy Adams</td>\n",
       "      <td>Democratic-Republican</td>\n",
       "      <td>113142</td>\n",
       "      <td>win</td>\n",
       "      <td>42.789878</td>\n",
       "    </tr>\n",
       "    <tr>\n",
       "      <th>2</th>\n",
       "      <td>1828</td>\n",
       "      <td>Andrew Jackson</td>\n",
       "      <td>Democratic</td>\n",
       "      <td>642806</td>\n",
       "      <td>win</td>\n",
       "      <td>56.203927</td>\n",
       "    </tr>\n",
       "    <tr>\n",
       "      <th>3</th>\n",
       "      <td>1828</td>\n",
       "      <td>John Quincy Adams</td>\n",
       "      <td>National Republican</td>\n",
       "      <td>500897</td>\n",
       "      <td>loss</td>\n",
       "      <td>43.796073</td>\n",
       "    </tr>\n",
       "    <tr>\n",
       "      <th>4</th>\n",
       "      <td>1832</td>\n",
       "      <td>Andrew Jackson</td>\n",
       "      <td>Democratic</td>\n",
       "      <td>702735</td>\n",
       "      <td>win</td>\n",
       "      <td>54.574789</td>\n",
       "    </tr>\n",
       "  </tbody>\n",
       "</table>\n",
       "</div>"
      ],
      "text/plain": [
       "   Year          Candidate                  Party  Popular vote Result  \\\n",
       "0  1824     Andrew Jackson  Democratic-Republican        151271   loss   \n",
       "1  1824  John Quincy Adams  Democratic-Republican        113142    win   \n",
       "2  1828     Andrew Jackson             Democratic        642806    win   \n",
       "3  1828  John Quincy Adams    National Republican        500897   loss   \n",
       "4  1832     Andrew Jackson             Democratic        702735    win   \n",
       "\n",
       "           %  \n",
       "0  57.210122  \n",
       "1  42.789878  \n",
       "2  56.203927  \n",
       "3  43.796073  \n",
       "4  54.574789  "
      ]
     },
     "execution_count": 19,
     "metadata": {},
     "output_type": "execute_result"
    }
   ],
   "source": [
    "elections.head(5)"
   ]
  },
  {
   "cell_type": "markdown",
   "id": "6d74df93",
   "metadata": {
    "deletable": false,
    "editable": false
   },
   "source": [
    "#### Question 1a\n",
    "Using `groupby.agg` or one of the shorthand methods (`groupby.min`, `groupby.first`, etc.), create a DataFrame `best_result_percentage_only` showing the overall best result for every party, sorted in decreasing order. \n",
    "Your DataFrame should **include only parties which have earned at least 10% of the vote** in some election. \n",
    "\n",
    "For example, the first 3 rows of your DataFrame should be:\n",
    "\n",
    "|Party | %         |\n",
    "|------|------|\n",
    "|**Democratic**  | 61.344703 |\n",
    "|**Republican**  | 60.907806 |\n",
    "|**Democratic-Republican**   | 57.210122 |\n",
    "\n",
    "Note that the index is `Party`. In other words, don't use `reset_index`.\n",
    "\n",
    "\n",
    "A list of named `groupby.agg` shorthand methods is [here](https://pandas.pydata.org/pandas-docs/stable/user_guide/groupby.html#aggregation) (you'll have to scroll down about one page).\n"
   ]
  },
  {
   "cell_type": "code",
   "execution_count": 20,
   "id": "f1f5793e",
   "metadata": {
    "ExecuteTime": {
     "end_time": "2020-09-16T20:55:17.183136Z",
     "start_time": "2020-09-16T20:55:17.172696Z"
    },
    "scrolled": true,
    "tags": []
   },
   "outputs": [
    {
     "data": {
      "text/html": [
       "<div>\n",
       "<style scoped>\n",
       "    .dataframe tbody tr th:only-of-type {\n",
       "        vertical-align: middle;\n",
       "    }\n",
       "\n",
       "    .dataframe tbody tr th {\n",
       "        vertical-align: top;\n",
       "    }\n",
       "\n",
       "    .dataframe thead th {\n",
       "        text-align: right;\n",
       "    }\n",
       "</style>\n",
       "<table border=\"1\" class=\"dataframe\">\n",
       "  <thead>\n",
       "    <tr style=\"text-align: right;\">\n",
       "      <th></th>\n",
       "      <th>%</th>\n",
       "    </tr>\n",
       "    <tr>\n",
       "      <th>Party</th>\n",
       "      <th></th>\n",
       "    </tr>\n",
       "  </thead>\n",
       "  <tbody>\n",
       "    <tr>\n",
       "      <th>Democratic</th>\n",
       "      <td>61.344703</td>\n",
       "    </tr>\n",
       "    <tr>\n",
       "      <th>Republican</th>\n",
       "      <td>60.907806</td>\n",
       "    </tr>\n",
       "    <tr>\n",
       "      <th>Democratic-Republican</th>\n",
       "      <td>57.210122</td>\n",
       "    </tr>\n",
       "    <tr>\n",
       "      <th>National Union</th>\n",
       "      <td>54.951512</td>\n",
       "    </tr>\n",
       "    <tr>\n",
       "      <th>Whig</th>\n",
       "      <td>53.051213</td>\n",
       "    </tr>\n",
       "    <tr>\n",
       "      <th>Liberal Republican</th>\n",
       "      <td>44.071406</td>\n",
       "    </tr>\n",
       "    <tr>\n",
       "      <th>National Republican</th>\n",
       "      <td>43.796073</td>\n",
       "    </tr>\n",
       "    <tr>\n",
       "      <th>Northern Democratic</th>\n",
       "      <td>29.522311</td>\n",
       "    </tr>\n",
       "    <tr>\n",
       "      <th>Progressive</th>\n",
       "      <td>27.457433</td>\n",
       "    </tr>\n",
       "    <tr>\n",
       "      <th>American</th>\n",
       "      <td>21.554001</td>\n",
       "    </tr>\n",
       "    <tr>\n",
       "      <th>Independent</th>\n",
       "      <td>18.956298</td>\n",
       "    </tr>\n",
       "    <tr>\n",
       "      <th>Southern Democratic</th>\n",
       "      <td>18.138998</td>\n",
       "    </tr>\n",
       "    <tr>\n",
       "      <th>American Independent</th>\n",
       "      <td>13.571218</td>\n",
       "    </tr>\n",
       "    <tr>\n",
       "      <th>Constitutional Union</th>\n",
       "      <td>12.639283</td>\n",
       "    </tr>\n",
       "    <tr>\n",
       "      <th>Free Soil</th>\n",
       "      <td>10.138474</td>\n",
       "    </tr>\n",
       "  </tbody>\n",
       "</table>\n",
       "</div>"
      ],
      "text/plain": [
       "                               %\n",
       "Party                           \n",
       "Democratic             61.344703\n",
       "Republican             60.907806\n",
       "Democratic-Republican  57.210122\n",
       "National Union         54.951512\n",
       "Whig                   53.051213\n",
       "Liberal Republican     44.071406\n",
       "National Republican    43.796073\n",
       "Northern Democratic    29.522311\n",
       "Progressive            27.457433\n",
       "American               21.554001\n",
       "Independent            18.956298\n",
       "Southern Democratic    18.138998\n",
       "American Independent   13.571218\n",
       "Constitutional Union   12.639283\n",
       "Free Soil              10.138474"
      ]
     },
     "execution_count": 20,
     "metadata": {},
     "output_type": "execute_result"
    }
   ],
   "source": [
    "best_result_percentage_only = elections.groupby('Party').agg({'%': 'max'})\n",
    "\n",
    "best_result_percentage_only = best_result_percentage_only[best_result_percentage_only['%'] >= 10]\n",
    "\n",
    "best_result_percentage_only = best_result_percentage_only.sort_values(by='%', ascending=False)\n",
    "\n",
    "best_result_percentage_only"
   ]
  },
  {
   "cell_type": "code",
   "execution_count": 21,
   "id": "5ccd907d",
   "metadata": {
    "deletable": false,
    "editable": false
   },
   "outputs": [
    {
     "data": {
      "text/html": [
       "<p><strong><pre style='display: inline;'>q1a</pre></strong> passed! 🚀</p>"
      ],
      "text/plain": [
       "q1a results: All test cases passed!"
      ]
     },
     "execution_count": 21,
     "metadata": {},
     "output_type": "execute_result"
    }
   ],
   "source": [
    "grader.check(\"q1a\")"
   ]
  },
  {
   "cell_type": "markdown",
   "id": "1d790d20",
   "metadata": {
    "deletable": false,
    "editable": false
   },
   "source": [
    "#### Question 1b  \n",
    "Repeat Question 1a. However, this time, your result should be a DataFrame called `best_result` that shows the overall best result for each party AND includes columns with the corresponding Year, Candidate, Popular Vote and Result.\n",
    "\n",
    "This question is trickier than Question 1a. Make sure to check the lecture slides if you're stuck! It's very easy to make a subtle mistake that shows Woodrow Wilson and Howard Taft both winning the 2020 election.\n",
    "\n",
    "Sort in descending order according to the best result.  \n",
    "\n",
    "For example, the first 3 rows of your table should be:\n",
    "\n",
    "|Party | Year | Candidate      | Popular Vote | Result | %         |\n",
    "|------|------|----------------|--------------|--------|-----------|\n",
    "|**Democratic**  | 1964 | Lyndon Johnson | 43127041      | win   | 61.344703 |\n",
    "|**Republican**  | 1972 | Richard Nixon | 47168710      | win   | 60.907806 |\n",
    "|**Democratic-Republican**  | 1824 | Andrew Jackson | 151271      | loss   | 57.210122 |\n",
    "\n",
    "Note that the index is `Party`. In other words, don't use `reset_index`.\n"
   ]
  },
  {
   "cell_type": "code",
   "execution_count": 22,
   "id": "b671e90a",
   "metadata": {
    "ExecuteTime": {
     "end_time": "2020-09-16T20:55:18.356549Z",
     "start_time": "2020-09-16T20:55:18.350541Z"
    },
    "tags": []
   },
   "outputs": [
    {
     "data": {
      "text/html": [
       "<div>\n",
       "<style scoped>\n",
       "    .dataframe tbody tr th:only-of-type {\n",
       "        vertical-align: middle;\n",
       "    }\n",
       "\n",
       "    .dataframe tbody tr th {\n",
       "        vertical-align: top;\n",
       "    }\n",
       "\n",
       "    .dataframe thead th {\n",
       "        text-align: right;\n",
       "    }\n",
       "</style>\n",
       "<table border=\"1\" class=\"dataframe\">\n",
       "  <thead>\n",
       "    <tr style=\"text-align: right;\">\n",
       "      <th></th>\n",
       "      <th>Year</th>\n",
       "      <th>Candidate</th>\n",
       "      <th>Popular vote</th>\n",
       "      <th>Result</th>\n",
       "      <th>%</th>\n",
       "    </tr>\n",
       "    <tr>\n",
       "      <th>Party</th>\n",
       "      <th></th>\n",
       "      <th></th>\n",
       "      <th></th>\n",
       "      <th></th>\n",
       "      <th></th>\n",
       "    </tr>\n",
       "  </thead>\n",
       "  <tbody>\n",
       "    <tr>\n",
       "      <th>Democratic</th>\n",
       "      <td>1964</td>\n",
       "      <td>Lyndon Johnson</td>\n",
       "      <td>43127041</td>\n",
       "      <td>win</td>\n",
       "      <td>61.344703</td>\n",
       "    </tr>\n",
       "    <tr>\n",
       "      <th>Republican</th>\n",
       "      <td>1972</td>\n",
       "      <td>Richard Nixon</td>\n",
       "      <td>47168710</td>\n",
       "      <td>win</td>\n",
       "      <td>60.907806</td>\n",
       "    </tr>\n",
       "    <tr>\n",
       "      <th>Democratic-Republican</th>\n",
       "      <td>1824</td>\n",
       "      <td>Andrew Jackson</td>\n",
       "      <td>151271</td>\n",
       "      <td>loss</td>\n",
       "      <td>57.210122</td>\n",
       "    </tr>\n",
       "    <tr>\n",
       "      <th>National Union</th>\n",
       "      <td>1864</td>\n",
       "      <td>Abraham Lincoln</td>\n",
       "      <td>2211317</td>\n",
       "      <td>win</td>\n",
       "      <td>54.951512</td>\n",
       "    </tr>\n",
       "    <tr>\n",
       "      <th>Whig</th>\n",
       "      <td>1840</td>\n",
       "      <td>William Henry Harrison</td>\n",
       "      <td>1275583</td>\n",
       "      <td>win</td>\n",
       "      <td>53.051213</td>\n",
       "    </tr>\n",
       "    <tr>\n",
       "      <th>Liberal Republican</th>\n",
       "      <td>1872</td>\n",
       "      <td>Horace Greeley</td>\n",
       "      <td>2834761</td>\n",
       "      <td>loss</td>\n",
       "      <td>44.071406</td>\n",
       "    </tr>\n",
       "    <tr>\n",
       "      <th>National Republican</th>\n",
       "      <td>1828</td>\n",
       "      <td>John Quincy Adams</td>\n",
       "      <td>500897</td>\n",
       "      <td>loss</td>\n",
       "      <td>43.796073</td>\n",
       "    </tr>\n",
       "    <tr>\n",
       "      <th>Northern Democratic</th>\n",
       "      <td>1860</td>\n",
       "      <td>Stephen A. Douglas</td>\n",
       "      <td>1380202</td>\n",
       "      <td>loss</td>\n",
       "      <td>29.522311</td>\n",
       "    </tr>\n",
       "    <tr>\n",
       "      <th>Progressive</th>\n",
       "      <td>1912</td>\n",
       "      <td>Theodore Roosevelt</td>\n",
       "      <td>4122721</td>\n",
       "      <td>loss</td>\n",
       "      <td>27.457433</td>\n",
       "    </tr>\n",
       "    <tr>\n",
       "      <th>American</th>\n",
       "      <td>1856</td>\n",
       "      <td>Millard Fillmore</td>\n",
       "      <td>873053</td>\n",
       "      <td>loss</td>\n",
       "      <td>21.554001</td>\n",
       "    </tr>\n",
       "    <tr>\n",
       "      <th>Independent</th>\n",
       "      <td>1992</td>\n",
       "      <td>Ross Perot</td>\n",
       "      <td>19743821</td>\n",
       "      <td>loss</td>\n",
       "      <td>18.956298</td>\n",
       "    </tr>\n",
       "    <tr>\n",
       "      <th>Southern Democratic</th>\n",
       "      <td>1860</td>\n",
       "      <td>John C. Breckinridge</td>\n",
       "      <td>848019</td>\n",
       "      <td>loss</td>\n",
       "      <td>18.138998</td>\n",
       "    </tr>\n",
       "    <tr>\n",
       "      <th>American Independent</th>\n",
       "      <td>1968</td>\n",
       "      <td>George Wallace</td>\n",
       "      <td>9901118</td>\n",
       "      <td>loss</td>\n",
       "      <td>13.571218</td>\n",
       "    </tr>\n",
       "    <tr>\n",
       "      <th>Constitutional Union</th>\n",
       "      <td>1860</td>\n",
       "      <td>John Bell</td>\n",
       "      <td>590901</td>\n",
       "      <td>loss</td>\n",
       "      <td>12.639283</td>\n",
       "    </tr>\n",
       "    <tr>\n",
       "      <th>Free Soil</th>\n",
       "      <td>1848</td>\n",
       "      <td>Martin Van Buren</td>\n",
       "      <td>291501</td>\n",
       "      <td>loss</td>\n",
       "      <td>10.138474</td>\n",
       "    </tr>\n",
       "  </tbody>\n",
       "</table>\n",
       "</div>"
      ],
      "text/plain": [
       "                       Year               Candidate  Popular vote Result  \\\n",
       "Party                                                                      \n",
       "Democratic             1964          Lyndon Johnson      43127041    win   \n",
       "Republican             1972           Richard Nixon      47168710    win   \n",
       "Democratic-Republican  1824          Andrew Jackson        151271   loss   \n",
       "National Union         1864         Abraham Lincoln       2211317    win   \n",
       "Whig                   1840  William Henry Harrison       1275583    win   \n",
       "Liberal Republican     1872          Horace Greeley       2834761   loss   \n",
       "National Republican    1828       John Quincy Adams        500897   loss   \n",
       "Northern Democratic    1860      Stephen A. Douglas       1380202   loss   \n",
       "Progressive            1912      Theodore Roosevelt       4122721   loss   \n",
       "American               1856        Millard Fillmore        873053   loss   \n",
       "Independent            1992              Ross Perot      19743821   loss   \n",
       "Southern Democratic    1860    John C. Breckinridge        848019   loss   \n",
       "American Independent   1968          George Wallace       9901118   loss   \n",
       "Constitutional Union   1860               John Bell        590901   loss   \n",
       "Free Soil              1848        Martin Van Buren        291501   loss   \n",
       "\n",
       "                               %  \n",
       "Party                             \n",
       "Democratic             61.344703  \n",
       "Republican             60.907806  \n",
       "Democratic-Republican  57.210122  \n",
       "National Union         54.951512  \n",
       "Whig                   53.051213  \n",
       "Liberal Republican     44.071406  \n",
       "National Republican    43.796073  \n",
       "Northern Democratic    29.522311  \n",
       "Progressive            27.457433  \n",
       "American               21.554001  \n",
       "Independent            18.956298  \n",
       "Southern Democratic    18.138998  \n",
       "American Independent   13.571218  \n",
       "Constitutional Union   12.639283  \n",
       "Free Soil              10.138474  "
      ]
     },
     "execution_count": 22,
     "metadata": {},
     "output_type": "execute_result"
    }
   ],
   "source": [
    "best_result = elections.groupby('Party').apply(lambda x: x.loc[x['%'].idxmax()])\n",
    "best_result = best_result[best_result['%'] >= 10]\n",
    "\n",
    "best_result = best_result.sort_values(by='%', ascending=False)\n",
    "\n",
    "best_result = best_result.drop(columns=['Party'])\n",
    "\n",
    "best_result"
   ]
  },
  {
   "cell_type": "code",
   "execution_count": 23,
   "id": "fb0345de",
   "metadata": {
    "deletable": false,
    "editable": false
   },
   "outputs": [
    {
     "data": {
      "text/html": [
       "<p><strong><pre style='display: inline;'>q1b</pre></strong> passed! 🌈</p>"
      ],
      "text/plain": [
       "q1b results: All test cases passed!"
      ]
     },
     "execution_count": 23,
     "metadata": {},
     "output_type": "execute_result"
    }
   ],
   "source": [
    "grader.check(\"q1b\")"
   ]
  },
  {
   "cell_type": "markdown",
   "id": "7f6c78b7",
   "metadata": {},
   "source": [
    "Our DataFrame contains a number of parties which have never had a successful presidential run. For example, the 2020 elections included candiates from the Libertarian and Green parties, neither of which have elected a president."
   ]
  },
  {
   "cell_type": "code",
   "execution_count": 24,
   "id": "7226be28",
   "metadata": {},
   "outputs": [
    {
     "data": {
      "text/html": [
       "<div>\n",
       "<style scoped>\n",
       "    .dataframe tbody tr th:only-of-type {\n",
       "        vertical-align: middle;\n",
       "    }\n",
       "\n",
       "    .dataframe tbody tr th {\n",
       "        vertical-align: top;\n",
       "    }\n",
       "\n",
       "    .dataframe thead th {\n",
       "        text-align: right;\n",
       "    }\n",
       "</style>\n",
       "<table border=\"1\" class=\"dataframe\">\n",
       "  <thead>\n",
       "    <tr style=\"text-align: right;\">\n",
       "      <th></th>\n",
       "      <th>Year</th>\n",
       "      <th>Candidate</th>\n",
       "      <th>Party</th>\n",
       "      <th>Popular vote</th>\n",
       "      <th>Result</th>\n",
       "      <th>%</th>\n",
       "    </tr>\n",
       "  </thead>\n",
       "  <tbody>\n",
       "    <tr>\n",
       "      <th>177</th>\n",
       "      <td>2016</td>\n",
       "      <td>Jill Stein</td>\n",
       "      <td>Green</td>\n",
       "      <td>1457226</td>\n",
       "      <td>loss</td>\n",
       "      <td>1.073699</td>\n",
       "    </tr>\n",
       "    <tr>\n",
       "      <th>178</th>\n",
       "      <td>2020</td>\n",
       "      <td>Joseph Biden</td>\n",
       "      <td>Democratic</td>\n",
       "      <td>81268924</td>\n",
       "      <td>win</td>\n",
       "      <td>51.311515</td>\n",
       "    </tr>\n",
       "    <tr>\n",
       "      <th>179</th>\n",
       "      <td>2020</td>\n",
       "      <td>Donald Trump</td>\n",
       "      <td>Republican</td>\n",
       "      <td>74216154</td>\n",
       "      <td>loss</td>\n",
       "      <td>46.858542</td>\n",
       "    </tr>\n",
       "    <tr>\n",
       "      <th>180</th>\n",
       "      <td>2020</td>\n",
       "      <td>Jo Jorgensen</td>\n",
       "      <td>Libertarian</td>\n",
       "      <td>1865724</td>\n",
       "      <td>loss</td>\n",
       "      <td>1.177979</td>\n",
       "    </tr>\n",
       "    <tr>\n",
       "      <th>181</th>\n",
       "      <td>2020</td>\n",
       "      <td>Howard Hawkins</td>\n",
       "      <td>Green</td>\n",
       "      <td>405035</td>\n",
       "      <td>loss</td>\n",
       "      <td>0.255731</td>\n",
       "    </tr>\n",
       "  </tbody>\n",
       "</table>\n",
       "</div>"
      ],
      "text/plain": [
       "     Year       Candidate        Party  Popular vote Result          %\n",
       "177  2016      Jill Stein        Green       1457226   loss   1.073699\n",
       "178  2020    Joseph Biden   Democratic      81268924    win  51.311515\n",
       "179  2020    Donald Trump   Republican      74216154   loss  46.858542\n",
       "180  2020    Jo Jorgensen  Libertarian       1865724   loss   1.177979\n",
       "181  2020  Howard Hawkins        Green        405035   loss   0.255731"
      ]
     },
     "execution_count": 24,
     "metadata": {},
     "output_type": "execute_result"
    }
   ],
   "source": [
    "# just run this cell\n",
    "elections.tail(5)"
   ]
  },
  {
   "cell_type": "markdown",
   "id": "0566db05",
   "metadata": {},
   "source": [
    "Suppose we were conducting an analysis trying to focus our attention on parties that had elected a president. \n",
    "\n",
    "The most natural approach is to use `groupby.filter`. This is an incredibly powerful but subtle tool for filtering data.  \n",
    "\n",
    "See the Pandas `groupby.filter` [documentation](https://pandas.pydata.org/docs/reference/api/pandas.core.groupby.DataFrameGroupBy.filter.html) for documentation on using `groupby.filter`.\n",
    "\n",
    "\n",
    "\n",
    "The code below accomplishes the task at hand. It does this by creating a function that returns True if and only if a sub-dataframe (a.k.a. group) contains at least one winner. This function in turn uses the [Pandas function \"any\"](https://pandas.pydata.org/docs/reference/api/pandas.Series.any.html)."
   ]
  },
  {
   "cell_type": "code",
   "execution_count": 25,
   "id": "ecffa0a2",
   "metadata": {
    "ExecuteTime": {
     "end_time": "2020-09-16T20:55:19.814724Z",
     "start_time": "2020-09-16T20:55:19.781171Z"
    }
   },
   "outputs": [
    {
     "data": {
      "text/html": [
       "<div>\n",
       "<style scoped>\n",
       "    .dataframe tbody tr th:only-of-type {\n",
       "        vertical-align: middle;\n",
       "    }\n",
       "\n",
       "    .dataframe tbody tr th {\n",
       "        vertical-align: top;\n",
       "    }\n",
       "\n",
       "    .dataframe thead th {\n",
       "        text-align: right;\n",
       "    }\n",
       "</style>\n",
       "<table border=\"1\" class=\"dataframe\">\n",
       "  <thead>\n",
       "    <tr style=\"text-align: right;\">\n",
       "      <th></th>\n",
       "      <th>Year</th>\n",
       "      <th>Candidate</th>\n",
       "      <th>Party</th>\n",
       "      <th>Popular vote</th>\n",
       "      <th>Result</th>\n",
       "      <th>%</th>\n",
       "    </tr>\n",
       "  </thead>\n",
       "  <tbody>\n",
       "    <tr>\n",
       "      <th>171</th>\n",
       "      <td>2012</td>\n",
       "      <td>Mitt Romney</td>\n",
       "      <td>Republican</td>\n",
       "      <td>60933504</td>\n",
       "      <td>loss</td>\n",
       "      <td>47.384076</td>\n",
       "    </tr>\n",
       "    <tr>\n",
       "      <th>173</th>\n",
       "      <td>2016</td>\n",
       "      <td>Donald Trump</td>\n",
       "      <td>Republican</td>\n",
       "      <td>62984828</td>\n",
       "      <td>win</td>\n",
       "      <td>46.407862</td>\n",
       "    </tr>\n",
       "    <tr>\n",
       "      <th>176</th>\n",
       "      <td>2016</td>\n",
       "      <td>Hillary Clinton</td>\n",
       "      <td>Democratic</td>\n",
       "      <td>65853514</td>\n",
       "      <td>loss</td>\n",
       "      <td>48.521539</td>\n",
       "    </tr>\n",
       "    <tr>\n",
       "      <th>178</th>\n",
       "      <td>2020</td>\n",
       "      <td>Joseph Biden</td>\n",
       "      <td>Democratic</td>\n",
       "      <td>81268924</td>\n",
       "      <td>win</td>\n",
       "      <td>51.311515</td>\n",
       "    </tr>\n",
       "    <tr>\n",
       "      <th>179</th>\n",
       "      <td>2020</td>\n",
       "      <td>Donald Trump</td>\n",
       "      <td>Republican</td>\n",
       "      <td>74216154</td>\n",
       "      <td>loss</td>\n",
       "      <td>46.858542</td>\n",
       "    </tr>\n",
       "  </tbody>\n",
       "</table>\n",
       "</div>"
      ],
      "text/plain": [
       "     Year        Candidate       Party  Popular vote Result          %\n",
       "171  2012      Mitt Romney  Republican      60933504   loss  47.384076\n",
       "173  2016     Donald Trump  Republican      62984828    win  46.407862\n",
       "176  2016  Hillary Clinton  Democratic      65853514   loss  48.521539\n",
       "178  2020     Joseph Biden  Democratic      81268924    win  51.311515\n",
       "179  2020     Donald Trump  Republican      74216154   loss  46.858542"
      ]
     },
     "execution_count": 25,
     "metadata": {},
     "output_type": "execute_result"
    }
   ],
   "source": [
    "# just run this cell\n",
    "def at_least_one_candidate_in_the_frame_has_won(frame):\n",
    "    \"\"\"Returns df with rows only kept for parties that have\n",
    "    won at least one election\n",
    "    \"\"\"\n",
    "    return (frame[\"Result\"] == 'win').any()\n",
    "\n",
    "winners_only = (\n",
    "    elections\n",
    "        .groupby(\"Party\")\n",
    "        .filter(at_least_one_candidate_in_the_frame_has_won)\n",
    ")\n",
    "winners_only.tail(5)"
   ]
  },
  {
   "cell_type": "markdown",
   "id": "e5a09da3",
   "metadata": {},
   "source": [
    "Alternately we could have used a `lambda` function instead of explicitly defining a named function using `def`. "
   ]
  },
  {
   "cell_type": "code",
   "execution_count": 26,
   "id": "fc479cef",
   "metadata": {},
   "outputs": [
    {
     "data": {
      "text/html": [
       "<div>\n",
       "<style scoped>\n",
       "    .dataframe tbody tr th:only-of-type {\n",
       "        vertical-align: middle;\n",
       "    }\n",
       "\n",
       "    .dataframe tbody tr th {\n",
       "        vertical-align: top;\n",
       "    }\n",
       "\n",
       "    .dataframe thead th {\n",
       "        text-align: right;\n",
       "    }\n",
       "</style>\n",
       "<table border=\"1\" class=\"dataframe\">\n",
       "  <thead>\n",
       "    <tr style=\"text-align: right;\">\n",
       "      <th></th>\n",
       "      <th>Year</th>\n",
       "      <th>Candidate</th>\n",
       "      <th>Party</th>\n",
       "      <th>Popular vote</th>\n",
       "      <th>Result</th>\n",
       "      <th>%</th>\n",
       "    </tr>\n",
       "  </thead>\n",
       "  <tbody>\n",
       "    <tr>\n",
       "      <th>171</th>\n",
       "      <td>2012</td>\n",
       "      <td>Mitt Romney</td>\n",
       "      <td>Republican</td>\n",
       "      <td>60933504</td>\n",
       "      <td>loss</td>\n",
       "      <td>47.384076</td>\n",
       "    </tr>\n",
       "    <tr>\n",
       "      <th>173</th>\n",
       "      <td>2016</td>\n",
       "      <td>Donald Trump</td>\n",
       "      <td>Republican</td>\n",
       "      <td>62984828</td>\n",
       "      <td>win</td>\n",
       "      <td>46.407862</td>\n",
       "    </tr>\n",
       "    <tr>\n",
       "      <th>176</th>\n",
       "      <td>2016</td>\n",
       "      <td>Hillary Clinton</td>\n",
       "      <td>Democratic</td>\n",
       "      <td>65853514</td>\n",
       "      <td>loss</td>\n",
       "      <td>48.521539</td>\n",
       "    </tr>\n",
       "    <tr>\n",
       "      <th>178</th>\n",
       "      <td>2020</td>\n",
       "      <td>Joseph Biden</td>\n",
       "      <td>Democratic</td>\n",
       "      <td>81268924</td>\n",
       "      <td>win</td>\n",
       "      <td>51.311515</td>\n",
       "    </tr>\n",
       "    <tr>\n",
       "      <th>179</th>\n",
       "      <td>2020</td>\n",
       "      <td>Donald Trump</td>\n",
       "      <td>Republican</td>\n",
       "      <td>74216154</td>\n",
       "      <td>loss</td>\n",
       "      <td>46.858542</td>\n",
       "    </tr>\n",
       "  </tbody>\n",
       "</table>\n",
       "</div>"
      ],
      "text/plain": [
       "     Year        Candidate       Party  Popular vote Result          %\n",
       "171  2012      Mitt Romney  Republican      60933504   loss  47.384076\n",
       "173  2016     Donald Trump  Republican      62984828    win  46.407862\n",
       "176  2016  Hillary Clinton  Democratic      65853514   loss  48.521539\n",
       "178  2020     Joseph Biden  Democratic      81268924    win  51.311515\n",
       "179  2020     Donald Trump  Republican      74216154   loss  46.858542"
      ]
     },
     "execution_count": 26,
     "metadata": {},
     "output_type": "execute_result"
    }
   ],
   "source": [
    "# just run this cell (alternative)\n",
    "winners_only = (\n",
    "    elections\n",
    "        .groupby(\"Party\")\n",
    "        .filter(lambda x : (x[\"Result\"] == \"win\").any())\n",
    ")\n",
    "winners_only.tail(5)"
   ]
  },
  {
   "cell_type": "markdown",
   "id": "d9ba0304",
   "metadata": {
    "deletable": false,
    "editable": false
   },
   "source": [
    "\n",
    "\n",
    "For the next question, you'll do a less restrictive filtering of the elections data.\n",
    "\n",
    "#### Question 1c\n",
    "\n",
    "Using `filter`, create a DataFrame `major_party_results_since_1988` that includes all election results starting in 1988, but only show a row if the Party it belongs to has earned at least 1% of the popular vote in ANY election since 1988.\n",
    "\n",
    "For example, in 1988, you should not include the `New Alliance` candidate, since this party has not earned 1% of the vote since 1988. However, you should include the `Libertarian` candidate from 1988 despite only having 0.47 percent of the vote in 1988, because in 2016 and 2020, the Libertarian candidates Gary Johnson and Jo Jorgensen exceeded 1% of the vote.\n",
    "\n",
    "For example, the first three rows of the table you generate should look like:\n",
    "\n",
    "|     |   Year | Candidate         | Party       |   Popular vote | Result   |         % |\n",
    "|----:|-------:|:------------------|:------------|---------------:|:---------|----------:|\n",
    "| 135 |   1988 | George H. W. Bush | Republican  |       48886597 | win      | 53.5188   |\n",
    "| 137 |   1988 | Michael Dukakis   | Democratic  |       41809074 | loss     | 45.7707   |\n",
    "| 138 |   1988 | Ron Paul          | Libertarian |         431750 | loss     |  0.47266  |\n",
    "\n",
    "*Hint*: The following questions might help you construct your solution. One of the lines should be identical to the `filter` examples shown above.\n",
    "\n",
    "1) How can we **only** keep rows in the data that are after 1988?\n",
    "2) What column should we `groupby` to filter out parties that have earned at least 1% of the popular vote in ANY election since 1988?\n",
    "3) How can we write an aggregation function that takes a subframe (or sub-DataFrame) and returns whether at least 1% of the vote has been earned in that subframe? This may give you a hint about the second question!\n"
   ]
  },
  {
   "cell_type": "code",
   "execution_count": 27,
   "id": "672ac3d4",
   "metadata": {
    "ExecuteTime": {
     "end_time": "2020-09-16T20:55:21.762599Z",
     "start_time": "2020-09-16T20:55:21.743430Z"
    },
    "tags": []
   },
   "outputs": [
    {
     "data": {
      "text/html": [
       "<div>\n",
       "<style scoped>\n",
       "    .dataframe tbody tr th:only-of-type {\n",
       "        vertical-align: middle;\n",
       "    }\n",
       "\n",
       "    .dataframe tbody tr th {\n",
       "        vertical-align: top;\n",
       "    }\n",
       "\n",
       "    .dataframe thead th {\n",
       "        text-align: right;\n",
       "    }\n",
       "</style>\n",
       "<table border=\"1\" class=\"dataframe\">\n",
       "  <thead>\n",
       "    <tr style=\"text-align: right;\">\n",
       "      <th></th>\n",
       "      <th>Year</th>\n",
       "      <th>Candidate</th>\n",
       "      <th>Party</th>\n",
       "      <th>Popular vote</th>\n",
       "      <th>Result</th>\n",
       "      <th>%</th>\n",
       "    </tr>\n",
       "  </thead>\n",
       "  <tbody>\n",
       "    <tr>\n",
       "      <th>135</th>\n",
       "      <td>1988</td>\n",
       "      <td>George H. W. Bush</td>\n",
       "      <td>Republican</td>\n",
       "      <td>48886597</td>\n",
       "      <td>win</td>\n",
       "      <td>53.518845</td>\n",
       "    </tr>\n",
       "    <tr>\n",
       "      <th>137</th>\n",
       "      <td>1988</td>\n",
       "      <td>Michael Dukakis</td>\n",
       "      <td>Democratic</td>\n",
       "      <td>41809074</td>\n",
       "      <td>loss</td>\n",
       "      <td>45.770691</td>\n",
       "    </tr>\n",
       "    <tr>\n",
       "      <th>138</th>\n",
       "      <td>1988</td>\n",
       "      <td>Ron Paul</td>\n",
       "      <td>Libertarian</td>\n",
       "      <td>431750</td>\n",
       "      <td>loss</td>\n",
       "      <td>0.472660</td>\n",
       "    </tr>\n",
       "    <tr>\n",
       "      <th>139</th>\n",
       "      <td>1992</td>\n",
       "      <td>Andre Marrou</td>\n",
       "      <td>Libertarian</td>\n",
       "      <td>290087</td>\n",
       "      <td>loss</td>\n",
       "      <td>0.278516</td>\n",
       "    </tr>\n",
       "    <tr>\n",
       "      <th>140</th>\n",
       "      <td>1992</td>\n",
       "      <td>Bill Clinton</td>\n",
       "      <td>Democratic</td>\n",
       "      <td>44909806</td>\n",
       "      <td>win</td>\n",
       "      <td>43.118485</td>\n",
       "    </tr>\n",
       "  </tbody>\n",
       "</table>\n",
       "</div>"
      ],
      "text/plain": [
       "     Year          Candidate        Party  Popular vote Result          %\n",
       "135  1988  George H. W. Bush   Republican      48886597    win  53.518845\n",
       "137  1988    Michael Dukakis   Democratic      41809074   loss  45.770691\n",
       "138  1988           Ron Paul  Libertarian        431750   loss   0.472660\n",
       "139  1992       Andre Marrou  Libertarian        290087   loss   0.278516\n",
       "140  1992       Bill Clinton   Democratic      44909806    win  43.118485"
      ]
     },
     "execution_count": 27,
     "metadata": {},
     "output_type": "execute_result"
    }
   ],
   "source": [
    "elections_since_1988 = elections[elections['Year'] >= 1988]\n",
    "\n",
    "def has_majority_vote(subframe):\n",
    "    return (subframe['%'] >= 1).any()\n",
    "major_party_results_since_1988 = elections_since_1988.groupby('Party').filter(has_majority_vote)\n",
    "major_party_results_since_1988.head()"
   ]
  },
  {
   "cell_type": "code",
   "execution_count": 28,
   "id": "ba852de2",
   "metadata": {
    "deletable": false,
    "editable": false
   },
   "outputs": [
    {
     "data": {
      "text/html": [
       "<p><strong><pre style='display: inline;'>q1c</pre></strong> passed! 🎉</p>"
      ],
      "text/plain": [
       "q1c results: All test cases passed!"
      ]
     },
     "execution_count": 28,
     "metadata": {},
     "output_type": "execute_result"
    }
   ],
   "source": [
    "grader.check(\"q1c\")"
   ]
  },
  {
   "cell_type": "markdown",
   "id": "1bfbce43",
   "metadata": {},
   "source": [
    "Pandas provides special purpose functions for working with specific common data types such as strings and dates. For example, the code below provides the length of every Candidate's name from our elections dataset."
   ]
  },
  {
   "cell_type": "code",
   "execution_count": 29,
   "id": "5125ce02",
   "metadata": {},
   "outputs": [
    {
     "data": {
      "text/plain": [
       "0      14\n",
       "1      17\n",
       "2      14\n",
       "3      17\n",
       "4      14\n",
       "       ..\n",
       "177    10\n",
       "178    12\n",
       "179    12\n",
       "180    12\n",
       "181    14\n",
       "Name: Candidate, Length: 182, dtype: int64"
      ]
     },
     "execution_count": 29,
     "metadata": {},
     "output_type": "execute_result"
    }
   ],
   "source": [
    "elections[\"Candidate\"].str.len()"
   ]
  },
  {
   "cell_type": "markdown",
   "id": "64ef5799",
   "metadata": {
    "deletable": false,
    "editable": false
   },
   "source": [
    "### Question 2\n",
    "\n",
    "Using `.str.split` create a new DataFrame called `elections_with_first_name` with a new column `First Name` that is equal to the Candidate's first name.\n",
    "\n",
    "See the Pandas `str` [documentation](https://pandas.pydata.org/docs/reference/api/pandas.Series.str.split.html) for documentation on using `str.split`.\n",
    "\n",
    "Hint: You will need to use `[0]` somewhere in your code.\n"
   ]
  },
  {
   "cell_type": "code",
   "execution_count": 30,
   "id": "de839199",
   "metadata": {
    "ExecuteTime": {
     "end_time": "2020-09-16T03:07:32.775469Z",
     "start_time": "2020-09-16T03:07:32.769402Z"
    },
    "tags": []
   },
   "outputs": [
    {
     "data": {
      "text/html": [
       "<div>\n",
       "<style scoped>\n",
       "    .dataframe tbody tr th:only-of-type {\n",
       "        vertical-align: middle;\n",
       "    }\n",
       "\n",
       "    .dataframe tbody tr th {\n",
       "        vertical-align: top;\n",
       "    }\n",
       "\n",
       "    .dataframe thead th {\n",
       "        text-align: right;\n",
       "    }\n",
       "</style>\n",
       "<table border=\"1\" class=\"dataframe\">\n",
       "  <thead>\n",
       "    <tr style=\"text-align: right;\">\n",
       "      <th></th>\n",
       "      <th>Year</th>\n",
       "      <th>Candidate</th>\n",
       "      <th>Party</th>\n",
       "      <th>Popular vote</th>\n",
       "      <th>Result</th>\n",
       "      <th>%</th>\n",
       "      <th>First Name</th>\n",
       "    </tr>\n",
       "  </thead>\n",
       "  <tbody>\n",
       "    <tr>\n",
       "      <th>0</th>\n",
       "      <td>1824</td>\n",
       "      <td>Andrew Jackson</td>\n",
       "      <td>Democratic-Republican</td>\n",
       "      <td>151271</td>\n",
       "      <td>loss</td>\n",
       "      <td>57.210122</td>\n",
       "      <td>Andrew</td>\n",
       "    </tr>\n",
       "    <tr>\n",
       "      <th>1</th>\n",
       "      <td>1824</td>\n",
       "      <td>John Quincy Adams</td>\n",
       "      <td>Democratic-Republican</td>\n",
       "      <td>113142</td>\n",
       "      <td>win</td>\n",
       "      <td>42.789878</td>\n",
       "      <td>John</td>\n",
       "    </tr>\n",
       "    <tr>\n",
       "      <th>2</th>\n",
       "      <td>1828</td>\n",
       "      <td>Andrew Jackson</td>\n",
       "      <td>Democratic</td>\n",
       "      <td>642806</td>\n",
       "      <td>win</td>\n",
       "      <td>56.203927</td>\n",
       "      <td>Andrew</td>\n",
       "    </tr>\n",
       "    <tr>\n",
       "      <th>3</th>\n",
       "      <td>1828</td>\n",
       "      <td>John Quincy Adams</td>\n",
       "      <td>National Republican</td>\n",
       "      <td>500897</td>\n",
       "      <td>loss</td>\n",
       "      <td>43.796073</td>\n",
       "      <td>John</td>\n",
       "    </tr>\n",
       "    <tr>\n",
       "      <th>4</th>\n",
       "      <td>1832</td>\n",
       "      <td>Andrew Jackson</td>\n",
       "      <td>Democratic</td>\n",
       "      <td>702735</td>\n",
       "      <td>win</td>\n",
       "      <td>54.574789</td>\n",
       "      <td>Andrew</td>\n",
       "    </tr>\n",
       "    <tr>\n",
       "      <th>...</th>\n",
       "      <td>...</td>\n",
       "      <td>...</td>\n",
       "      <td>...</td>\n",
       "      <td>...</td>\n",
       "      <td>...</td>\n",
       "      <td>...</td>\n",
       "      <td>...</td>\n",
       "    </tr>\n",
       "    <tr>\n",
       "      <th>177</th>\n",
       "      <td>2016</td>\n",
       "      <td>Jill Stein</td>\n",
       "      <td>Green</td>\n",
       "      <td>1457226</td>\n",
       "      <td>loss</td>\n",
       "      <td>1.073699</td>\n",
       "      <td>Jill</td>\n",
       "    </tr>\n",
       "    <tr>\n",
       "      <th>178</th>\n",
       "      <td>2020</td>\n",
       "      <td>Joseph Biden</td>\n",
       "      <td>Democratic</td>\n",
       "      <td>81268924</td>\n",
       "      <td>win</td>\n",
       "      <td>51.311515</td>\n",
       "      <td>Joseph</td>\n",
       "    </tr>\n",
       "    <tr>\n",
       "      <th>179</th>\n",
       "      <td>2020</td>\n",
       "      <td>Donald Trump</td>\n",
       "      <td>Republican</td>\n",
       "      <td>74216154</td>\n",
       "      <td>loss</td>\n",
       "      <td>46.858542</td>\n",
       "      <td>Donald</td>\n",
       "    </tr>\n",
       "    <tr>\n",
       "      <th>180</th>\n",
       "      <td>2020</td>\n",
       "      <td>Jo Jorgensen</td>\n",
       "      <td>Libertarian</td>\n",
       "      <td>1865724</td>\n",
       "      <td>loss</td>\n",
       "      <td>1.177979</td>\n",
       "      <td>Jo</td>\n",
       "    </tr>\n",
       "    <tr>\n",
       "      <th>181</th>\n",
       "      <td>2020</td>\n",
       "      <td>Howard Hawkins</td>\n",
       "      <td>Green</td>\n",
       "      <td>405035</td>\n",
       "      <td>loss</td>\n",
       "      <td>0.255731</td>\n",
       "      <td>Howard</td>\n",
       "    </tr>\n",
       "  </tbody>\n",
       "</table>\n",
       "<p>182 rows × 7 columns</p>\n",
       "</div>"
      ],
      "text/plain": [
       "     Year          Candidate                  Party  Popular vote Result  \\\n",
       "0    1824     Andrew Jackson  Democratic-Republican        151271   loss   \n",
       "1    1824  John Quincy Adams  Democratic-Republican        113142    win   \n",
       "2    1828     Andrew Jackson             Democratic        642806    win   \n",
       "3    1828  John Quincy Adams    National Republican        500897   loss   \n",
       "4    1832     Andrew Jackson             Democratic        702735    win   \n",
       "..    ...                ...                    ...           ...    ...   \n",
       "177  2016         Jill Stein                  Green       1457226   loss   \n",
       "178  2020       Joseph Biden             Democratic      81268924    win   \n",
       "179  2020       Donald Trump             Republican      74216154   loss   \n",
       "180  2020       Jo Jorgensen            Libertarian       1865724   loss   \n",
       "181  2020     Howard Hawkins                  Green        405035   loss   \n",
       "\n",
       "             % First Name  \n",
       "0    57.210122     Andrew  \n",
       "1    42.789878       John  \n",
       "2    56.203927     Andrew  \n",
       "3    43.796073       John  \n",
       "4    54.574789     Andrew  \n",
       "..         ...        ...  \n",
       "177   1.073699       Jill  \n",
       "178  51.311515     Joseph  \n",
       "179  46.858542     Donald  \n",
       "180   1.177979         Jo  \n",
       "181   0.255731     Howard  \n",
       "\n",
       "[182 rows x 7 columns]"
      ]
     },
     "execution_count": 30,
     "metadata": {},
     "output_type": "execute_result"
    }
   ],
   "source": [
    "elections_with_first_name = elections.copy()  # Create a copy of the original DataFrame\n",
    "\n",
    "elections_with_first_name['First Name'] = elections_with_first_name['Candidate'].str.split().str[0]\n",
    "\n",
    "elections_with_first_name"
   ]
  },
  {
   "cell_type": "code",
   "execution_count": 31,
   "id": "339678d5",
   "metadata": {
    "deletable": false,
    "editable": false
   },
   "outputs": [
    {
     "data": {
      "text/html": [
       "<p><strong><pre style='display: inline;'>q2</pre></strong> passed! 🌟</p>"
      ],
      "text/plain": [
       "q2 results: All test cases passed!"
      ]
     },
     "execution_count": 31,
     "metadata": {},
     "output_type": "execute_result"
    }
   ],
   "source": [
    "grader.check(\"q2\")"
   ]
  },
  {
   "cell_type": "markdown",
   "id": "f3453801",
   "metadata": {
    "nbgrader": {
     "grade": false,
     "grade_id": "babyname_dataset",
     "locked": true,
     "schema_version": 2,
     "solution": false
    }
   },
   "source": [
    "### QUESTION 3: Babynames Dataset\n",
    "\n",
    "We will now download data from the United States Social Security office containing the number of registered names broken down by **year**, **sex**, and **name**. This is often called the Baby Names Data as social security numbers (SSNs) are typically given at birth.\n",
    "\n",
    "Reading from [SSN Office description](https://www.ssa.gov/oact/babynames/background.html), bolded for readability: \n",
    "\n",
    "\n",
    "> All names are from Social Security card applications for **births that occurred in the United States** after 1879. **Note that many people born before 1937 never applied** for a Social Security card, so their names are not included in our data. For others who did apply, our records may not show the place of birth, and again their names are not included in our data.\n",
    "\n",
    "> **To safeguard privacy, we exclude** from our tabulated lists of names those that would indicate, or would allow the ability to determine, **names with fewer than 5 occurrences** in any geographic area. If a name has less than 5 occurrences for a year of birth in any state, the sum of the state counts for that year will be less than the national count.\n",
    "\n",
    "> All data are from a **100% sample** of our records on Social Security card applications as of March 2023.\n",
    "\n",
    "\n",
    "First let's run the following cells to build the DataFrame `baby_names`.\n",
    "\n",
    "The cells below download the data from the web and extract the data into a DataFrame. There should be a total of 6215834 records.\n",
    "\n",
    "The code shown here is outside of the scope of CSCI 3022, but you're encouraged to dig into it if you are interested!\n"
   ]
  },
  {
   "cell_type": "markdown",
   "id": "013988ad",
   "metadata": {
    "nbgrader": {
     "grade": false,
     "grade_id": "fetch_and_cache",
     "locked": true,
     "schema_version": 2,
     "solution": false
    }
   },
   "source": [
    "### `fetch_and_cache` Helper\n",
    "\n",
    "The following function downloads and caches data in the `data/` directory and returns the `Path` to the downloaded file. The cell below the function describes how it works. You are not expected to understand this code, but you may find it useful as a reference as a practitioner of data science after the course. "
   ]
  },
  {
   "cell_type": "code",
   "execution_count": 32,
   "id": "1646d279",
   "metadata": {
    "nbgrader": {
     "grade": false,
     "grade_id": "fetch_and_cache_code",
     "locked": true,
     "schema_version": 2,
     "solution": false
    }
   },
   "outputs": [],
   "source": [
    "import requests\n",
    "from pathlib import Path\n",
    "\n",
    "def fetch_and_cache(data_url, file, data_dir=\"data\", force=False):\n",
    "    \"\"\"\n",
    "    Download and cache a url and return the file object.\n",
    "    \n",
    "    data_url: the web address to download\n",
    "    file: the file in which to save the results.\n",
    "    data_dir: (default=\"data\") the location to save the data\n",
    "    force: if true the file is always re-downloaded \n",
    "    \n",
    "    return: The pathlib.Path to the file.\n",
    "    \"\"\"\n",
    "    data_dir = Path(data_dir)\n",
    "    data_dir.mkdir(exist_ok=True)\n",
    "    file_path = data_dir/Path(file)\n",
    "    if force and file_path.exists():\n",
    "        file_path.unlink()\n",
    "    if force or not file_path.exists():\n",
    "        print('Downloading...', end=' ')\n",
    "        resp = requests.get(data_url)\n",
    "        with file_path.open('wb') as f:\n",
    "            f.write(resp.content)\n",
    "        print('Done!')\n",
    "    else:\n",
    "        import time \n",
    "        created = time.ctime(file_path.stat().st_ctime)\n",
    "        print(\"Using cached version downloaded at\", created)\n",
    "    return file_path"
   ]
  },
  {
   "cell_type": "markdown",
   "id": "2a3296ad",
   "metadata": {
    "nbgrader": {
     "grade": false,
     "grade_id": "cell-18d54d536c23da04",
     "locked": true,
     "schema_version": 2,
     "solution": false
    }
   },
   "source": [
    "In Python, a `Path` object represents the filesystem paths to files (and other resources). The `pathlib` module is effective for writing code that works on different operating systems and filesystems. \n",
    "\n",
    "To check if a file exists at a path, use `.exists()`. To create a directory for a path, use `.mkdir()`. To remove a file that might be a [symbolic link](https://en.wikipedia.org/wiki/Symbolic_link), use `.unlink()`. \n",
    "\n",
    "This function creates a path to a directory that will contain data files. It ensures that the directory exists (which is required to write files in that directory), then proceeds to download the file based on its URL.\n",
    "\n",
    "The benefit of this function is that not only can you force when you want a new file to be downloaded using the `force` parameter, but in cases when you don't need the file to be re-downloaded, you can use the cached version and save download time."
   ]
  },
  {
   "cell_type": "markdown",
   "id": "be165664",
   "metadata": {
    "nbgrader": {
     "grade": false,
     "grade_id": "download_data",
     "locked": true,
     "schema_version": 2,
     "solution": false
    }
   },
   "source": [
    "Below we use `fetch_and_cache` to download the `namesbystate.zip` zip file, which is a compressed directory of CSV files. \n",
    "\n",
    "**This might take a little while! Consider stretching.**"
   ]
  },
  {
   "cell_type": "code",
   "execution_count": 33,
   "id": "4688ecc4",
   "metadata": {
    "nbgrader": {
     "grade": false,
     "grade_id": "download_data_code",
     "locked": true,
     "schema_version": 2,
     "solution": false
    }
   },
   "outputs": [
    {
     "name": "stdout",
     "output_type": "stream",
     "text": [
      "Using cached version downloaded at Wed Jan 24 07:49:07 2024\n"
     ]
    }
   ],
   "source": [
    "data_url = 'https://www.ssa.gov/oact/babynames/state/namesbystate.zip'\n",
    "namesbystate_path = fetch_and_cache(data_url, 'namesbystate.zip')"
   ]
  },
  {
   "cell_type": "markdown",
   "id": "ccbcba4b",
   "metadata": {
    "nbgrader": {
     "grade": false,
     "grade_id": "build_df",
     "locked": true,
     "schema_version": 2,
     "solution": false
    }
   },
   "source": [
    "The following cell builds the final full `baby_names` DataFrame. It first builds one DataFrame per state, because that's how the data are stored in the zip file. Here is documentation for [pd.concat](https://pandas.pydata.org/pandas-docs/version/1.2/reference/api/pandas.concat.html) if you want to know more about its functionality. As before, you are not expected to understand this code. "
   ]
  },
  {
   "cell_type": "code",
   "execution_count": 34,
   "id": "8cefbbde",
   "metadata": {
    "nbgrader": {
     "grade": false,
     "grade_id": "build_df_code",
     "locked": true,
     "schema_version": 2,
     "solution": false
    }
   },
   "outputs": [],
   "source": [
    "import zipfile\n",
    "zf = zipfile.ZipFile(namesbystate_path, 'r')\n",
    "\n",
    "column_labels = ['State', 'Sex', 'Year', 'Name', 'Count']\n",
    "\n",
    "def load_dataframe_from_zip(zf, f):\n",
    "    with zf.open(f) as fh: \n",
    "        return pd.read_csv(fh, header=None, names=column_labels)\n",
    "\n",
    "states = [\n",
    "    load_dataframe_from_zip(zf, f)\n",
    "    for f in sorted(zf.filelist, key=lambda x:x.filename) \n",
    "    if f.filename.endswith('.TXT')\n",
    "]\n",
    "\n",
    "baby_names = states[0]\n",
    "for state_df in states[1:]:\n",
    "    baby_names = pd.concat([baby_names, state_df])\n",
    "baby_names = baby_names.reset_index().iloc[:, 1:]"
   ]
  },
  {
   "cell_type": "code",
   "execution_count": 35,
   "id": "56735299",
   "metadata": {
    "scrolled": true
   },
   "outputs": [
    {
     "data": {
      "text/html": [
       "<div>\n",
       "<style scoped>\n",
       "    .dataframe tbody tr th:only-of-type {\n",
       "        vertical-align: middle;\n",
       "    }\n",
       "\n",
       "    .dataframe tbody tr th {\n",
       "        vertical-align: top;\n",
       "    }\n",
       "\n",
       "    .dataframe thead th {\n",
       "        text-align: right;\n",
       "    }\n",
       "</style>\n",
       "<table border=\"1\" class=\"dataframe\">\n",
       "  <thead>\n",
       "    <tr style=\"text-align: right;\">\n",
       "      <th></th>\n",
       "      <th>State</th>\n",
       "      <th>Sex</th>\n",
       "      <th>Year</th>\n",
       "      <th>Name</th>\n",
       "      <th>Count</th>\n",
       "    </tr>\n",
       "  </thead>\n",
       "  <tbody>\n",
       "    <tr>\n",
       "      <th>0</th>\n",
       "      <td>AK</td>\n",
       "      <td>F</td>\n",
       "      <td>1910</td>\n",
       "      <td>Mary</td>\n",
       "      <td>14</td>\n",
       "    </tr>\n",
       "    <tr>\n",
       "      <th>1</th>\n",
       "      <td>AK</td>\n",
       "      <td>F</td>\n",
       "      <td>1910</td>\n",
       "      <td>Annie</td>\n",
       "      <td>12</td>\n",
       "    </tr>\n",
       "    <tr>\n",
       "      <th>2</th>\n",
       "      <td>AK</td>\n",
       "      <td>F</td>\n",
       "      <td>1910</td>\n",
       "      <td>Anna</td>\n",
       "      <td>10</td>\n",
       "    </tr>\n",
       "    <tr>\n",
       "      <th>3</th>\n",
       "      <td>AK</td>\n",
       "      <td>F</td>\n",
       "      <td>1910</td>\n",
       "      <td>Margaret</td>\n",
       "      <td>8</td>\n",
       "    </tr>\n",
       "    <tr>\n",
       "      <th>4</th>\n",
       "      <td>AK</td>\n",
       "      <td>F</td>\n",
       "      <td>1910</td>\n",
       "      <td>Helen</td>\n",
       "      <td>7</td>\n",
       "    </tr>\n",
       "  </tbody>\n",
       "</table>\n",
       "</div>"
      ],
      "text/plain": [
       "  State Sex  Year      Name  Count\n",
       "0    AK   F  1910      Mary     14\n",
       "1    AK   F  1910     Annie     12\n",
       "2    AK   F  1910      Anna     10\n",
       "3    AK   F  1910  Margaret      8\n",
       "4    AK   F  1910     Helen      7"
      ]
     },
     "execution_count": 35,
     "metadata": {},
     "output_type": "execute_result"
    }
   ],
   "source": [
    "baby_names.head()"
   ]
  },
  {
   "cell_type": "markdown",
   "id": "0d76f9af",
   "metadata": {},
   "source": [
    "The code below creates a table with the frequency of all names from 2020."
   ]
  },
  {
   "cell_type": "code",
   "execution_count": 36,
   "id": "4c7acd4e",
   "metadata": {},
   "outputs": [
    {
     "data": {
      "text/html": [
       "<div>\n",
       "<style scoped>\n",
       "    .dataframe tbody tr th:only-of-type {\n",
       "        vertical-align: middle;\n",
       "    }\n",
       "\n",
       "    .dataframe tbody tr th {\n",
       "        vertical-align: top;\n",
       "    }\n",
       "\n",
       "    .dataframe thead th {\n",
       "        text-align: right;\n",
       "    }\n",
       "</style>\n",
       "<table border=\"1\" class=\"dataframe\">\n",
       "  <thead>\n",
       "    <tr style=\"text-align: right;\">\n",
       "      <th></th>\n",
       "      <th>Name</th>\n",
       "      <th>Count</th>\n",
       "    </tr>\n",
       "  </thead>\n",
       "  <tbody>\n",
       "    <tr>\n",
       "      <th>0</th>\n",
       "      <td>Aaden</td>\n",
       "      <td>15</td>\n",
       "    </tr>\n",
       "    <tr>\n",
       "      <th>1</th>\n",
       "      <td>Aadhira</td>\n",
       "      <td>6</td>\n",
       "    </tr>\n",
       "    <tr>\n",
       "      <th>2</th>\n",
       "      <td>Aadhvik</td>\n",
       "      <td>5</td>\n",
       "    </tr>\n",
       "    <tr>\n",
       "      <th>3</th>\n",
       "      <td>Aadhya</td>\n",
       "      <td>186</td>\n",
       "    </tr>\n",
       "    <tr>\n",
       "      <th>4</th>\n",
       "      <td>Aadi</td>\n",
       "      <td>14</td>\n",
       "    </tr>\n",
       "    <tr>\n",
       "      <th>...</th>\n",
       "      <td>...</td>\n",
       "      <td>...</td>\n",
       "    </tr>\n",
       "    <tr>\n",
       "      <th>8758</th>\n",
       "      <td>Zymere</td>\n",
       "      <td>6</td>\n",
       "    </tr>\n",
       "    <tr>\n",
       "      <th>8759</th>\n",
       "      <td>Zymir</td>\n",
       "      <td>75</td>\n",
       "    </tr>\n",
       "    <tr>\n",
       "      <th>8760</th>\n",
       "      <td>Zyon</td>\n",
       "      <td>136</td>\n",
       "    </tr>\n",
       "    <tr>\n",
       "      <th>8761</th>\n",
       "      <td>Zyra</td>\n",
       "      <td>33</td>\n",
       "    </tr>\n",
       "    <tr>\n",
       "      <th>8762</th>\n",
       "      <td>Zyrah</td>\n",
       "      <td>5</td>\n",
       "    </tr>\n",
       "  </tbody>\n",
       "</table>\n",
       "<p>8763 rows × 2 columns</p>\n",
       "</div>"
      ],
      "text/plain": [
       "         Name  Count\n",
       "0       Aaden     15\n",
       "1     Aadhira      6\n",
       "2     Aadhvik      5\n",
       "3      Aadhya    186\n",
       "4        Aadi     14\n",
       "...       ...    ...\n",
       "8758   Zymere      6\n",
       "8759    Zymir     75\n",
       "8760     Zyon    136\n",
       "8761     Zyra     33\n",
       "8762    Zyrah      5\n",
       "\n",
       "[8763 rows x 2 columns]"
      ]
     },
     "execution_count": 36,
     "metadata": {},
     "output_type": "execute_result"
    }
   ],
   "source": [
    "# just run this cell\n",
    "baby_names_2020 = (\n",
    "    baby_names.query('Year == 2020')\n",
    "              .groupby(\"Name\")\n",
    "              .sum()[[\"Count\"]]\n",
    "              .reset_index()\n",
    ")\n",
    "baby_names_2020"
   ]
  },
  {
   "cell_type": "markdown",
   "id": "cdc658ae",
   "metadata": {
    "deletable": false,
    "editable": false
   },
   "source": [
    "#### Question 3a). \n",
    "Using the `pd.merge` function described in lecture, combine the `baby_names_2020` table with the `elections_with_first_name` table you created earlier to form `presidential_candidates_and_name_popularity`.\n"
   ]
  },
  {
   "cell_type": "code",
   "execution_count": 37,
   "id": "80c03a8c",
   "metadata": {
    "tags": []
   },
   "outputs": [
    {
     "data": {
      "text/html": [
       "<div>\n",
       "<style scoped>\n",
       "    .dataframe tbody tr th:only-of-type {\n",
       "        vertical-align: middle;\n",
       "    }\n",
       "\n",
       "    .dataframe tbody tr th {\n",
       "        vertical-align: top;\n",
       "    }\n",
       "\n",
       "    .dataframe thead th {\n",
       "        text-align: right;\n",
       "    }\n",
       "</style>\n",
       "<table border=\"1\" class=\"dataframe\">\n",
       "  <thead>\n",
       "    <tr style=\"text-align: right;\">\n",
       "      <th></th>\n",
       "      <th>Year</th>\n",
       "      <th>Candidate</th>\n",
       "      <th>Party</th>\n",
       "      <th>Popular vote</th>\n",
       "      <th>Result</th>\n",
       "      <th>%</th>\n",
       "      <th>First Name</th>\n",
       "      <th>Name</th>\n",
       "      <th>Count</th>\n",
       "    </tr>\n",
       "  </thead>\n",
       "  <tbody>\n",
       "    <tr>\n",
       "      <th>0</th>\n",
       "      <td>1824</td>\n",
       "      <td>Andrew Jackson</td>\n",
       "      <td>Democratic-Republican</td>\n",
       "      <td>151271</td>\n",
       "      <td>loss</td>\n",
       "      <td>57.210122</td>\n",
       "      <td>Andrew</td>\n",
       "      <td>Andrew</td>\n",
       "      <td>6049</td>\n",
       "    </tr>\n",
       "    <tr>\n",
       "      <th>1</th>\n",
       "      <td>1828</td>\n",
       "      <td>Andrew Jackson</td>\n",
       "      <td>Democratic</td>\n",
       "      <td>642806</td>\n",
       "      <td>win</td>\n",
       "      <td>56.203927</td>\n",
       "      <td>Andrew</td>\n",
       "      <td>Andrew</td>\n",
       "      <td>6049</td>\n",
       "    </tr>\n",
       "    <tr>\n",
       "      <th>2</th>\n",
       "      <td>1832</td>\n",
       "      <td>Andrew Jackson</td>\n",
       "      <td>Democratic</td>\n",
       "      <td>702735</td>\n",
       "      <td>win</td>\n",
       "      <td>54.574789</td>\n",
       "      <td>Andrew</td>\n",
       "      <td>Andrew</td>\n",
       "      <td>6049</td>\n",
       "    </tr>\n",
       "    <tr>\n",
       "      <th>3</th>\n",
       "      <td>1824</td>\n",
       "      <td>John Quincy Adams</td>\n",
       "      <td>Democratic-Republican</td>\n",
       "      <td>113142</td>\n",
       "      <td>win</td>\n",
       "      <td>42.789878</td>\n",
       "      <td>John</td>\n",
       "      <td>John</td>\n",
       "      <td>8251</td>\n",
       "    </tr>\n",
       "    <tr>\n",
       "      <th>4</th>\n",
       "      <td>1828</td>\n",
       "      <td>John Quincy Adams</td>\n",
       "      <td>National Republican</td>\n",
       "      <td>500897</td>\n",
       "      <td>loss</td>\n",
       "      <td>43.796073</td>\n",
       "      <td>John</td>\n",
       "      <td>John</td>\n",
       "      <td>8251</td>\n",
       "    </tr>\n",
       "    <tr>\n",
       "      <th>...</th>\n",
       "      <td>...</td>\n",
       "      <td>...</td>\n",
       "      <td>...</td>\n",
       "      <td>...</td>\n",
       "      <td>...</td>\n",
       "      <td>...</td>\n",
       "      <td>...</td>\n",
       "      <td>...</td>\n",
       "      <td>...</td>\n",
       "    </tr>\n",
       "    <tr>\n",
       "      <th>149</th>\n",
       "      <td>2020</td>\n",
       "      <td>Donald Trump</td>\n",
       "      <td>Republican</td>\n",
       "      <td>74216154</td>\n",
       "      <td>loss</td>\n",
       "      <td>46.858542</td>\n",
       "      <td>Donald</td>\n",
       "      <td>Donald</td>\n",
       "      <td>412</td>\n",
       "    </tr>\n",
       "    <tr>\n",
       "      <th>150</th>\n",
       "      <td>2016</td>\n",
       "      <td>Evan McMullin</td>\n",
       "      <td>Independent</td>\n",
       "      <td>732273</td>\n",
       "      <td>loss</td>\n",
       "      <td>0.539546</td>\n",
       "      <td>Evan</td>\n",
       "      <td>Evan</td>\n",
       "      <td>3435</td>\n",
       "    </tr>\n",
       "    <tr>\n",
       "      <th>151</th>\n",
       "      <td>2016</td>\n",
       "      <td>Hillary Clinton</td>\n",
       "      <td>Democratic</td>\n",
       "      <td>65853514</td>\n",
       "      <td>loss</td>\n",
       "      <td>48.521539</td>\n",
       "      <td>Hillary</td>\n",
       "      <td>Hillary</td>\n",
       "      <td>20</td>\n",
       "    </tr>\n",
       "    <tr>\n",
       "      <th>152</th>\n",
       "      <td>2020</td>\n",
       "      <td>Joseph Biden</td>\n",
       "      <td>Democratic</td>\n",
       "      <td>81268924</td>\n",
       "      <td>win</td>\n",
       "      <td>51.311515</td>\n",
       "      <td>Joseph</td>\n",
       "      <td>Joseph</td>\n",
       "      <td>8458</td>\n",
       "    </tr>\n",
       "    <tr>\n",
       "      <th>153</th>\n",
       "      <td>2020</td>\n",
       "      <td>Jo Jorgensen</td>\n",
       "      <td>Libertarian</td>\n",
       "      <td>1865724</td>\n",
       "      <td>loss</td>\n",
       "      <td>1.177979</td>\n",
       "      <td>Jo</td>\n",
       "      <td>Jo</td>\n",
       "      <td>6</td>\n",
       "    </tr>\n",
       "  </tbody>\n",
       "</table>\n",
       "<p>154 rows × 9 columns</p>\n",
       "</div>"
      ],
      "text/plain": [
       "     Year          Candidate                  Party  Popular vote Result  \\\n",
       "0    1824     Andrew Jackson  Democratic-Republican        151271   loss   \n",
       "1    1828     Andrew Jackson             Democratic        642806    win   \n",
       "2    1832     Andrew Jackson             Democratic        702735    win   \n",
       "3    1824  John Quincy Adams  Democratic-Republican        113142    win   \n",
       "4    1828  John Quincy Adams    National Republican        500897   loss   \n",
       "..    ...                ...                    ...           ...    ...   \n",
       "149  2020       Donald Trump             Republican      74216154   loss   \n",
       "150  2016      Evan McMullin            Independent        732273   loss   \n",
       "151  2016    Hillary Clinton             Democratic      65853514   loss   \n",
       "152  2020       Joseph Biden             Democratic      81268924    win   \n",
       "153  2020       Jo Jorgensen            Libertarian       1865724   loss   \n",
       "\n",
       "             % First Name     Name  Count  \n",
       "0    57.210122     Andrew   Andrew   6049  \n",
       "1    56.203927     Andrew   Andrew   6049  \n",
       "2    54.574789     Andrew   Andrew   6049  \n",
       "3    42.789878       John     John   8251  \n",
       "4    43.796073       John     John   8251  \n",
       "..         ...        ...      ...    ...  \n",
       "149  46.858542     Donald   Donald    412  \n",
       "150   0.539546       Evan     Evan   3435  \n",
       "151  48.521539    Hillary  Hillary     20  \n",
       "152  51.311515     Joseph   Joseph   8458  \n",
       "153   1.177979         Jo       Jo      6  \n",
       "\n",
       "[154 rows x 9 columns]"
      ]
     },
     "execution_count": 37,
     "metadata": {},
     "output_type": "execute_result"
    }
   ],
   "source": [
    "presidential_candidates_and_name_popularity = pd.merge(\n",
    "    elections_with_first_name, \n",
    "    baby_names_2020, \n",
    "    how='inner', \n",
    "    left_on='First Name', \n",
    "    right_on='Name'\n",
    ")\n",
    "\n",
    "presidential_candidates_and_name_popularity"
   ]
  },
  {
   "cell_type": "code",
   "execution_count": 38,
   "id": "3190fe78",
   "metadata": {
    "deletable": false,
    "editable": false
   },
   "outputs": [
    {
     "data": {
      "text/html": [
       "<p><strong><pre style='display: inline;'>q3a</pre></strong> passed! 🎉</p>"
      ],
      "text/plain": [
       "q3a results: All test cases passed!"
      ]
     },
     "execution_count": 38,
     "metadata": {},
     "output_type": "execute_result"
    }
   ],
   "source": [
    "grader.check(\"q3a\")"
   ]
  },
  {
   "cell_type": "markdown",
   "id": "254faefc",
   "metadata": {
    "deletable": false,
    "editable": false
   },
   "source": [
    "<!-- BEGIN QUESTION -->\n",
    "\n",
    "#### Question 3b).  \n",
    "\n",
    "i).  Which historical presidential candidate first name was the most popular in 2020? \n",
    "\n",
    "ii).  What 3 historical presidential candidate first names were tied for the least popular in 2020 according to this presidential_candidates_and_name_popularity table? \n",
    "\n",
    "Note: Here you'll observe a common problem in data science -- one of the least popular names is actually due to the fact that one recent president was so commonly known by his nickname that he appears named as such in the database from which you pulled election results."
   ]
  },
  {
   "cell_type": "code",
   "execution_count": 39,
   "id": "cc5f59db-bf14-403f-83b1-8256827a9438",
   "metadata": {
    "tags": []
   },
   "outputs": [
    {
     "data": {
      "text/plain": [
       "'William'"
      ]
     },
     "execution_count": 39,
     "metadata": {},
     "output_type": "execute_result"
    }
   ],
   "source": [
    "most_popular_firstname = presidential_candidates_and_name_popularity.groupby('First Name')['Count'].sum().idxmax()\n",
    "most_popular_firstname"
   ]
  },
  {
   "cell_type": "code",
   "execution_count": 83,
   "id": "65723407-6d5d-4dbe-b52a-40bffebe1843",
   "metadata": {
    "tags": []
   },
   "outputs": [
    {
     "data": {
      "text/plain": [
       "First Name\n",
       "Claude    5\n",
       "Hubert    5\n",
       "Jo        6\n",
       "Name: Count, dtype: int64"
      ]
     },
     "execution_count": 83,
     "metadata": {},
     "output_type": "execute_result"
    }
   ],
   "source": [
    "least_popular_firstnames = presidential_candidates_and_name_popularity.groupby('First Name')['Count'].sum().nsmallest(3)\n",
    "least_popular_firstnames"
   ]
  },
  {
   "cell_type": "markdown",
   "id": "8c6aeac6",
   "metadata": {
    "deletable": false,
    "editable": false,
    "tags": []
   },
   "source": [
    "<!-- END QUESTION -->\n",
    "\n",
    "### QUESTION 4: Evidence for Money Ball\n",
    "\n",
    "In the book [MoneyBall](https://en.wikipedia.org/wiki/Moneyball), Michael Lewis documented the introduction of statistics and data science in selecting players for the Oakland A's. in this problem, we're going to use [Sean Lahman's Baseball Database](http://seanlahman.com/baseball-archive/statistics) which contains the \"complete batting and pitching statistics from 1871 to 2013, plus fielding statistics, standings, team stats, managerial records, post-season data, and more. For more details, please [read the documentation](http://seanlahman.com/files/database/readme2012.txt).\"\n",
    "\n",
    "We're going to use two data sets, `teams.csv` and `salaries.csv`. \n"
   ]
  },
  {
   "cell_type": "markdown",
   "id": "94497ea4",
   "metadata": {},
   "source": [
    "\n",
    "Read in the `teams.csv` data into a DataFrame and the `salaries.csv` into another DataFrame and look at the first 5 rows of each. \n",
    "\n"
   ]
  },
  {
   "cell_type": "code",
   "execution_count": 47,
   "id": "94c346e8",
   "metadata": {},
   "outputs": [],
   "source": [
    "teams_df=pd.read_csv(\"data/teams.csv\")"
   ]
  },
  {
   "cell_type": "code",
   "execution_count": 48,
   "id": "78de2f79",
   "metadata": {},
   "outputs": [],
   "source": [
    "salaries_df=pd.read_csv(\"data/salaries.csv\")"
   ]
  },
  {
   "cell_type": "markdown",
   "id": "cc703856",
   "metadata": {},
   "source": [
    "Both files include columns `yearID` and `teamID`. \n",
    "\n",
    "The `teamID` field is a categorical field indicating the team names. \n",
    "\n",
    "The `yearID` field is a numeric field indicating the year for the data in that row. \n",
    "\n",
    "The `teams.csv` file also contains a field `W`, which indicates the total *wins* for that team in that year. \n",
    "\n",
    "The `salaries.csv` file contains the salary of individual players. Each player is listed on a distinct line."
   ]
  },
  {
   "cell_type": "markdown",
   "id": "bd3bcf5b",
   "metadata": {
    "deletable": false,
    "editable": false
   },
   "source": [
    "#### Question 4ai)- Checking the number of wins in 1998\n",
    "\n",
    "\n",
    "Create a Dataframe `w1998` with index `teamID` and columns `name` and `wins` (the total number of wins per team in 1998). The team names in the index should be sorted alphabetically from ANA to TOR. \n",
    "\n",
    "For example, the first 3 rows of your DataFrame should be:\n",
    "\n",
    "|teamID | name         |wins |\n",
    "|------|------|--------|\n",
    "|**ANA**  | Anaheim Angels |85|\n",
    "|**ARI**  | Arizona Diamondbacks | 65|\n",
    "|**ATL**   | Atlanta Braves| 106|\n",
    "\n",
    "Be sure to rename the \"W\" column to \"wins\".\n",
    "\n",
    "Note that the index is `teamID`. \n",
    "\n"
   ]
  },
  {
   "cell_type": "code",
   "execution_count": 59,
   "id": "c49b9d39",
   "metadata": {
    "nbgrader": {
     "checksum": "c765b3cecfb8d8582dd862e478093940",
     "grade": false,
     "grade_id": "cell-d660242b8519ecc2",
     "locked": false,
     "schema_version": 1,
     "solution": true
    },
    "tags": []
   },
   "outputs": [
    {
     "data": {
      "text/html": [
       "<div>\n",
       "<style scoped>\n",
       "    .dataframe tbody tr th:only-of-type {\n",
       "        vertical-align: middle;\n",
       "    }\n",
       "\n",
       "    .dataframe tbody tr th {\n",
       "        vertical-align: top;\n",
       "    }\n",
       "\n",
       "    .dataframe thead th {\n",
       "        text-align: right;\n",
       "    }\n",
       "</style>\n",
       "<table border=\"1\" class=\"dataframe\">\n",
       "  <thead>\n",
       "    <tr style=\"text-align: right;\">\n",
       "      <th></th>\n",
       "      <th>name</th>\n",
       "      <th>wins</th>\n",
       "    </tr>\n",
       "    <tr>\n",
       "      <th>teamID</th>\n",
       "      <th></th>\n",
       "      <th></th>\n",
       "    </tr>\n",
       "  </thead>\n",
       "  <tbody>\n",
       "    <tr>\n",
       "      <th>ANA</th>\n",
       "      <td>Anaheim Angels</td>\n",
       "      <td>85</td>\n",
       "    </tr>\n",
       "    <tr>\n",
       "      <th>ARI</th>\n",
       "      <td>Arizona Diamondbacks</td>\n",
       "      <td>65</td>\n",
       "    </tr>\n",
       "    <tr>\n",
       "      <th>ATL</th>\n",
       "      <td>Atlanta Braves</td>\n",
       "      <td>106</td>\n",
       "    </tr>\n",
       "    <tr>\n",
       "      <th>BAL</th>\n",
       "      <td>Baltimore Orioles</td>\n",
       "      <td>79</td>\n",
       "    </tr>\n",
       "    <tr>\n",
       "      <th>BOS</th>\n",
       "      <td>Boston Red Sox</td>\n",
       "      <td>92</td>\n",
       "    </tr>\n",
       "    <tr>\n",
       "      <th>CHA</th>\n",
       "      <td>Chicago White Sox</td>\n",
       "      <td>80</td>\n",
       "    </tr>\n",
       "    <tr>\n",
       "      <th>CHN</th>\n",
       "      <td>Chicago Cubs</td>\n",
       "      <td>90</td>\n",
       "    </tr>\n",
       "    <tr>\n",
       "      <th>CIN</th>\n",
       "      <td>Cincinnati Reds</td>\n",
       "      <td>77</td>\n",
       "    </tr>\n",
       "    <tr>\n",
       "      <th>CLE</th>\n",
       "      <td>Cleveland Indians</td>\n",
       "      <td>89</td>\n",
       "    </tr>\n",
       "    <tr>\n",
       "      <th>COL</th>\n",
       "      <td>Colorado Rockies</td>\n",
       "      <td>77</td>\n",
       "    </tr>\n",
       "    <tr>\n",
       "      <th>DET</th>\n",
       "      <td>Detroit Tigers</td>\n",
       "      <td>65</td>\n",
       "    </tr>\n",
       "    <tr>\n",
       "      <th>FLO</th>\n",
       "      <td>Florida Marlins</td>\n",
       "      <td>54</td>\n",
       "    </tr>\n",
       "    <tr>\n",
       "      <th>HOU</th>\n",
       "      <td>Houston Astros</td>\n",
       "      <td>102</td>\n",
       "    </tr>\n",
       "    <tr>\n",
       "      <th>KCA</th>\n",
       "      <td>Kansas City Royals</td>\n",
       "      <td>72</td>\n",
       "    </tr>\n",
       "    <tr>\n",
       "      <th>LAN</th>\n",
       "      <td>Los Angeles Dodgers</td>\n",
       "      <td>83</td>\n",
       "    </tr>\n",
       "    <tr>\n",
       "      <th>MIL</th>\n",
       "      <td>Milwaukee Brewers</td>\n",
       "      <td>74</td>\n",
       "    </tr>\n",
       "    <tr>\n",
       "      <th>MIN</th>\n",
       "      <td>Minnesota Twins</td>\n",
       "      <td>70</td>\n",
       "    </tr>\n",
       "    <tr>\n",
       "      <th>MON</th>\n",
       "      <td>Montreal Expos</td>\n",
       "      <td>65</td>\n",
       "    </tr>\n",
       "    <tr>\n",
       "      <th>NYA</th>\n",
       "      <td>New York Yankees</td>\n",
       "      <td>114</td>\n",
       "    </tr>\n",
       "    <tr>\n",
       "      <th>NYN</th>\n",
       "      <td>New York Mets</td>\n",
       "      <td>88</td>\n",
       "    </tr>\n",
       "    <tr>\n",
       "      <th>OAK</th>\n",
       "      <td>Oakland Athletics</td>\n",
       "      <td>74</td>\n",
       "    </tr>\n",
       "    <tr>\n",
       "      <th>PHI</th>\n",
       "      <td>Philadelphia Phillies</td>\n",
       "      <td>75</td>\n",
       "    </tr>\n",
       "    <tr>\n",
       "      <th>PIT</th>\n",
       "      <td>Pittsburgh Pirates</td>\n",
       "      <td>69</td>\n",
       "    </tr>\n",
       "    <tr>\n",
       "      <th>SDN</th>\n",
       "      <td>San Diego Padres</td>\n",
       "      <td>98</td>\n",
       "    </tr>\n",
       "    <tr>\n",
       "      <th>SEA</th>\n",
       "      <td>Seattle Mariners</td>\n",
       "      <td>76</td>\n",
       "    </tr>\n",
       "    <tr>\n",
       "      <th>SFN</th>\n",
       "      <td>San Francisco Giants</td>\n",
       "      <td>89</td>\n",
       "    </tr>\n",
       "    <tr>\n",
       "      <th>SLN</th>\n",
       "      <td>St. Louis Cardinals</td>\n",
       "      <td>83</td>\n",
       "    </tr>\n",
       "    <tr>\n",
       "      <th>TBA</th>\n",
       "      <td>Tampa Bay Devil Rays</td>\n",
       "      <td>63</td>\n",
       "    </tr>\n",
       "    <tr>\n",
       "      <th>TEX</th>\n",
       "      <td>Texas Rangers</td>\n",
       "      <td>88</td>\n",
       "    </tr>\n",
       "    <tr>\n",
       "      <th>TOR</th>\n",
       "      <td>Toronto Blue Jays</td>\n",
       "      <td>88</td>\n",
       "    </tr>\n",
       "  </tbody>\n",
       "</table>\n",
       "</div>"
      ],
      "text/plain": [
       "                         name  wins\n",
       "teamID                             \n",
       "ANA            Anaheim Angels    85\n",
       "ARI      Arizona Diamondbacks    65\n",
       "ATL            Atlanta Braves   106\n",
       "BAL         Baltimore Orioles    79\n",
       "BOS            Boston Red Sox    92\n",
       "CHA         Chicago White Sox    80\n",
       "CHN              Chicago Cubs    90\n",
       "CIN           Cincinnati Reds    77\n",
       "CLE         Cleveland Indians    89\n",
       "COL          Colorado Rockies    77\n",
       "DET            Detroit Tigers    65\n",
       "FLO           Florida Marlins    54\n",
       "HOU            Houston Astros   102\n",
       "KCA        Kansas City Royals    72\n",
       "LAN       Los Angeles Dodgers    83\n",
       "MIL         Milwaukee Brewers    74\n",
       "MIN           Minnesota Twins    70\n",
       "MON            Montreal Expos    65\n",
       "NYA          New York Yankees   114\n",
       "NYN             New York Mets    88\n",
       "OAK         Oakland Athletics    74\n",
       "PHI     Philadelphia Phillies    75\n",
       "PIT        Pittsburgh Pirates    69\n",
       "SDN          San Diego Padres    98\n",
       "SEA          Seattle Mariners    76\n",
       "SFN      San Francisco Giants    89\n",
       "SLN       St. Louis Cardinals    83\n",
       "TBA      Tampa Bay Devil Rays    63\n",
       "TEX             Texas Rangers    88\n",
       "TOR         Toronto Blue Jays    88"
      ]
     },
     "execution_count": 59,
     "metadata": {},
     "output_type": "execute_result"
    }
   ],
   "source": [
    "teams_1998 = teams_df[teams_df['yearID'] == 1998]\n",
    "w1998 = teams_1998[['teamID', 'name', 'W']]\n",
    "w1998 = w1998.rename(columns={'W': 'wins'})\n",
    "w1998.set_index('teamID', inplace=True)\n",
    "w1998.sort_index(inplace=True)\n",
    "w1998"
   ]
  },
  {
   "cell_type": "code",
   "execution_count": 60,
   "id": "5db927ef",
   "metadata": {
    "deletable": false,
    "editable": false
   },
   "outputs": [
    {
     "data": {
      "text/html": [
       "<p><strong><pre style='display: inline;'>q4ai</pre></strong> passed! 🙌</p>"
      ],
      "text/plain": [
       "q4ai results: All test cases passed!"
      ]
     },
     "execution_count": 60,
     "metadata": {},
     "output_type": "execute_result"
    }
   ],
   "source": [
    "grader.check(\"q4ai\")"
   ]
  },
  {
   "cell_type": "markdown",
   "id": "93779ae2",
   "metadata": {
    "deletable": false,
    "editable": false
   },
   "source": [
    "\n",
    "#### QUESTION 4aii).\n",
    "\n",
    "How many games did the Oakland A's win in 1998?"
   ]
  },
  {
   "cell_type": "code",
   "execution_count": 61,
   "id": "615a506b",
   "metadata": {
    "tags": []
   },
   "outputs": [
    {
     "data": {
      "text/plain": [
       "74"
      ]
     },
     "execution_count": 61,
     "metadata": {},
     "output_type": "execute_result"
    }
   ],
   "source": [
    "oakland_1998 = teams_df[(teams_df['teamID'] == 'OAK') & (teams_df['yearID'] == 1998)]\n",
    "\n",
    "oakwins = oakland_1998['W'].values[0]\n",
    "\n",
    "oakwins"
   ]
  },
  {
   "cell_type": "code",
   "execution_count": 62,
   "id": "c16a3b69",
   "metadata": {
    "deletable": false,
    "editable": false
   },
   "outputs": [
    {
     "data": {
      "text/html": [
       "<p><strong><pre style='display: inline;'>q4aii</pre></strong> passed! 🚀</p>"
      ],
      "text/plain": [
       "q4aii results: All test cases passed!"
      ]
     },
     "execution_count": 62,
     "metadata": {},
     "output_type": "execute_result"
    }
   ],
   "source": [
    "grader.check(\"q4aii\")"
   ]
  },
  {
   "cell_type": "markdown",
   "id": "8579ec67",
   "metadata": {},
   "source": [
    "Run the code below to produce a bar plot showing each team's total wins in 1998."
   ]
  },
  {
   "cell_type": "code",
   "execution_count": 63,
   "id": "ffab08cd",
   "metadata": {},
   "outputs": [
    {
     "data": {
      "image/png": "[encoded data removed]",
      "text/plain": [
       "<Figure size 800x400 with 1 Axes>"
      ]
     },
     "metadata": {},
     "output_type": "display_data"
    }
   ],
   "source": [
    "w1998.plot(kind='bar', figsize=(8,4)).set(ylabel='Wins', xlabel = 'Team');"
   ]
  },
  {
   "cell_type": "markdown",
   "id": "d7c1401b",
   "metadata": {
    "deletable": false,
    "editable": false
   },
   "source": [
    "#### Question 4bi - Examining the payroll in 1998\n",
    "\n",
    "\n",
    "\n",
    "Create a dataframe `p1998` with index `teamID` and column `payroll` (the total salary per team in 1998). \n",
    "\n",
    "The team names in the index should be sorted alphabetically from ANA to TOR.\n",
    "\n",
    "For example, the first 3 rows of your DataFrame should be:\n",
    "\n",
    "|teamID | payroll         |\n",
    "|------|------|\n",
    "|**ANA**  | 41281000|\n",
    "|**ARI**  |  32347000|\n",
    "|**ATL**   | 61186000|\n",
    "\n",
    "\n"
   ]
  },
  {
   "cell_type": "code",
   "execution_count": 64,
   "id": "2efd3a92",
   "metadata": {
    "tags": []
   },
   "outputs": [
    {
     "data": {
      "text/html": [
       "<div>\n",
       "<style scoped>\n",
       "    .dataframe tbody tr th:only-of-type {\n",
       "        vertical-align: middle;\n",
       "    }\n",
       "\n",
       "    .dataframe tbody tr th {\n",
       "        vertical-align: top;\n",
       "    }\n",
       "\n",
       "    .dataframe thead th {\n",
       "        text-align: right;\n",
       "    }\n",
       "</style>\n",
       "<table border=\"1\" class=\"dataframe\">\n",
       "  <thead>\n",
       "    <tr style=\"text-align: right;\">\n",
       "      <th></th>\n",
       "      <th>payroll</th>\n",
       "    </tr>\n",
       "    <tr>\n",
       "      <th>teamID</th>\n",
       "      <th></th>\n",
       "    </tr>\n",
       "  </thead>\n",
       "  <tbody>\n",
       "    <tr>\n",
       "      <th>ANA</th>\n",
       "      <td>41281000</td>\n",
       "    </tr>\n",
       "    <tr>\n",
       "      <th>ARI</th>\n",
       "      <td>32347000</td>\n",
       "    </tr>\n",
       "    <tr>\n",
       "      <th>ATL</th>\n",
       "      <td>61186000</td>\n",
       "    </tr>\n",
       "    <tr>\n",
       "      <th>BAL</th>\n",
       "      <td>72355634</td>\n",
       "    </tr>\n",
       "    <tr>\n",
       "      <th>BOS</th>\n",
       "      <td>56757000</td>\n",
       "    </tr>\n",
       "    <tr>\n",
       "      <th>CHA</th>\n",
       "      <td>38335000</td>\n",
       "    </tr>\n",
       "    <tr>\n",
       "      <th>CHN</th>\n",
       "      <td>50838000</td>\n",
       "    </tr>\n",
       "    <tr>\n",
       "      <th>CIN</th>\n",
       "      <td>23005000</td>\n",
       "    </tr>\n",
       "    <tr>\n",
       "      <th>CLE</th>\n",
       "      <td>60800166</td>\n",
       "    </tr>\n",
       "    <tr>\n",
       "      <th>COL</th>\n",
       "      <td>50484648</td>\n",
       "    </tr>\n",
       "    <tr>\n",
       "      <th>DET</th>\n",
       "      <td>24065000</td>\n",
       "    </tr>\n",
       "    <tr>\n",
       "      <th>FLO</th>\n",
       "      <td>41322667</td>\n",
       "    </tr>\n",
       "    <tr>\n",
       "      <th>HOU</th>\n",
       "      <td>42374000</td>\n",
       "    </tr>\n",
       "    <tr>\n",
       "      <th>KCA</th>\n",
       "      <td>36862500</td>\n",
       "    </tr>\n",
       "    <tr>\n",
       "      <th>LAN</th>\n",
       "      <td>48820000</td>\n",
       "    </tr>\n",
       "    <tr>\n",
       "      <th>MIL</th>\n",
       "      <td>33914904</td>\n",
       "    </tr>\n",
       "    <tr>\n",
       "      <th>MIN</th>\n",
       "      <td>27927500</td>\n",
       "    </tr>\n",
       "    <tr>\n",
       "      <th>MON</th>\n",
       "      <td>10641500</td>\n",
       "    </tr>\n",
       "    <tr>\n",
       "      <th>NYA</th>\n",
       "      <td>66806867</td>\n",
       "    </tr>\n",
       "    <tr>\n",
       "      <th>NYN</th>\n",
       "      <td>52077999</td>\n",
       "    </tr>\n",
       "    <tr>\n",
       "      <th>OAK</th>\n",
       "      <td>21303000</td>\n",
       "    </tr>\n",
       "    <tr>\n",
       "      <th>PHI</th>\n",
       "      <td>36297500</td>\n",
       "    </tr>\n",
       "    <tr>\n",
       "      <th>PIT</th>\n",
       "      <td>15065000</td>\n",
       "    </tr>\n",
       "    <tr>\n",
       "      <th>SDN</th>\n",
       "      <td>46861500</td>\n",
       "    </tr>\n",
       "    <tr>\n",
       "      <th>SEA</th>\n",
       "      <td>54087036</td>\n",
       "    </tr>\n",
       "    <tr>\n",
       "      <th>SFN</th>\n",
       "      <td>42565834</td>\n",
       "    </tr>\n",
       "    <tr>\n",
       "      <th>SLN</th>\n",
       "      <td>54672521</td>\n",
       "    </tr>\n",
       "    <tr>\n",
       "      <th>TBA</th>\n",
       "      <td>27280000</td>\n",
       "    </tr>\n",
       "    <tr>\n",
       "      <th>TEX</th>\n",
       "      <td>56572095</td>\n",
       "    </tr>\n",
       "    <tr>\n",
       "      <th>TOR</th>\n",
       "      <td>51376000</td>\n",
       "    </tr>\n",
       "  </tbody>\n",
       "</table>\n",
       "</div>"
      ],
      "text/plain": [
       "         payroll\n",
       "teamID          \n",
       "ANA     41281000\n",
       "ARI     32347000\n",
       "ATL     61186000\n",
       "BAL     72355634\n",
       "BOS     56757000\n",
       "CHA     38335000\n",
       "CHN     50838000\n",
       "CIN     23005000\n",
       "CLE     60800166\n",
       "COL     50484648\n",
       "DET     24065000\n",
       "FLO     41322667\n",
       "HOU     42374000\n",
       "KCA     36862500\n",
       "LAN     48820000\n",
       "MIL     33914904\n",
       "MIN     27927500\n",
       "MON     10641500\n",
       "NYA     66806867\n",
       "NYN     52077999\n",
       "OAK     21303000\n",
       "PHI     36297500\n",
       "PIT     15065000\n",
       "SDN     46861500\n",
       "SEA     54087036\n",
       "SFN     42565834\n",
       "SLN     54672521\n",
       "TBA     27280000\n",
       "TEX     56572095\n",
       "TOR     51376000"
      ]
     },
     "execution_count": 64,
     "metadata": {},
     "output_type": "execute_result"
    }
   ],
   "source": [
    "p1998 = salaries_df[salaries_df['yearID'] == 1998].groupby('teamID')['salary'].sum().reset_index()\n",
    "\n",
    "p1998.sort_values(by='teamID', inplace=True)\n",
    "\n",
    "p1998.set_index('teamID', inplace=True)\n",
    "\n",
    "p1998.rename(columns={'salary': 'payroll'}, inplace=True)\n",
    "\n",
    "p1998"
   ]
  },
  {
   "cell_type": "code",
   "execution_count": 65,
   "id": "ffdf2eca",
   "metadata": {
    "deletable": false,
    "editable": false
   },
   "outputs": [
    {
     "data": {
      "text/html": [
       "<p><strong><pre style='display: inline;'>q4bi</pre></strong> passed! 🍀</p>"
      ],
      "text/plain": [
       "q4bi results: All test cases passed!"
      ]
     },
     "execution_count": 65,
     "metadata": {},
     "output_type": "execute_result"
    }
   ],
   "source": [
    "grader.check(\"q4bi\")"
   ]
  },
  {
   "cell_type": "markdown",
   "id": "ddf58b7d",
   "metadata": {
    "deletable": false,
    "editable": false
   },
   "source": [
    "#### Question 4bii:\n",
    "\n",
    "What was the Oakland A's payroll in 1998?\n"
   ]
  },
  {
   "cell_type": "code",
   "execution_count": 66,
   "id": "d2c7ca39",
   "metadata": {
    "tags": []
   },
   "outputs": [
    {
     "data": {
      "text/plain": [
       "21303000"
      ]
     },
     "execution_count": 66,
     "metadata": {},
     "output_type": "execute_result"
    }
   ],
   "source": [
    "oakland_salaries_1998 = salaries_df[(salaries_df['teamID'] == 'OAK') & (salaries_df['yearID'] == 1998)]\n",
    "\n",
    "o_payroll = oakland_salaries_1998['salary'].sum()\n",
    "o_payroll"
   ]
  },
  {
   "cell_type": "code",
   "execution_count": 67,
   "id": "8ca534ed",
   "metadata": {
    "deletable": false,
    "editable": false
   },
   "outputs": [
    {
     "data": {
      "text/html": [
       "<p><strong><pre style='display: inline;'>q4bii</pre></strong> passed! ✨</p>"
      ],
      "text/plain": [
       "q4bii results: All test cases passed!"
      ]
     },
     "execution_count": 67,
     "metadata": {},
     "output_type": "execute_result"
    }
   ],
   "source": [
    "grader.check(\"q4bii\")"
   ]
  },
  {
   "cell_type": "markdown",
   "id": "b5b21dd6",
   "metadata": {},
   "source": [
    "#### QUESTION 4c:   \n"
   ]
  },
  {
   "cell_type": "markdown",
   "id": "ecfbd374",
   "metadata": {
    "deletable": false,
    "editable": false
   },
   "source": [
    "\n",
    "Merge your dataframes from parts 4a and 4b to create a new dataframe called `df_1998` with the following columns:\n",
    "\n",
    "`teamID`, `name` `wins` (total number of wins per team in 1998) and `payroll` (total team payroll in 1998)\n",
    "\n",
    "\n",
    " \n"
   ]
  },
  {
   "cell_type": "code",
   "execution_count": 68,
   "id": "31b2ae21",
   "metadata": {
    "tags": []
   },
   "outputs": [
    {
     "data": {
      "text/html": [
       "<div>\n",
       "<style scoped>\n",
       "    .dataframe tbody tr th:only-of-type {\n",
       "        vertical-align: middle;\n",
       "    }\n",
       "\n",
       "    .dataframe tbody tr th {\n",
       "        vertical-align: top;\n",
       "    }\n",
       "\n",
       "    .dataframe thead th {\n",
       "        text-align: right;\n",
       "    }\n",
       "</style>\n",
       "<table border=\"1\" class=\"dataframe\">\n",
       "  <thead>\n",
       "    <tr style=\"text-align: right;\">\n",
       "      <th></th>\n",
       "      <th>name</th>\n",
       "      <th>wins</th>\n",
       "      <th>payroll</th>\n",
       "    </tr>\n",
       "    <tr>\n",
       "      <th>teamID</th>\n",
       "      <th></th>\n",
       "      <th></th>\n",
       "      <th></th>\n",
       "    </tr>\n",
       "  </thead>\n",
       "  <tbody>\n",
       "    <tr>\n",
       "      <th>ANA</th>\n",
       "      <td>Anaheim Angels</td>\n",
       "      <td>85</td>\n",
       "      <td>41281000</td>\n",
       "    </tr>\n",
       "    <tr>\n",
       "      <th>ARI</th>\n",
       "      <td>Arizona Diamondbacks</td>\n",
       "      <td>65</td>\n",
       "      <td>32347000</td>\n",
       "    </tr>\n",
       "    <tr>\n",
       "      <th>ATL</th>\n",
       "      <td>Atlanta Braves</td>\n",
       "      <td>106</td>\n",
       "      <td>61186000</td>\n",
       "    </tr>\n",
       "    <tr>\n",
       "      <th>BAL</th>\n",
       "      <td>Baltimore Orioles</td>\n",
       "      <td>79</td>\n",
       "      <td>72355634</td>\n",
       "    </tr>\n",
       "    <tr>\n",
       "      <th>BOS</th>\n",
       "      <td>Boston Red Sox</td>\n",
       "      <td>92</td>\n",
       "      <td>56757000</td>\n",
       "    </tr>\n",
       "    <tr>\n",
       "      <th>CHA</th>\n",
       "      <td>Chicago White Sox</td>\n",
       "      <td>80</td>\n",
       "      <td>38335000</td>\n",
       "    </tr>\n",
       "    <tr>\n",
       "      <th>CHN</th>\n",
       "      <td>Chicago Cubs</td>\n",
       "      <td>90</td>\n",
       "      <td>50838000</td>\n",
       "    </tr>\n",
       "    <tr>\n",
       "      <th>CIN</th>\n",
       "      <td>Cincinnati Reds</td>\n",
       "      <td>77</td>\n",
       "      <td>23005000</td>\n",
       "    </tr>\n",
       "    <tr>\n",
       "      <th>CLE</th>\n",
       "      <td>Cleveland Indians</td>\n",
       "      <td>89</td>\n",
       "      <td>60800166</td>\n",
       "    </tr>\n",
       "    <tr>\n",
       "      <th>COL</th>\n",
       "      <td>Colorado Rockies</td>\n",
       "      <td>77</td>\n",
       "      <td>50484648</td>\n",
       "    </tr>\n",
       "    <tr>\n",
       "      <th>DET</th>\n",
       "      <td>Detroit Tigers</td>\n",
       "      <td>65</td>\n",
       "      <td>24065000</td>\n",
       "    </tr>\n",
       "    <tr>\n",
       "      <th>FLO</th>\n",
       "      <td>Florida Marlins</td>\n",
       "      <td>54</td>\n",
       "      <td>41322667</td>\n",
       "    </tr>\n",
       "    <tr>\n",
       "      <th>HOU</th>\n",
       "      <td>Houston Astros</td>\n",
       "      <td>102</td>\n",
       "      <td>42374000</td>\n",
       "    </tr>\n",
       "    <tr>\n",
       "      <th>KCA</th>\n",
       "      <td>Kansas City Royals</td>\n",
       "      <td>72</td>\n",
       "      <td>36862500</td>\n",
       "    </tr>\n",
       "    <tr>\n",
       "      <th>LAN</th>\n",
       "      <td>Los Angeles Dodgers</td>\n",
       "      <td>83</td>\n",
       "      <td>48820000</td>\n",
       "    </tr>\n",
       "    <tr>\n",
       "      <th>MIL</th>\n",
       "      <td>Milwaukee Brewers</td>\n",
       "      <td>74</td>\n",
       "      <td>33914904</td>\n",
       "    </tr>\n",
       "    <tr>\n",
       "      <th>MIN</th>\n",
       "      <td>Minnesota Twins</td>\n",
       "      <td>70</td>\n",
       "      <td>27927500</td>\n",
       "    </tr>\n",
       "    <tr>\n",
       "      <th>MON</th>\n",
       "      <td>Montreal Expos</td>\n",
       "      <td>65</td>\n",
       "      <td>10641500</td>\n",
       "    </tr>\n",
       "    <tr>\n",
       "      <th>NYA</th>\n",
       "      <td>New York Yankees</td>\n",
       "      <td>114</td>\n",
       "      <td>66806867</td>\n",
       "    </tr>\n",
       "    <tr>\n",
       "      <th>NYN</th>\n",
       "      <td>New York Mets</td>\n",
       "      <td>88</td>\n",
       "      <td>52077999</td>\n",
       "    </tr>\n",
       "    <tr>\n",
       "      <th>OAK</th>\n",
       "      <td>Oakland Athletics</td>\n",
       "      <td>74</td>\n",
       "      <td>21303000</td>\n",
       "    </tr>\n",
       "    <tr>\n",
       "      <th>PHI</th>\n",
       "      <td>Philadelphia Phillies</td>\n",
       "      <td>75</td>\n",
       "      <td>36297500</td>\n",
       "    </tr>\n",
       "    <tr>\n",
       "      <th>PIT</th>\n",
       "      <td>Pittsburgh Pirates</td>\n",
       "      <td>69</td>\n",
       "      <td>15065000</td>\n",
       "    </tr>\n",
       "    <tr>\n",
       "      <th>SDN</th>\n",
       "      <td>San Diego Padres</td>\n",
       "      <td>98</td>\n",
       "      <td>46861500</td>\n",
       "    </tr>\n",
       "    <tr>\n",
       "      <th>SEA</th>\n",
       "      <td>Seattle Mariners</td>\n",
       "      <td>76</td>\n",
       "      <td>54087036</td>\n",
       "    </tr>\n",
       "    <tr>\n",
       "      <th>SFN</th>\n",
       "      <td>San Francisco Giants</td>\n",
       "      <td>89</td>\n",
       "      <td>42565834</td>\n",
       "    </tr>\n",
       "    <tr>\n",
       "      <th>SLN</th>\n",
       "      <td>St. Louis Cardinals</td>\n",
       "      <td>83</td>\n",
       "      <td>54672521</td>\n",
       "    </tr>\n",
       "    <tr>\n",
       "      <th>TBA</th>\n",
       "      <td>Tampa Bay Devil Rays</td>\n",
       "      <td>63</td>\n",
       "      <td>27280000</td>\n",
       "    </tr>\n",
       "    <tr>\n",
       "      <th>TEX</th>\n",
       "      <td>Texas Rangers</td>\n",
       "      <td>88</td>\n",
       "      <td>56572095</td>\n",
       "    </tr>\n",
       "    <tr>\n",
       "      <th>TOR</th>\n",
       "      <td>Toronto Blue Jays</td>\n",
       "      <td>88</td>\n",
       "      <td>51376000</td>\n",
       "    </tr>\n",
       "  </tbody>\n",
       "</table>\n",
       "</div>"
      ],
      "text/plain": [
       "                         name  wins   payroll\n",
       "teamID                                       \n",
       "ANA            Anaheim Angels    85  41281000\n",
       "ARI      Arizona Diamondbacks    65  32347000\n",
       "ATL            Atlanta Braves   106  61186000\n",
       "BAL         Baltimore Orioles    79  72355634\n",
       "BOS            Boston Red Sox    92  56757000\n",
       "CHA         Chicago White Sox    80  38335000\n",
       "CHN              Chicago Cubs    90  50838000\n",
       "CIN           Cincinnati Reds    77  23005000\n",
       "CLE         Cleveland Indians    89  60800166\n",
       "COL          Colorado Rockies    77  50484648\n",
       "DET            Detroit Tigers    65  24065000\n",
       "FLO           Florida Marlins    54  41322667\n",
       "HOU            Houston Astros   102  42374000\n",
       "KCA        Kansas City Royals    72  36862500\n",
       "LAN       Los Angeles Dodgers    83  48820000\n",
       "MIL         Milwaukee Brewers    74  33914904\n",
       "MIN           Minnesota Twins    70  27927500\n",
       "MON            Montreal Expos    65  10641500\n",
       "NYA          New York Yankees   114  66806867\n",
       "NYN             New York Mets    88  52077999\n",
       "OAK         Oakland Athletics    74  21303000\n",
       "PHI     Philadelphia Phillies    75  36297500\n",
       "PIT        Pittsburgh Pirates    69  15065000\n",
       "SDN          San Diego Padres    98  46861500\n",
       "SEA          Seattle Mariners    76  54087036\n",
       "SFN      San Francisco Giants    89  42565834\n",
       "SLN       St. Louis Cardinals    83  54672521\n",
       "TBA      Tampa Bay Devil Rays    63  27280000\n",
       "TEX             Texas Rangers    88  56572095\n",
       "TOR         Toronto Blue Jays    88  51376000"
      ]
     },
     "execution_count": 68,
     "metadata": {},
     "output_type": "execute_result"
    }
   ],
   "source": [
    "df_1998 = pd.merge(w1998, p1998, on='teamID')\n",
    "# end your code\n",
    "\n",
    "df_1998"
   ]
  },
  {
   "cell_type": "code",
   "execution_count": 69,
   "id": "94364a7f",
   "metadata": {
    "deletable": false,
    "editable": false
   },
   "outputs": [
    {
     "data": {
      "text/html": [
       "<p><strong><pre style='display: inline;'>q4c</pre></strong> passed! ✨</p>"
      ],
      "text/plain": [
       "q4c results: All test cases passed!"
      ]
     },
     "execution_count": 69,
     "metadata": {},
     "output_type": "execute_result"
    }
   ],
   "source": [
    "grader.check(\"q4c\")"
   ]
  },
  {
   "cell_type": "markdown",
   "id": "a9407a15",
   "metadata": {
    "deletable": false,
    "editable": false
   },
   "source": [
    "<!-- BEGIN QUESTION -->\n",
    "\n",
    "#### Question 4di).  What's up with Oakland? \n",
    "\n",
    "\n",
    "In this problem, you're going to produce scatter plots to confirm the intuition that the data science approach that Oakland adopted changed their efficiency (wins per dollar spent).\n",
    "\n",
    "\n",
    "Run the code below to produce a [scatter plot](http://pandas.pydata.org/pandas-docs/stable/visualization.html#scatter-plot) of the payroll (y-axis) *vs* the number of Wins (x-axis) for all teams during the year 1998, using your dataframe `df_1998`. Notice the code below also highlights the datapoint for Oakland in red.  \n"
   ]
  },
  {
   "cell_type": "code",
   "execution_count": 70,
   "id": "60d6f811",
   "metadata": {
    "deletable": false,
    "editable": false
   },
   "outputs": [
    {
     "data": {
      "image/png": "[encoded data removed]",
      "text/plain": [
       "<Figure size 640x480 with 1 Axes>"
      ]
     },
     "metadata": {},
     "output_type": "display_data"
    }
   ],
   "source": [
    "\n",
    "df_1998.plot.scatter('wins', 'payroll')\n",
    "\n",
    "plt.title('Year 1998')\n",
    "plt.plot(df_1998.loc['OAK','wins'],df_1998.loc['OAK','payroll'], 'ro')\n",
    "plt.xlim(0,110)\n",
    "plt.show()"
   ]
  },
  {
   "cell_type": "markdown",
   "id": "ab319331",
   "metadata": {
    "deletable": false,
    "editable": false
   },
   "source": [
    "### Question 4dii).\n",
    "\n",
    "Create two more of these scatterplots (one for 2003 and one for 2013) of wins vs payroll for all teams, and highlight Oakland in red. \n"
   ]
  },
  {
   "cell_type": "code",
   "execution_count": 81,
   "id": "2a70adf6",
   "metadata": {
    "tags": []
   },
   "outputs": [
    {
     "data": {
      "text/plain": [
       "<Figure size 800x600 with 0 Axes>"
      ]
     },
     "metadata": {},
     "output_type": "display_data"
    },
    {
     "data": {
      "image/png": "[encoded data removed]",
      "text/plain": [
       "<Figure size 640x480 with 1 Axes>"
      ]
     },
     "metadata": {},
     "output_type": "display_data"
    }
   ],
   "source": [
    "\n",
    "salaries_2003_df = salaries_df[salaries_df['yearID'] == 2003]\n",
    "teams_2003_df = teams_df[teams_df['yearID'] == 2003]\n",
    "\n",
    "payroll_2003 = salaries_2003_df.groupby('teamID')['salary'].sum().reset_index()\n",
    "\n",
    "wins_2003 = teams_2003_df[['teamID', 'W']]\n",
    "\n",
    "df_2003 = pd.merge(wins_2003, payroll_2003, on='teamID', how='left')\n",
    "df_2003.columns = ['teamID', 'wins', 'payroll']\n",
    "\n",
    "\n",
    "# Scatter plot for 2003\n",
    "plt.figure(figsize=(8, 6))\n",
    "df_2003.plot.scatter('wins', 'payroll')\n",
    "plt.title('Year 2003')\n",
    "\n",
    "oakland_2003 = df_2003[df_2003['teamID'] == 'OAK']\n",
    "\n",
    "plt.plot(oakland_2003['wins'], oakland_2003['payroll'], 'ro', label='OAK')\n",
    "plt.xlim(0, 110)\n",
    "plt.legend()\n",
    "plt.show()"
   ]
  },
  {
   "cell_type": "code",
   "execution_count": 82,
   "id": "8fed0b0a-14e3-4ac3-a83d-2db8caec72b3",
   "metadata": {
    "tags": []
   },
   "outputs": [
    {
     "data": {
      "text/plain": [
       "<Figure size 800x600 with 0 Axes>"
      ]
     },
     "metadata": {},
     "output_type": "display_data"
    },
    {
     "data": {
      "image/png": "[encoded data removed]",
      "text/plain": [
       "<Figure size 640x480 with 1 Axes>"
      ]
     },
     "metadata": {},
     "output_type": "display_data"
    }
   ],
   "source": [
    "salaries_2013_df = salaries_df[salaries_df['yearID'] == 2013]\n",
    "teams_2013_df = teams_df[teams_df['yearID'] == 2013]\n",
    "payroll_2013 = salaries_2013_df.groupby('teamID')['salary'].sum().reset_index()\n",
    "\n",
    "wins_2013 = teams_2013_df[['teamID', 'W']]\n",
    "\n",
    "df_2013 = pd.merge(wins_2013, payroll_2013, on='teamID', how='left')\n",
    "\n",
    "df_2013.columns = ['teamID', 'wins', 'payroll']\n",
    "\n",
    "# Scatter plot for 2013\n",
    "plt.figure(figsize=(8, 6))\n",
    "df_2003.plot.scatter('wins', 'payroll')\n",
    "plt.title('Year 2013')\n",
    "\n",
    "oakland_2013 = df_2013[df_2013['teamID'] == 'OAK']\n",
    "\n",
    "plt.plot(oakland_2013['wins'], oakland_2013['payroll'], 'ro', label='OAK')\n",
    "plt.xlim(0, 110)\n",
    "plt.legend()\n",
    "plt.show()"
   ]
  },
  {
   "cell_type": "markdown",
   "id": "245acd6a",
   "metadata": {
    "deletable": false,
    "editable": false
   },
   "source": [
    "<!-- END QUESTION -->\n",
    "\n",
    "<!-- BEGIN QUESTION -->\n",
    "\n",
    "### QUESTION 4e). \n",
    "\n",
    "Examining your scatterplots above, what was the effect of introducing statistics and data science in selecting players for the Oakland A's? (i.e. comment on what trend you notice from the graphs regarding the Oakland A's between 1998, 2003 and 2013).      "
   ]
  },
  {
   "cell_type": "markdown",
   "id": "ab89e0a7",
   "metadata": {},
   "source": [
    "Throughout the various scatterplots depicting Oakland A's salary to win ratio, we see that through the years, there is an overall upwards trend in both salary and wins. In between 1998 and 2003, we can see how while the payroll did not greatly increase, there was a major jump in number of wins. Following this trend, we see that between 2003 and 2013, there is both a large increase in both payroll and wins creating a positive relationships where greater payroll has lead to greater number of wins."
   ]
  },
  {
   "cell_type": "markdown",
   "id": "4f74f72e",
   "metadata": {
    "deletable": false,
    "editable": false
   },
   "source": [
    "<!-- END QUESTION -->\n",
    "\n",
    "<br/><br/>\n",
    "<hr style=\"border: 5px solid #003262;\" />\n",
    "<hr style=\"border: 1px solid #fdb515;\" />\n",
    "\n",
    "## Congratulations! You have finished Homework 3!"
   ]
  },
  {
   "cell_type": "markdown",
   "id": "cc31acf9",
   "metadata": {},
   "source": [
    "If you discussed this assignment with any other students in the class (in a manner that is acceptable as described by the Collaboration policy above) please **include their names** here:\n",
    "\n",
    "**Collaborators**: *list collaborators here*"
   ]
  },
  {
   "cell_type": "markdown",
   "id": "46739932",
   "metadata": {},
   "source": [
    "### Submission Instructions\n",
    "\n",
    "Before proceeding any further, **save this notebook.**\n",
    "\n",
    "After running the `grader.export()` cell provided below, **2 files will be created**: a zip file and pdf file.  You can download them using the links provided below OR by finding them in the same folder where this juptyer notebook resides in your JuptyerHub.\n",
    "\n",
    "To receive credit on this assignment, **you must submit BOTH of these files\n",
    "to their respective Gradescope portals:** \n",
    "\n",
    "* **Homework 3 Autograded**: Submit the zip file that is output by the `grader.export()` cell below to the HW1 Autograded assignment in Gradescope.\n",
    "\n",
    "* **Homework 3 Manually Graded**: Submit your hw01.PDF to the HW1 Manually Graded assignment in Gradescope.  \n",
    "\n",
    "\n",
    "**You are responsible for ensuring your submission follows our requirements. We will not be granting regrade requests nor extensions to submissions that don't follow instructions.** If you encounter any difficulties with submission, please don't hesitate to reach out to the instructor prior to the deadline."
   ]
  },
  {
   "cell_type": "markdown",
   "id": "338fc541",
   "metadata": {
    "deletable": false,
    "editable": false
   },
   "source": [
    "## Submission\n",
    "\n",
    "Make sure you have run all cells in your notebook in order before running the cell below, so that all images/graphs appear in the output. The cell below will generate a zip file for you to submit. **Please save before exporting!**\n",
    "\n",
    "AFTER running the cell below, click on <a href='hw03.pdf' download>this link to download the PDF </a> to upload to Gradescope.  There will be a separate link that appears after running the cell below with a link to download the zip file to upload to Gradescope."
   ]
  },
  {
   "cell_type": "code",
   "execution_count": 84,
   "id": "10c310be",
   "metadata": {
    "deletable": false,
    "editable": false
   },
   "outputs": [
    {
     "name": "stdout",
     "output_type": "stream",
     "text": [
      "Running your submission against local test cases...\n",
      "\n",
      "\n",
      "\n",
      "Your submission received the following results when run against available test cases:\n",
      "\n",
      "    q1a results: All test cases passed!\n",
      "\n",
      "    q1b results: All test cases passed!\n",
      "\n",
      "    q1c results: All test cases passed!\n",
      "\n",
      "    q2 results: All test cases passed!\n",
      "\n",
      "    q3a results: All test cases passed!\n",
      "\n",
      "    q4ai results: All test cases passed!\n",
      "\n",
      "    q4aii results: All test cases passed!\n",
      "\n",
      "    q4bi results: All test cases passed!\n",
      "\n",
      "    q4bii results: All test cases passed!\n",
      "\n",
      "    q4c results: All test cases passed!\n"
     ]
    },
    {
     "data": {
      "text/html": [
       "\n",
       "                    <p>\n",
       "                        Your submission has been exported. Click\n",
       "                        <a href=\"hw03_2024_01_30T18_34_53_078129.zip\" download=\"hw03_2024_01_30T18_34_53_078129.zip\" target=\"_blank\">here</a> to download\n",
       "                        the zip file.\n",
       "                    </p>\n",
       "                "
      ],
      "text/plain": [
       "<IPython.core.display.HTML object>"
      ]
     },
     "metadata": {},
     "output_type": "display_data"
    }
   ],
   "source": [
    "# Save your notebook first, then run this cell to export your submission.\n",
    "grader.export(run_tests=True)"
   ]
  },
  {
   "cell_type": "markdown",
   "id": "c0752c64",
   "metadata": {},
   "source": [
    " "
   ]
  }
 ],
 "metadata": {
  "kernelspec": {
   "display_name": "Python 3 (ipykernel)",
   "language": "python",
   "name": "python3"
  },
  "language_info": {
   "codemirror_mode": {
    "name": "ipython",
    "version": 3
   },
   "file_extension": ".py",
   "mimetype": "text/x-python",
   "name": "python",
   "nbconvert_exporter": "python",
   "pygments_lexer": "ipython3",
   "version": "3.10.8"
  },
  "otter": {
   "OK_FORMAT": true,
   "tests": {
    "q1a": {
     "name": "q1a",
     "points": 5,
     "suites": [
      {
       "cases": [
        {
         "code": ">>> assert len(best_result_percentage_only) == 15\n",
         "hidden": false,
         "locked": false
        },
        {
         "code": ">>> assert np.isclose(best_result_percentage_only.query('Party == \"Independent\"').loc[\"Independent\",\"%\"],18.95629754)\n",
         "hidden": false,
         "locked": false
        },
        {
         "code": ">>> assert np.isclose(best_result_percentage_only.iloc[0,0],61.34470329)\n",
         "hidden": false,
         "locked": false
        }
       ],
       "scored": true,
       "setup": "",
       "teardown": "",
       "type": "doctest"
      }
     ]
    },
    "q1b": {
     "name": "q1b",
     "points": 5,
     "suites": [
      {
       "cases": [
        {
         "code": ">>> assert best_result.shape == (15,5)\n",
         "hidden": false,
         "locked": false
        },
        {
         "code": ">>> assert (best_result[\"Popular vote\"].sum() ==135020916)\n",
         "hidden": false,
         "locked": false
        },
        {
         "code": ">>> assert (best_result.loc[\"Democratic\", \"Candidate\"]  == 'Lyndon Johnson')\n",
         "hidden": false,
         "locked": false
        }
       ],
       "scored": true,
       "setup": "",
       "teardown": "",
       "type": "doctest"
      }
     ]
    },
    "q1c": {
     "name": "q1c",
     "points": 5,
     "suites": [
      {
       "cases": [
        {
         "code": ">>> assert (major_party_results_since_1988.shape == (40,6))\n",
         "hidden": false,
         "locked": false
        },
        {
         "code": ">>> assert np.isclose(major_party_results_since_1988[\"%\"].min(),0.098088334)\n",
         "hidden": false,
         "locked": false
        },
        {
         "code": ">>> assert (major_party_results_since_1988[\"Candidate\"].iloc[0] == 'George H. W. Bush')\n",
         "hidden": false,
         "locked": false
        }
       ],
       "scored": true,
       "setup": "",
       "teardown": "",
       "type": "doctest"
      }
     ]
    },
    "q2": {
     "name": "q2",
     "points": 5,
     "suites": [
      {
       "cases": [
        {
         "code": ">>> #TEST\n>>> assert (elections_with_first_name.shape == (182, 7))\n",
         "hidden": false,
         "locked": false
        },
        {
         "code": ">>> assert (elections_with_first_name[elections_with_first_name[\"Candidate\"] == \"Andrew Jackson\"].iloc[0][\"First Name\"] == 'Andrew')\n>>> \n",
         "hidden": false,
         "locked": false
        },
        {
         "code": ">>> assert (elections_with_first_name[elections_with_first_name[\"Candidate\"] == \"Jo Jorgensen\"].iloc[0][\"First Name\"] == 'Jo')\n",
         "hidden": false,
         "locked": false
        }
       ],
       "scored": true,
       "setup": "",
       "teardown": "",
       "type": "doctest"
      }
     ]
    },
    "q3a": {
     "name": "q3a",
     "points": 5,
     "suites": [
      {
       "cases": [
        {
         "code": ">>> assert (presidential_candidates_and_name_popularity.shape == (154,9))\n",
         "hidden": false,
         "locked": false
        },
        {
         "code": ">>> assert (presidential_candidates_and_name_popularity[presidential_candidates_and_name_popularity[\"Candidate\"] == \"Andrew Jackson\"].iloc[0][\"Name\"] == 'Andrew')\n>>> \n",
         "hidden": false,
         "locked": false
        },
        {
         "code": ">>> assert presidential_candidates_and_name_popularity[presidential_candidates_and_name_popularity[\"Candidate\"] == \"Jo Jorgensen\"].iloc[0][\"Count\"] == 6\n",
         "hidden": false,
         "locked": false
        }
       ],
       "scored": true,
       "setup": "",
       "teardown": "",
       "type": "doctest"
      }
     ]
    },
    "q4ai": {
     "name": "q4ai",
     "points": 4,
     "suites": [
      {
       "cases": [
        {
         "code": ">>> assert (w1998.shape == (30,2)) \n",
         "hidden": false,
         "locked": false
        },
        {
         "code": ">>> assert (w1998[\"wins\"]['ANA'] == 85)\n",
         "hidden": false,
         "locked": false
        },
        {
         "code": ">>> assert (w1998[\"wins\"]['TOR'] == 88)\n",
         "hidden": false,
         "locked": false
        },
        {
         "code": ">>> assert (w1998[\"wins\"].sum() == 2430)\n",
         "hidden": false,
         "locked": false
        }
       ],
       "scored": true,
       "setup": "",
       "teardown": "",
       "type": "doctest"
      }
     ]
    },
    "q4aii": {
     "name": "q4aii",
     "points": 1,
     "suites": [
      {
       "cases": [
        {
         "code": ">>> assert oakwins == 74\n",
         "hidden": false,
         "locked": false
        }
       ],
       "scored": true,
       "setup": "",
       "teardown": "",
       "type": "doctest"
      }
     ]
    },
    "q4bi": {
     "name": "q4bi",
     "points": 4,
     "suites": [
      {
       "cases": [
        {
         "code": ">>> #TEST\n>>> assert (p1998.shape == (30,1))\n",
         "hidden": false,
         "locked": false
        },
        {
         "code": ">>> #TEST\n>>> assert (p1998[\"payroll\"]['LAN'] == 48820000)\n",
         "hidden": false,
         "locked": false
        },
        {
         "code": ">>> #TEST\n>>> assert (p1998[\"payroll\"][-1] == 51376000)\n",
         "hidden": false,
         "locked": false
        },
        {
         "code": ">>> #TEST\n>>> assert (p1998[\"payroll\"].sum() == 1278282871)\n",
         "hidden": false,
         "locked": false
        }
       ],
       "scored": true,
       "setup": "",
       "teardown": "",
       "type": "doctest"
      }
     ]
    },
    "q4bii": {
     "name": "q4bii",
     "points": 1,
     "suites": [
      {
       "cases": [
        {
         "code": ">>> #TEST\n>>> assert (o_payroll == 21303000)\n",
         "hidden": false,
         "locked": false
        }
       ],
       "scored": true,
       "setup": "",
       "teardown": "",
       "type": "doctest"
      }
     ]
    },
    "q4c": {
     "name": "q4c",
     "points": 4,
     "suites": [
      {
       "cases": [
        {
         "code": ">>> #TEST \n>>> assert df_1998.loc[\"SEA\",\"name\"]=='Seattle Mariners'\n>>> \n",
         "hidden": false,
         "locked": false
        },
        {
         "code": ">>> #TEST \n>>> \n>>> assert (df_1998[\"wins\"].sum()==2430)\n",
         "hidden": false,
         "locked": false
        },
        {
         "code": ">>> #TEST\n>>> \n>>> assert df_1998.loc[\"CIN\",\"payroll\"]==23005000\n",
         "hidden": false,
         "locked": false
        }
       ],
       "scored": true,
       "setup": "",
       "teardown": "",
       "type": "doctest"
      }
     ]
    }
   }
  }
 },
 "nbformat": 4,
 "nbformat_minor": 5
}
