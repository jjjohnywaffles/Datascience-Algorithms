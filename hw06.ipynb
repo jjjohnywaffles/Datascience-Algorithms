{
 "cells": [
  {
   "cell_type": "code",
   "execution_count": 1,
   "id": "c81ae250",
   "metadata": {
    "deletable": false,
    "editable": false
   },
   "outputs": [],
   "source": [
    "# Initialize Otter\n",
    "import otter\n",
    "grader = otter.Notebook(\"hw06.ipynb\")"
   ]
  },
  {
   "cell_type": "markdown",
   "id": "0a41ef94",
   "metadata": {},
   "source": [
    "# Homework 6\n",
    "\n",
    "## Due on Gradescope\n",
    "\n",
    "\n",
    "### Detailed Submission Instructions Are Provided at the end of this Notebook\n",
    "\n",
    "\n",
    "\n",
    "\n",
    "\n",
    "\n",
    "\n",
    "## Collaboration Policy\n",
    "\n",
    "Data science is a collaborative activity.  However a key step in learning and retention is **creating solutions on your own.**  \n",
    "\n",
    "Please see the **Course Syllabus for the Collaboration Policy**.\n",
    "\n",
    "On the other hand, the following are some **examples of things which would NOT usually be\n",
    "considered to be cheating**:\n",
    " - Working on a HW problem on your own first and then discussing with a classmate a particular part in the problem solution where you are stuck.  After clarifying any questions you should then continue to write your solution independently.\n",
    " - Asking someone (or searching online) how a particular construct in the language works.\n",
    " - Asking someone (or searching online) how to formulate a particular construct in the language.\n",
    " - Asking someone for help in finding an error in your program.  \n",
    " - Asking someone why a particular construct does not work as you expected in a given program.\n",
    "   \n",
    "\n",
    "To test whether you are truly doing your own work and retaining what you've learned you should be able to easily reproduce from scratch and explain a HW solution that was your own when asked in office hours by an Instructor or on a quiz/exam.   \n",
    "\n",
    "\n",
    "If you have difficulty in formulating the general solution to a problem on your own, or\n",
    "you have difficulty in translating that general solution into a program, it is advisable to see\n",
    "your instructor.\n",
    "\n",
    "We are here to help!  Visit OH Hours and/or post questions on Piazza!"
   ]
  },
  {
   "cell_type": "markdown",
   "id": "e4d8a09d",
   "metadata": {},
   "source": [
    "If while completing this assignment you reference any websites other than those linked in this assignment or provided on Canvas please list those references here:\n",
    "\n",
    "**External references**:  *list any websites you referenced"
   ]
  },
  {
   "cell_type": "markdown",
   "id": "24b45ac0",
   "metadata": {},
   "source": [
    "#### Grading\n",
    "Grading is broken down into autograded answers and manually graded answers. \n",
    "\n",
    "For autograded answers, the results of your code are compared to provided and/or hidden tests.\n",
    "\n",
    "For manually graded answers you must show and explain all steps.  Graders will evaluate how well you answered the question and/or fulfilled the requirements of the question.\n",
    "\n",
    "\n",
    "### Score breakdown\n",
    "\n",
    "\n",
    "\n",
    "Question | Points | Grading Type\n",
    "--- | --- | ---\n",
    "Question 1 | 7 | autograded\n",
    "Question 2 | 16 | manual\n",
    "Question 3 | 10 | manual\n",
    "Question 4abcdegh | 14 | manual\n",
    "Question 4f | 3 | autograded\n",
    "|Total | 50"
   ]
  },
  {
   "cell_type": "markdown",
   "id": "c0eec3bc",
   "metadata": {},
   "source": [
    "<a id='top'></a>\n",
    "---\n",
    "**Shortcuts:**  [Problem 2](#p2) | [Problem 3](#p3) | [Problem 4](#p4) | \n",
    "---\n",
    "<hr style=\"border: 5px solid #003262;\" />\n",
    "<hr style=\"border: 1px solid #fdb515;\" />\n",
    "\n"
   ]
  },
  {
   "cell_type": "markdown",
   "id": "20206110",
   "metadata": {},
   "source": [
    "In this HW we explore properties of probability distributions, both theoretically and through simulation.\n"
   ]
  },
  {
   "cell_type": "code",
   "execution_count": 2,
   "id": "931c6bb1",
   "metadata": {
    "scrolled": true
   },
   "outputs": [],
   "source": [
    "import pandas as pd\n",
    "import numpy as np\n",
    "import matplotlib.pylab as plt\n",
    "%matplotlib inline"
   ]
  },
  {
   "cell_type": "markdown",
   "id": "d31b6992",
   "metadata": {},
   "source": [
    "### Question 1"
   ]
  },
  {
   "cell_type": "markdown",
   "id": "0147e431",
   "metadata": {},
   "source": [
    "Factorials and the *binomial coefficients* $\\binom{n}{k} = \\frac{n!}{k!(n-k)!}$ get large very quickly as $n$ gets large. One way to compute them is to use the `SciPy` module `special`. `SciPy` is a collection of Python-based software for math, probability, statistics, science, and engineering."
   ]
  },
  {
   "cell_type": "code",
   "execution_count": 3,
   "id": "a790273f",
   "metadata": {},
   "outputs": [],
   "source": [
    "from scipy import special"
   ]
  },
  {
   "cell_type": "markdown",
   "id": "f129bece",
   "metadata": {},
   "source": [
    "Below are some examples of `special.factorial`:"
   ]
  },
  {
   "cell_type": "code",
   "execution_count": 4,
   "id": "c3979a3c",
   "metadata": {},
   "outputs": [
    {
     "data": {
      "text/plain": [
       "array([  1.,   2.,   6.,  24., 120.])"
      ]
     },
     "execution_count": 4,
     "metadata": {},
     "output_type": "execute_result"
    }
   ],
   "source": [
    "special.factorial(5)\n",
    "\n",
    "special.factorial(range(1, 6))"
   ]
  },
  {
   "cell_type": "markdown",
   "id": "78cf70c7",
   "metadata": {},
   "source": [
    "Traditionally, subsets of $k$ individuals out of a population of $n$ individuals are called *combinations*, and so `special.comb(n, k)` evaluates to $\\binom{n}{k}$. \n",
    "\n",
    "Note that we will always use the term *subsets* to mean un-ordered sets. We will use *permutations* in situations where we need to keep track of the order in which the elements appear.\n",
    "\n",
    "\n",
    "Look at the code and output below carefully (including types) before starting Question 1.\n",
    "\n",
    "\n",
    "https://docs.scipy.org/doc/scipy/reference/generated/scipy.special.comb.html\n",
    "\n"
   ]
  },
  {
   "cell_type": "code",
   "execution_count": 5,
   "id": "7195cb18",
   "metadata": {},
   "outputs": [
    {
     "data": {
      "text/plain": [
       "(10.0, 10.0)"
      ]
     },
     "execution_count": 5,
     "metadata": {},
     "output_type": "execute_result"
    }
   ],
   "source": [
    "special.comb(5, 3), special.factorial(5) / (special.factorial(3) * special.factorial(2))"
   ]
  },
  {
   "cell_type": "code",
   "execution_count": 6,
   "id": "a43ff9ee",
   "metadata": {},
   "outputs": [
    {
     "data": {
      "text/plain": [
       "array([ 1.,  5., 10., 10.,  5.,  1.])"
      ]
     },
     "execution_count": 6,
     "metadata": {},
     "output_type": "execute_result"
    }
   ],
   "source": [
    "special.comb(5, range(6))"
   ]
  },
  {
   "cell_type": "markdown",
   "id": "cb6358c5",
   "metadata": {},
   "source": [
    "Consider a population in which a proportion $p$ of individuals are called \"successes\" (or 1, if you prefer) and the remaining proportion are rudely called \"failures\" (or 0).\n",
    "\n",
    "As we saw in lecture, if you draw a sample of size $n$ (where $n$ is some positive integer) at random with replacement from the population, then the number of successes is a random variable that follows the binomial distribution. The probability of drawing $k$ successes and $n-k$ failures is $\\binom{n}{k}p^k(1-p)^{n-k}$, for $0 \\leq k \\leq n$. To reduce writing, we will shorten \"$k$ successes and $n-k$ failures\" to \"$k$ successes\". In other words, \"$k$ successes\" means \"exactly $k$ successes\".\n",
    "\n",
    "To formalize notation: if $X$ is the number of successes we draw, then $P(X = k) = \\binom{n}{k}p^k(1-p)^{n-k}$."
   ]
  },
  {
   "cell_type": "markdown",
   "id": "4872037a",
   "metadata": {},
   "source": [
    "### Question 1a) ###\n",
    "Suppose you sample 100 times at random with replacement from a population in which 26% of the individuals are successes. Write a Python expression that evaluates to the chance that the sample has 20 successes. \n",
    "\n",
    "**Computational note:** Don't import any other libraries; just use the ones already imported and plug into the formula above. It's far from the best way numerically, but it is fine for the numbers involved in this Homework. "
   ]
  },
  {
   "cell_type": "code",
   "execution_count": 7,
   "id": "709bc2bb",
   "metadata": {
    "tags": []
   },
   "outputs": [
    {
     "data": {
      "text/plain": [
       "0.036911003560024636"
      ]
     },
     "execution_count": 7,
     "metadata": {},
     "output_type": "execute_result"
    }
   ],
   "source": [
    "n = 100  # number of trials\n",
    "k = 20   # number of successes\n",
    "p = 0.26 # probability of success\n",
    "\n",
    "prob_1a = special.comb(n, k) * (p ** k) * ((1 - p) ** (n - k))\n",
    "prob_1a"
   ]
  },
  {
   "cell_type": "code",
   "execution_count": 8,
   "id": "4975a19a",
   "metadata": {
    "deletable": false,
    "editable": false
   },
   "outputs": [
    {
     "data": {
      "text/html": [
       "<p><strong><pre style='display: inline;'>q1a</pre></strong> passed! ✨</p>"
      ],
      "text/plain": [
       "q1a results: All test cases passed!"
      ]
     },
     "execution_count": 8,
     "metadata": {},
     "output_type": "execute_result"
    }
   ],
   "source": [
    "grader.check(\"q1a\")"
   ]
  },
  {
   "cell_type": "markdown",
   "id": "7be85817",
   "metadata": {},
   "source": [
    "### Question 1b) ###\n",
    "Complete the cell with a Python expression that evaluates to an array whose elements are the chances of $k$ successes for $k = 0, 1, 2, \\ldots, 100$. That is, `all_probs[k]` should contain $P(X = k)$, where $X$ is the random variable describing the number of successes drawn from the scenario outlined above."
   ]
  },
  {
   "cell_type": "code",
   "execution_count": 9,
   "id": "e01fef7a",
   "metadata": {
    "tags": []
   },
   "outputs": [
    {
     "data": {
      "text/plain": [
       "(array([0.    , 0.    , 0.    , 0.    , 0.    , 0.    , 0.    , 0.    ,\n",
       "        0.    , 0.    , 0.    , 0.0001, 0.0003, 0.0007, 0.0016, 0.0033,\n",
       "        0.0061, 0.0106, 0.0171, 0.0259, 0.0369, 0.0494, 0.0623, 0.0743,\n",
       "        0.0837, 0.0894, 0.0906, 0.0873, 0.0799, 0.0697, 0.058 , 0.046 ,\n",
       "        0.0349, 0.0252, 0.0175, 0.0116, 0.0073, 0.0045, 0.0026, 0.0015,\n",
       "        0.0008, 0.0004, 0.0002, 0.0001, 0.    , 0.    , 0.    , 0.    ,\n",
       "        0.    , 0.    , 0.    , 0.    , 0.    , 0.    , 0.    , 0.    ,\n",
       "        0.    , 0.    , 0.    , 0.    , 0.    , 0.    , 0.    , 0.    ,\n",
       "        0.    , 0.    , 0.    , 0.    , 0.    , 0.    , 0.    , 0.    ,\n",
       "        0.    , 0.    , 0.    , 0.    , 0.    , 0.    , 0.    , 0.    ,\n",
       "        0.    , 0.    , 0.    , 0.    , 0.    , 0.    , 0.    , 0.    ,\n",
       "        0.    , 0.    , 0.    , 0.    , 0.    , 0.    , 0.    , 0.    ,\n",
       "        0.    , 0.    , 0.    , 0.    , 0.    ]),\n",
       " 0.9999999999999994)"
      ]
     },
     "execution_count": 9,
     "metadata": {},
     "output_type": "execute_result"
    }
   ],
   "source": [
    "k = np.arange(101)\n",
    "all_probs = special.comb(n, k) * (p ** k) * ((1 - p) ** (n - k))\n",
    "np.round(all_probs, 4), sum(all_probs)"
   ]
  },
  {
   "cell_type": "code",
   "execution_count": 10,
   "id": "55c77c5e",
   "metadata": {
    "deletable": false,
    "editable": false
   },
   "outputs": [
    {
     "data": {
      "text/html": [
       "<p><strong><pre style='display: inline;'>q1b</pre></strong> passed! 🎉</p>"
      ],
      "text/plain": [
       "q1b results: All test cases passed!"
      ]
     },
     "execution_count": 10,
     "metadata": {},
     "output_type": "execute_result"
    }
   ],
   "source": [
    "grader.check(\"q1b\")"
   ]
  },
  {
   "cell_type": "markdown",
   "id": "17ab40ba",
   "metadata": {},
   "source": [
    "Using the array of probability values we can plot a histogram of this discrete probability distribution as follows.\n",
    "\n",
    "**NOTE:** We set the bin widths to be equal to 1 and add white lines between each value so that we can interpret area in the histogram as probabilities."
   ]
  },
  {
   "cell_type": "code",
   "execution_count": 11,
   "id": "ac404b22",
   "metadata": {},
   "outputs": [
    {
     "data": {
      "image/png": "[encoded data removed]",
      "text/plain": [
       "<Figure size 640x480 with 1 Axes>"
      ]
     },
     "metadata": {},
     "output_type": "display_data"
    }
   ],
   "source": [
    "k = np.arange(101)\n",
    "p = special.comb(100, k)*(0.26**k)*(0.74**(100-k))\n",
    "\n",
    "\n",
    "fig, ax = plt.subplots()\n",
    "\n",
    "ax.bar(k, p, width=1, ec='white');\n",
    "ax.set_axisbelow(True)\n",
    "ax.grid(alpha=0.25)\n",
    "plt.xlim(1,60)\n",
    "plt.title(\"Binomial Distribution, n=100, p=0.26\");\n",
    "\n"
   ]
  },
  {
   "cell_type": "markdown",
   "id": "76e89a52",
   "metadata": {},
   "source": [
    "### Question 1c) ###\n",
    "\n",
    "\n",
    "Complete the cell with an expression that evaluates to the chance that the number of successes in the sample is in the interval $26 \\pm 10$ (inclusive on both sides). In other words, determine $P(16 \\leq X \\leq 36)$. **Hint: You might want to apply your Python indexing knowledge here.**\n",
    "\n",
    "**Note: Please assign your answer to `prob_1c`. Because we use an autograder, please make sure your answer is a proportion between 0 and 1, not a percent between 0 and 100.**"
   ]
  },
  {
   "cell_type": "code",
   "execution_count": 12,
   "id": "1669bcad",
   "metadata": {
    "tags": []
   },
   "outputs": [
    {
     "data": {
      "text/plain": [
       "0.9838345682140125"
      ]
     },
     "execution_count": 12,
     "metadata": {},
     "output_type": "execute_result"
    }
   ],
   "source": [
    "prob_1c = np.sum(all_probs[16:37])\n",
    "\n",
    "prob_1c"
   ]
  },
  {
   "cell_type": "code",
   "execution_count": 13,
   "id": "9c4fa438",
   "metadata": {
    "deletable": false,
    "editable": false
   },
   "outputs": [
    {
     "data": {
      "text/html": [
       "<p><strong><pre style='display: inline;'>q1c</pre></strong> passed! 💯</p>"
      ],
      "text/plain": [
       "q1c results: All test cases passed!"
      ]
     },
     "execution_count": 13,
     "metadata": {},
     "output_type": "execute_result"
    }
   ],
   "source": [
    "grader.check(\"q1c\")"
   ]
  },
  {
   "cell_type": "markdown",
   "id": "81abfe91",
   "metadata": {},
   "source": [
    "Consider (once again) a sample of size $n$ drawn at random with replacement from a population in which a proportion $p$ of the individuals are called successes.\n",
    "\n",
    "Let $S$ be the random variable that denotes the number of successes in our sample. (As stated above, $S$ follows the binomial distribution.) Then, the probability that the number of successes in our sample is **at most** $s$ (where $0 \\leq s \\leq n$) is\n",
    "\n",
    "$$P(S \\leq s) = P(S = 0) + P(S = 1) + ... + P(S = s) = \\sum_{k=0}^s \\binom{n}{k}p^k(1-p)^{n-k}$$\n",
    "\n",
    "We obtain this by summing the probability that the number of successes is exactly $k$, for each value of $k = 0, 1, 2, ..., s$."
   ]
  },
  {
   "cell_type": "markdown",
   "id": "e58a3dbb",
   "metadata": {},
   "source": [
    "### Question 1d) ###\n",
    "\n",
    "Please fill in the function `prob_at_most` which takes $n$, $p$, and $s$ and returns $P(S \\le s)$ as defined above. If the inputs are invalid: for instance, if $p > 1$ OR $s > n$ then return 0.\" \n",
    "\n",
    "It might help to refer to the calculation in Question 1b."
   ]
  },
  {
   "cell_type": "code",
   "execution_count": 16,
   "id": "7d6ce2b8",
   "metadata": {
    "tags": []
   },
   "outputs": [],
   "source": [
    "def prob_at_most(n, p, s):\n",
    "    \"\"\"\n",
    "    Returns the probability of S <= s.\n",
    "    Input n: sample size; p: proportion; s: number of successes at most\n",
    "    \"\"\"\n",
    "    # Check if inputs are invalid\n",
    "    if p > 1 or s > n:\n",
    "        return 0\n",
    "    \n",
    "    # Calculate probabilities for each k from 0 to s\n",
    "    k = np.arange(s + 1)\n",
    "    probabilities = special.comb(n, k) * (p ** k) * ((1 - p) ** (n - k))\n",
    "    \n",
    "    return np.sum(probabilities)"
   ]
  },
  {
   "cell_type": "code",
   "execution_count": 17,
   "id": "0e7a0690",
   "metadata": {
    "deletable": false,
    "editable": false
   },
   "outputs": [
    {
     "data": {
      "text/html": [
       "<p><strong><pre style='display: inline;'>q1d</pre></strong> passed! 🙌</p>"
      ],
      "text/plain": [
       "q1d results: All test cases passed!"
      ]
     },
     "execution_count": 17,
     "metadata": {},
     "output_type": "execute_result"
    }
   ],
   "source": [
    "grader.check(\"q1d\")"
   ]
  },
  {
   "cell_type": "markdown",
   "id": "e334b604",
   "metadata": {},
   "source": [
    "### Question 1e) ###\n",
    "In an election, supporters of Candidate C are in a minority. Only 45% of the voters in the population favor the candidate.\n",
    "\n",
    "Suppose a survey organization takes a sample of 200 voters at random with replacement from this population. Use `prob_at_most` to write an expression that evaluates to the chance that a majority (more than half) of the sampled voters favor Candidate C."
   ]
  },
  {
   "cell_type": "code",
   "execution_count": 22,
   "id": "b77a9bb2",
   "metadata": {
    "tags": []
   },
   "outputs": [
    {
     "data": {
      "text/plain": [
       "0.06807524986263858"
      ]
     },
     "execution_count": 22,
     "metadata": {},
     "output_type": "execute_result"
    }
   ],
   "source": [
    "n = 200  # sample size\n",
    "p = 0.45 # proportion favoring Candidate C\n",
    "\n",
    "p_majority = 1 - prob_at_most(n, p, 100)\n",
    "p_majority"
   ]
  },
  {
   "cell_type": "code",
   "execution_count": 23,
   "id": "450b3d47",
   "metadata": {
    "deletable": false,
    "editable": false
   },
   "outputs": [
    {
     "data": {
      "text/html": [
       "<p><strong><pre style='display: inline;'>q1e</pre></strong> passed! 🌟</p>"
      ],
      "text/plain": [
       "q1e results: All test cases passed!"
      ]
     },
     "execution_count": 23,
     "metadata": {},
     "output_type": "execute_result"
    }
   ],
   "source": [
    "grader.check(\"q1e\")"
   ]
  },
  {
   "cell_type": "markdown",
   "id": "aedce6ca",
   "metadata": {},
   "source": [
    "### Question 1f) ###\n",
    "Suppose each of five survey organizations takes a sample of voters at random with replacement from the population of voters in Part **b**, independently of the samples drawn by the other organizations. \n",
    "\n",
    "- Three of the organizations use a sample size of 200\n",
    "- One organization uses a sample size of 300\n",
    "- One organization uses a sample size of 400\n",
    "\n",
    "Write an expression that evaluates to the chance that in at least one of the five samples the majority of voters favor Candidate C. You can use any quantity or function defined earlier in this exercise."
   ]
  },
  {
   "cell_type": "code",
   "execution_count": 24,
   "id": "8ee4d6a2",
   "metadata": {
    "tags": []
   },
   "outputs": [
    {
     "data": {
      "text/plain": [
       "0.2355036156844238"
      ]
     },
     "execution_count": 24,
     "metadata": {},
     "output_type": "execute_result"
    }
   ],
   "source": [
    "prob_1f = 1 - np.prod([(1 - (1 - prob_at_most(n, 0.45, n // 2))) for n in [200, 200, 200, 300, 400]])\n",
    "prob_1f"
   ]
  },
  {
   "cell_type": "code",
   "execution_count": 25,
   "id": "a21968fe",
   "metadata": {
    "deletable": false,
    "editable": false
   },
   "outputs": [
    {
     "data": {
      "text/html": [
       "<p><strong><pre style='display: inline;'>q1f</pre></strong> passed! 🎉</p>"
      ],
      "text/plain": [
       "q1f results: All test cases passed!"
      ]
     },
     "execution_count": 25,
     "metadata": {},
     "output_type": "execute_result"
    }
   ],
   "source": [
    "grader.check(\"q1f\")"
   ]
  },
  {
   "cell_type": "markdown",
   "id": "f630e550",
   "metadata": {},
   "source": [
    "***\n",
    "\n",
    "[Back to top](#top)\n",
    "\n",
    "<a id='p2'></a>\n",
    "\n",
    "### Question 2 - Simulating Roulette\n",
    "\n",
    "\n",
    "A Las Vegas roulette wheel contains 38 numbers $\\{0, 00, 1, 2, \\ldots, 36\\}$. Of the non-zero numbers, 18 are red and 18 are black. You can place bets on various number/color combinations and each type of bet pays-out at a different rate.  For example: \n",
    "\n",
    "- If you bet $\\$1$ on red (or black) and win, then you win $\\$1$ (i.e. you get your original dollar back, plus another dollar). \n",
    "- If you bet $\\$1$ any particular number and win, then you win $\\$35$ (i.e you get your original dollar back, plus $\\$35$). \n",
    "- If you bet $\\$1$ on the first dozen (or second dozen, or third dozen) nonzero numbers and win, then you win $\\$2$ (i.e. you get your original dollar back, plus another $\\$2$. \n",
    "\n",
    "<img src=\"img/roulette_wheel.jpeg\" width=\"330px\">\n",
    "\n",
    "It seems like there are so many ways to win!  In reality, some very careful probability theory was done by the game designers to ensure that there is not much difference in any particular payout.  We'll explore roulette both by simulation and by hand in this exercise. "
   ]
  },
  {
   "cell_type": "markdown",
   "id": "a526842e",
   "metadata": {
    "deletable": false,
    "editable": false
   },
   "source": [
    "<!-- BEGIN QUESTION -->\n",
    "\n",
    "### Question 2a) ### \n",
    "\n",
    "Let $X$ be a random variable that gives your winnings if you bet on red and the roulette wheel is spun once.   \n",
    "\n",
    "i).  What is the probability distribution of $X$?  Give your answer as a table. \n",
    "\n",
    "ii).  Calculate the expected value of your winnings by betting on red.   \n",
    "\n",
    "\n",
    "Write up your full solution in the SAME box below using LaTeX (not code).  Show all steps fully justifying your answer.  \n"
   ]
  },
  {
   "cell_type": "markdown",
   "id": "78d28226",
   "metadata": {},
   "source": [
    "### i) Probability Distribution of 𝑋\n",
    "\n",
    "When betting on red in roulette, there are three possible outcomes for your winnings $X$:\n",
    "\n",
    "Win: This happens if the ball lands on one of the 18 red numbers. Since there are 38 numbers in total on a roulette wheel, the probability of this happening is $\\frac{18}{38}$.\n",
    "\n",
    "Lose: This occurs if the ball lands on a black number or 0 or 00. There are 18 black numbers, and 2 green numbers (0 and 00), making a total of 20. So, the probability of losing $\\frac{20}{38}$.\n",
    "\n",
    "Thus, the probability distribution of \\(X\\), your winnings from betting on red, can be summarized as follows:\n",
    "\n",
    "$X$ | $P(X)$\n",
    "--- | ---\n",
    "$+1$ | $\\frac{18}{38}$\n",
    "$-1$ | $\\frac{20}{38}$\n",
    "\n",
    "### ii) Expected Value of Winnings\n",
    "\n",
    "The expected value (\\(E[X]\\)) of your winnings can be calculated using the probability distribution of \\(X\\):\n",
    "\n",
    "\n",
    "$E[X] = (+1) \\cdot P(X=+1) + (-1) \\cdot P(X=-1)$\n",
    "\n",
    "$= (+1) \\cdot \\frac{18}{38} + (-1) \\cdot \\frac{20}{38}$\n",
    "\n",
    "$= \\frac{18}{38} - \\frac{20}{38}$\n",
    "\n",
    "$= \\frac{-2}{38}$\n",
    "\n",
    "$= -\\frac{1}{19}$\n",
    "\n",
    "Therefore, the expected value of your winnings by betting on red is $-\\frac{1}{19}$ dollars. This means that, on average, you lose a little over 5 cents for each dollar you bet on red in the long run."
   ]
  },
  {
   "cell_type": "markdown",
   "id": "f44e3ed5",
   "metadata": {
    "deletable": false,
    "editable": false
   },
   "source": [
    "<!-- END QUESTION -->\n",
    "\n",
    "<!-- BEGIN QUESTION -->\n",
    "\n",
    "### Question 2b) ### \n",
    "\n",
    "Let's simulate this.  In the first code box below, write code to simulate one spin of a roulette wheel.  Your output should be a string in the form of the number then the color (i.e. `18R` or `00G`) \n",
    "\n",
    "In the 2nd code box below, write code that takes the number of spins and either the color red or black as input, calculates winnings for each spin assuming you bet on that color for all spins, and then outputs the average winnings out of those spins.  \n",
    "\n",
    "Then run the simulation 3 different times for `num_spins` = 100,000  and compare to your answer from part A.\n",
    "\n",
    "**To receive credit you must write your code such that all lines are visible in your PDF output.**"
   ]
  },
  {
   "cell_type": "code",
   "execution_count": 39,
   "id": "fc313e5a",
   "metadata": {
    "tags": []
   },
   "outputs": [
    {
     "data": {
      "text/plain": [
       "'12B'"
      ]
     },
     "execution_count": 39,
     "metadata": {},
     "output_type": "execute_result"
    }
   ],
   "source": [
    "import random\n",
    "\n",
    "def spin_roulette():\n",
    "    # Map numbers to colors\n",
    "    number = random.randint(0, 37)  # Simulate the spin\n",
    "    if number == 37:  # Treat \"37\" as \"00\"\n",
    "        return \"00G\"\n",
    "    color = \"R\" if number % 2 == 0 and not (11 <= number <= 18 or 29 <= number <= 36) else \"B\"\n",
    "    if number == 0:\n",
    "        color = \"G\"  # 0 is green\n",
    "    return f\"{number}{color}\"\n",
    "# Your code above this line\n",
    "spin_roulette()"
   ]
  },
  {
   "cell_type": "code",
   "execution_count": 40,
   "id": "0b3ccbc3",
   "metadata": {
    "tags": []
   },
   "outputs": [
    {
     "name": "stdout",
     "output_type": "stream",
     "text": [
      "E[Winnings] = -0.052\n",
      "E[Winnings] = -0.051\n",
      "E[Winnings] = -0.055\n"
     ]
    }
   ],
   "source": [
    "def color_winnings(color='R', num_spins=100000):\n",
    "    # Initialize variables\n",
    "    winnings = 0\n",
    "    \n",
    "    # Define the roulette wheel\n",
    "    numbers = [\"0\", \"00\"] + [str(i) for i in range(1, 37)]\n",
    "    colors = [\"G\", \"G\"] + [\"R\" if i % 2 != 0 else \"B\" for i in range(1, 37)]\n",
    "    \n",
    "    for _ in range(num_spins):\n",
    "        # Simulate a spin\n",
    "        import random\n",
    "        index = random.randint(0, 37)\n",
    "        spin_color = colors[index]\n",
    "        \n",
    "        # Calculate winnings\n",
    "        if color == spin_color:\n",
    "            winnings += 1  # Win $1\n",
    "        else:\n",
    "            winnings -= 1  # Lose $1\n",
    "            \n",
    "    # Calculate average winnings\n",
    "    return winnings / num_spins\n",
    "# Your code above this line \n",
    "print(\"E[Winnings] = {:.3f}\".format(color_winnings(color=\"R\", num_spins=int(1e6))))\n",
    "print(\"E[Winnings] = {:.3f}\".format(color_winnings(color=\"R\", num_spins=int(1e6))))\n",
    "print(\"E[Winnings] = {:.3f}\".format(color_winnings(color=\"R\", num_spins=int(1e6))))"
   ]
  },
  {
   "cell_type": "markdown",
   "id": "d0526ce7",
   "metadata": {
    "deletable": false,
    "editable": false
   },
   "source": [
    "<!-- END QUESTION -->\n",
    "\n",
    "<!-- BEGIN QUESTION -->\n",
    "\n",
    "### Question 2c) ### \n",
    "\n",
    "In Roulette you can bet on one of three \"dozens\" segments, called 1st 12, 2nd 12, and 3rd 12. They cover 1-12, 13-24, and 25-36, respectively.   If you bet $\\$1$ on the first dozen (or second dozen, or third dozen) nonzero numbers and win, then you win $\\$2$ (i.e. you get your original dollar back, plus another $\\$2$. \n",
    "\n",
    "\n",
    "Let $Y$ be a random variable that gives your winnings if you bet on any one of the three \"dozen\" nonzero numbers and the roulette wheel is spun once.  \n",
    "\n",
    "i).  What is the probability distribution of $Y$?  Give your answer as a table. \n",
    "\n",
    "ii).  What is $E[Y]$?\n",
    "\n",
    "Write up your full solution in the SAME box below using LaTeX (not code).  Show all steps fully justifying your answer.  "
   ]
  },
  {
   "cell_type": "markdown",
   "id": "52b43ccf",
   "metadata": {},
   "source": [
    "i) Probability Distribution of Y\n",
    "\n",
    "When you bet on any one of the \"dozen\" segments (1st 12, 2nd 12, or 3rd 12), there are two possible outcomes:\n",
    "\n",
    "Win: This occurs if the ball lands on one of the numbers in the dozen you bet on. Since each dozen covers 12 numbers and there are 38 numbers in total on the roulette wheel (including 0 and 00 which are not part of any dozen), the probability of winning is $\\frac{12}{38}$.\n",
    "\n",
    "Lose: This happens if the ball lands on any of the other numbers, including 0 and 00. Since there are 26 numbers that are not in your chosen dozen (24 from the other two dozens plus 0 and 00), the probability of losing is $\\frac{26}{38}$.\n",
    "\n",
    "The winnings $Y$ can be defined as follows:\n",
    "\n",
    "$Y = +2$ dollars if you win (you get your original dollar back plus another 2 dollars).\n",
    "$Y = -1$ dollar if you lose (you lose your original dollar).\n",
    "\n",
    "The probability distribution of $Y$ can be summarized in the table below:\n",
    "$Y$     | $P(Y)$\n",
    "------|--------\n",
    "$+2$    | $12/38$\n",
    "$-1$    | $26/38$\n",
    "\n",
    "ii) Expected Value of $Y$\n",
    "\n",
    "The expected value $E[Y]$ of the winnings can be calculated using the probability distribution of $Y$:\n",
    "\n",
    "$E[Y] = (+2) \\cdot P(Y=+2) + (-1) \\cdot P(Y=-1)$\n",
    "\n",
    "\n",
    "Substituting the probabilities:\n",
    "\n",
    "$E[Y] = (+2) \\cdot \\frac{12}{38} + (-1) \\cdot \\frac{26}{38}$\n",
    "\n",
    "$E[Y] = \\frac{24}{38} - \\frac{26}{38}$\n",
    "\n",
    "$E[Y] = \\frac{-2}{38}$\n",
    "\n",
    "$E[Y] = -\\frac{1}{19}$\n",
    "\n",
    "Therefore, the expected value of your winnings by betting on any one of the three \"dozen\" segments is $-\\frac{1}{19}$ dollars. This means that, on average, you lose a little over 5 cents for each dollar bet on a \"dozen\" segment in the long run. This analysis further illustrates the inherent house advantage designed into the game of roulette."
   ]
  },
  {
   "cell_type": "markdown",
   "id": "70be4034",
   "metadata": {
    "deletable": false,
    "editable": false
   },
   "source": [
    "<!-- END QUESTION -->\n",
    "\n",
    "<!-- BEGIN QUESTION -->\n",
    "\n",
    "### Question 2d) ### \n",
    "\n",
    "Write code to simulate `num_spins` spins, record the winnings for each spin if you bet on the first dozen nonzero numbers, and calculate the average winnings out of the total spins.\n",
    "\n",
    "Then run the simulation 3 different times for `num_spins` = 100,000  and compare to your answer from part C.  \n"
   ]
  },
  {
   "cell_type": "code",
   "execution_count": 41,
   "id": "4915dccd",
   "metadata": {
    "tags": []
   },
   "outputs": [
    {
     "name": "stdout",
     "output_type": "stream",
     "text": [
      "E[Winnings] = -0.051\n",
      "E[Winnings] = -0.055\n",
      "E[Winnings] = -0.051\n"
     ]
    }
   ],
   "source": [
    "def dozen_winnings(num_spins):\n",
    "    # Initialize variables\n",
    "    winnings = 0\n",
    "    \n",
    "    # Simulate spins\n",
    "    for _ in range(num_spins):\n",
    "        # Simulate a spin\n",
    "        spin_result = random.randint(1, 38)  # Account for 0, 00, and 1-36\n",
    "        \n",
    "        # Check if the spin result is in the first dozen\n",
    "        if 1 <= spin_result <= 12:\n",
    "            winnings += 2  # Win $2\n",
    "        else:\n",
    "            winnings -= 1  # Lose $1\n",
    "    \n",
    "    # Calculate average winnings\n",
    "    return winnings / num_spins\n",
    "# Your code above this line\n",
    "    \n",
    "print(\"E[Winnings] = {:.3f}\".format(dozen_winnings(num_spins=100000)))\n",
    "print(\"E[Winnings] = {:.3f}\".format(dozen_winnings(num_spins=100000)))\n",
    "print(\"E[Winnings] = {:.3f}\".format(dozen_winnings(num_spins=100000)))\n"
   ]
  },
  {
   "cell_type": "markdown",
   "id": "fe45bd4a",
   "metadata": {
    "deletable": false,
    "editable": false
   },
   "source": [
    "<!-- END QUESTION -->\n",
    "\n",
    "<!-- BEGIN QUESTION -->\n",
    "\n",
    " ### Question 2e) ###  \n",
    "Recall, we showed in class that the expected winnings if you bet on any number is also $-\\dfrac{1}{19}$.    \n",
    "\n",
    "So  you're hopefully onto the pattern by now.  The payouts in Roulette are designed so that the expected payout for a winning bet is always $-\\dfrac{1}{19}$.  \n",
    "\n",
    "Since we define these payouts in terms of your winnings after betting $1, we can think of these as payout odds.  \n",
    "\n",
    "For example, since if you bet $\\$1$ on the first dozen nonzero numbers and win, then you win $\\$2$, we say the odds are 2 to 1 (denoted 2:1).   \n",
    "\n",
    "The odds are 35:1 for landing on any particular number.  This means if you bet $\\$1$, you’ll win $35.\n",
    " \n",
    " \n",
    "Suppose the casino wanted to develop odds for a new bet in Roulette, where they allow you to bet on any set of 3 different numbers.   Let the odds for this new bet be $$x:1$$ What should $x$ be so that the expected payout for a winning bet is still $-\\dfrac{1}{19}$?.\n",
    "\n",
    "Show your work using LaTeX below.  "
   ]
  },
  {
   "cell_type": "markdown",
   "id": "20776167",
   "metadata": {},
   "source": [
    "You bet 1 on a set of 3 different numbers.\n",
    "If you win, you receive your original 1 dollar back plus an additional $x$ dollars, giving you $x + 1$ dollars in total.\n",
    "The probability of winning this bet is $\\frac{3}{38}$, since there are 3 winning numbers out of 38 possible outcomes.\n",
    "The probability of losing the bet is $\\frac{35}{38}$, as there are 35 other numbers that do not match your bet.\n",
    "\n",
    "The expected value $E[Y]$ of the winnings can be defined as:\n",
    "\n",
    "$E[Y] = (\\text{winnings on win} \\times \\text{probability of win}) + (\\text{winnings on loss} \\times \\text{probability of loss})$\n",
    "\n",
    "Substituting the values we have:\n",
    "\n",
    "$E[Y] = ((x + 1) \\times \\frac{3}{38}) + (-1 \\times \\frac{35}{38})$\n",
    "\n",
    "We know that the expected value $E[Y]$ should be $-\\frac{1}{19}$ for the bet to be fair according to the casino's standard. Therefore, we set $E[Y]$ to $-\\frac{1}{19}$ and solve for $x$:\n",
    "\n",
    "$-\\frac{1}{19} = ((x + 1) \\times \\frac{3}{38}) - \\frac{35}{38}$\n",
    "\n",
    "To solve for $x$, we first simplify the equation:\n",
    "\n",
    "$-\\frac{1}{19} = \\frac{3x + 3}{38} - \\frac{35}{38}$\n",
    "\n",
    "Bringing all terms to one side and simplifying:\n",
    "\n",
    "$\\frac{3x - 32}{38} = -\\frac{1}{19}$\n",
    "\n",
    "Multiplying both sides by 38:\n",
    "\n",
    "$3x - 32 = -2$\n",
    "\n",
    "Solving for \\(x\\):\n",
    "\n",
    "$3x = 30$\n",
    "\n",
    "$x = 10$\n",
    "\n",
    "Therefore, for the expected payout for a winning bet to be $-\\frac{1}{19}$, the odds for betting on any set of 3 different numbers should be set at $10:1$. This means if you bet 1 dollar on any set of 3 numbers and win, you should win 10 dollars, receiving back your original dollar plus an additional $10."
   ]
  },
  {
   "cell_type": "markdown",
   "id": "bd9e64db",
   "metadata": {
    "deletable": false,
    "editable": false
   },
   "source": [
    "<!-- END QUESTION -->\n",
    "\n",
    "<!-- BEGIN QUESTION -->\n",
    "\n",
    " ### Question 2f) ###  \n",
    "Let's generalize this!   \n",
    "\n",
    "Define a function $x(n)$ that describes the odds the casino should give for betting $\\$1$ on any set of $n$ numbers if the casino wants to keep the expected payout for a winning bet at $-\\frac{1}{19}$ for any $n$.   (For example, the odds for betting on any 3 different numbers should be set at $x(3)$ to $1$.  The odds for betting on any 4 different numbers should be set at $x(4)$ to $1$).    \n"
   ]
  },
  {
   "cell_type": "markdown",
   "id": "ddc3c300",
   "metadata": {},
   "source": [
    "Given:\n",
    "$n$ is the number of numbers you're betting on.\n",
    "The odds given by the casino are $x(n):1$, meaning if you win, you get $x(n)$ dollars plus your original 1 back.\n",
    "The probability of winning is $\\frac{n}{38}$ since you are betting on $n$ numbers out of 38.\n",
    "The probability of losing is $\\frac{38 - n}{38}$ since there are $38 - n$ numbers that you did not bet on.\n",
    "The expected value of the winnings $E[Y]$ should be $-\\frac{1}{19}$ according to the casino's standard.\n",
    "\n",
    "The formula for $E[Y]$ in terms of $x(n)$ is:\n",
    "\n",
    "$E[Y] = (x(n) + 1) \\cdot \\frac{n}{38} + (-1) \\cdot \\frac{38 - n}{38}$\n",
    "\n",
    "Setting $E[Y]$ equal to $-\\frac{1}{19}$ and solving for $x(n)$ gives:\n",
    "\n",
    "$-\\frac{1}{19} = (x(n) + 1) \\cdot \\frac{n}{38} - \\frac{38 - n}{38}$\n",
    "\n",
    "Multiplying both sides by 38 to eliminate the denominator and simplifying gives:\n",
    "\n",
    "$-2 = n \\cdot (x(n) + 1) - (38 - n)$\n",
    "\n",
    "\n",
    "Solving for $x(n)$ yields:\n",
    "\n",
    "$n \\cdot x(n) + n = 36 + n$\n",
    "\n",
    "\n",
    "$n \\cdot x(n) = 36$\n",
    "\n",
    "\n",
    "$x(n) = \\frac{36}{n}$\n",
    "\n",
    "\n",
    "Therefore, the function $x(n)$ that describes the odds the casino should give for betting 1 on any set of $n$ numbers, to keep the expected payout for a winning bet at $-\\frac{1}{19}$, is:\n",
    "\n",
    "\n",
    "$x(n) = \\frac{36}{n}$\n",
    "\n",
    "\n",
    "This formula provides the odds for any number of bets $n$, ensuring the casino maintains its expected payout rate."
   ]
  },
  {
   "cell_type": "markdown",
   "id": "3c945c0b",
   "metadata": {
    "deletable": false,
    "editable": false
   },
   "source": [
    "<!-- END QUESTION -->\n",
    "\n",
    "***\n",
    "\n",
    "[Back to top](#top)\n",
    "\n",
    "<a id='p3'></a>\n",
    "\n",
    "### Question 3\n",
    "\n",
    "\n",
    "Consider the discrete random variable $X$, with probability distribution given by $P(X=k) = 2ak^2-2ak$ for $k = 2, 3, 4$, where $a$ is a constant.\n"
   ]
  },
  {
   "cell_type": "markdown",
   "id": "1e941e70",
   "metadata": {
    "deletable": false,
    "editable": false
   },
   "source": [
    "<!-- BEGIN QUESTION -->\n",
    "\n",
    "Answer all of the parts below in the SAME cell below using LaTeX.  Show all of your steps.  \n",
    "\n",
    "**3a**).  Determine the value of $a$ such that this defines a valid probability distribution.  Use that value for the rest of the problem.  \n",
    "\n",
    "**3b**).  Calculate $P(X\\leq3)$.\n",
    "\n",
    "**3c**).  What is $E[X]$? (Show steps calculating this).\n",
    "\n",
    "**3d**).  What is the standard deviation of $X$? (Show all steps calculating this).\n",
    "\n",
    "Answer all of the parts above in SINGLE cell provided below using LaTeX."
   ]
  },
  {
   "cell_type": "markdown",
   "id": "284b320c",
   "metadata": {},
   "source": [
    "3a)\n",
    "\n",
    "The sum of probabilities for $X = 2, 3, 4$ is:\n",
    "\n",
    "$1 = P(X=2) + P(X=3) + P(X=4)$\n",
    "\n",
    "$= 2a(2^2) - 2a(2) + 2a(3^2) - 2a(3) + 2a(4^2) - 2a(4)$\n",
    "\n",
    "$= 2a(4 - 2 + 9 - 3 + 16 - 4)$\n",
    "\n",
    "$= 2a(20)$\n",
    "\n",
    "$= 40a$\n",
    "\n",
    "Solving $40a = 1$ gives $a = \\frac{1}{40}$.\n",
    "\n",
    "3b)\n",
    "\n",
    "To calculate $P(X \\leq 3)$, sum the probabilities of $X$ taking values less than or equal to 3:\n",
    "\n",
    "$P(X \\leq 3) = P(X=2) + P(X=3)$\n",
    "\n",
    "$= 2 \\cdot \\frac{1}{40}(2^2 - 2) + 2 \\cdot \\frac{1}{40}(3^2 - 3)$\n",
    "\n",
    "$= \\frac{1}{20}(4 - 2) + \\frac{1}{20}(9 - 3)$\n",
    "\n",
    "$= \\frac{1}{20}(2 + 6)$\n",
    "\n",
    "$= \\frac{8}{20}$\n",
    "\n",
    "$= \\frac{2}{5}$\n",
    "\n",
    "3c)\n",
    "\n",
    "The expected value $E[X]$ is calculated as:\n",
    "\n",
    "\n",
    "$E[X] = \\sum_{k=2}^{4} k \\cdot P(X=k)$\n",
    "\n",
    "$E[X] = 2 \\cdot P(X=2) + 3 \\cdot P(X=3) + 4 \\cdot P(X=4)$\n",
    "\n",
    "\n",
    "With $a=\\frac{1}{40}$, we calculate each $P(X=k)$ as follows:\n",
    "\n",
    "For $k=2$: $P(X=2) = 2 \\cdot \\frac{1}{40}(2^2 - 2) = \\frac{1}{10}$\n",
    "For $k=3$: $P(X=3) = 2 \\cdot \\frac{1}{40}(3^2 - 3) = \\frac{3}{10}$\n",
    "For $k=4$: $P(X=4) = 2 \\cdot \\frac{1}{40}(4^2 - 4) = \\frac{6}{10}$\n",
    "\n",
    "Substituting these into $E[X]$:\n",
    "\n",
    "$E[X] = 2 \\cdot \\frac{1}{10} + 3 \\cdot \\frac{3}{10} + 4 \\cdot \\frac{6}{10} = \\frac{2}{10} + \\frac{9}{10} + \\frac{24}{10} = \\frac{35}{10} = 3.5$\n",
    "\n",
    "\n",
    "\n",
    "3d)\n",
    "\n",
    "The variance $Var(X)$ is given by $E[X^2] - (E[X])^2$. First, we find $E[X^2]$:\n",
    "\n",
    "$E[X^2] = 2^2 \\cdot P(X=2) + 3^2 \\cdot P(X=3) + 4^2 \\cdot P(X=4)$\n",
    "\n",
    "\n",
    "Substituting the probabilities:\n",
    "\n",
    "$E[X^2] = 4 \\cdot \\frac{1}{10} + 9 \\cdot \\frac{3}{10} + 16 \\cdot \\frac{6}{10} = \\frac{4}{10} + \\frac{27}{10} + \\frac{96}{10} = \\frac{127}{10} = 12.7$\n",
    "\n",
    "Now, calculating the variance:\n",
    "\n",
    "$Var(X) = E[X^2] - (E[X])^2 = 12.7 - (3.5)^2 = 12.7 - 12.25 = 0.45$\n",
    "\n",
    "The standard deviation $\\sigma_X$ is the square root of the variance:\n",
    "\n",
    "$\\sigma_X = \\sqrt{Var(X)} = \\sqrt{0.45} \\approx 0.67$\n",
    "\n"
   ]
  },
  {
   "cell_type": "markdown",
   "id": "fb5da795",
   "metadata": {
    "deletable": false,
    "editable": false
   },
   "source": [
    "<!-- END QUESTION -->\n",
    "\n",
    "To check your answers to 3c and 3d, enter them below.  Note that this autograder test is not worth any points, it's just for you to check your work above to make sure you're on the right track. "
   ]
  },
  {
   "cell_type": "code",
   "execution_count": 50,
   "id": "745b5d08",
   "metadata": {
    "tags": []
   },
   "outputs": [],
   "source": [
    "expected_value = 3.5\n",
    "standard_deviation= np.sqrt(0.45)"
   ]
  },
  {
   "cell_type": "code",
   "execution_count": 51,
   "id": "90e0b9b2",
   "metadata": {
    "deletable": false,
    "editable": false
   },
   "outputs": [
    {
     "data": {
      "text/html": [
       "<p><strong><pre style='display: inline;'>q3_check</pre></strong> passed! 🚀</p>"
      ],
      "text/plain": [
       "q3_check results: All test cases passed!"
      ]
     },
     "execution_count": 51,
     "metadata": {},
     "output_type": "execute_result"
    }
   ],
   "source": [
    "grader.check(\"q3_check\")"
   ]
  },
  {
   "cell_type": "markdown",
   "id": "05898d0d",
   "metadata": {
    "deletable": false,
    "editable": false
   },
   "source": [
    "<!-- BEGIN QUESTION -->\n",
    "\n",
    "### Question 3e"
   ]
  },
  {
   "cell_type": "markdown",
   "id": "8482ec5f",
   "metadata": {
    "deletable": false,
    "editable": false
   },
   "source": [
    "Plot a histogram of the discrete probability distribution for $X$.  \n",
    "\n",
    "Use the same plotting guidelines as shown in Problem 1 so we can interpret area in the histogram as representing probability: \n",
    " - Set the bin widths to be equal to 1 \n",
    " - Add white lines between each bar \n",
    "\n",
    "**Be sure to include a title on your plot.**\n"
   ]
  },
  {
   "cell_type": "code",
   "execution_count": 53,
   "id": "fca475bd",
   "metadata": {
    "tags": []
   },
   "outputs": [
    {
     "data": {
      "image/png": "[encoded data removed]",
      "text/plain": [
       "<Figure size 640x480 with 1 Axes>"
      ]
     },
     "metadata": {},
     "output_type": "display_data"
    }
   ],
   "source": [
    "import matplotlib.pyplot as plt\n",
    "import numpy as np\n",
    "k = np.array([2, 3, 4])\n",
    "\n",
    "# Given a = 1/40\n",
    "a = 1/40\n",
    "\n",
    "# Calculating probabilities P(X=k) for each k\n",
    "probabilities = 2*a*k**2 - 2*a*k\n",
    "\n",
    "plt.bar(k, probabilities, width=1, edgecolor='white')\n",
    "\n",
    "plt.title('Discrete Probability Distribution of $X$')\n",
    "plt.xlabel('$k$')\n",
    "plt.ylabel('Probability $P(X=k)$')\n",
    "plt.xticks(k)\n",
    "\n",
    "plt.show()\n",
    "# Your code for the histogram above this line\n"
   ]
  },
  {
   "cell_type": "markdown",
   "id": "0a8d164e",
   "metadata": {
    "deletable": false,
    "editable": false
   },
   "source": [
    "<!-- END QUESTION -->\n",
    "\n",
    "***\n",
    "\n",
    "[Back to top](#top)\n",
    "\n",
    "<a id='p4'></a>\n",
    "\n",
    "\n",
    "### Question 4\n",
    "You are waiting in line at the grocery store. It is taking _forever_!  There are only two lines open; one is being tended by a cashier named [John Henry](https://en.wikipedia.org/wiki/John_Henry_(folklore)), and the other is tended by a [self check-out machine](https://theconversation.com/the-economics-of-self-service-checkouts-78593). Like all human beings when they arrive at the front of the store to check-out and encounter lines everywhere, you first experience a moment of intense panic. _Which line will be the fastest?_ you wonder, as people shuffle around you.\n",
    "\n",
    "You decide you need to model the arrival of customers at the front of each of the lines.  From your Intro to Data Science class you remember that the distribution of independent random arrivals is often modeled using a Poisson distribution.  You observe the following:\n",
    "* John's line checks-out an average of 4 customers per ten minutes,\n",
    "* the self check-out machine checks-out an average of 5 customers per ten minutes **if** the machine is working properly, \n",
    "* the self check-out machine checks-out an average of 1 customer per ten minutes if the machine is freezing up, and\n",
    "* in any given moment, the self check-out machine has a probability of 0.1 of freezing up.\n",
    "\n",
    "Answer the following questions about this scenario. "
   ]
  },
  {
   "cell_type": "markdown",
   "id": "b9b0b816",
   "metadata": {
    "deletable": false,
    "editable": false
   },
   "source": [
    "<!-- BEGIN QUESTION -->\n",
    "\n",
    "Answer all of the parts below in the SAME cell below using LaTeX.  Show all of your steps.  \n",
    "\n",
    "**4a**).  What is the probability that exactly 6 customers pass through John's line in the next 10 minutes? \n",
    "\n",
    "**4b**).  What is the probability that exactly 6 customers pass through the self check-out in the next 10 minutes, assuming that it is working?  \n",
    "\n",
    "**4c**).  What is the probability that exactly 6 customers pass through the self check-out in the next 10 minutes, assuming that it is frozen? \n",
    "\n",
    "**4d**).  Use your results from 4b and 4c and the Law of Total Probability to calculate the probability that the self check-out tends exactly 6 customers in the next 10 minutes.\n",
    "Show all steps using LaTeX.\n",
    "\n",
    "Answer all of the parts above in SINGLE cell provided below using LaTeX."
   ]
  },
  {
   "cell_type": "markdown",
   "id": "fe062340",
   "metadata": {},
   "source": [
    "\n",
    "$P(X=k) = \\frac{\\lambda^k e^{-\\lambda}}{k!}$\n",
    "\n",
    "where $\\lambda$ is the average rate of success, $k$ is the exact number of successes, and $e$ is Euler's number (approximately 2.71828).\n",
    "\n",
    "4a) For John's line, with an average of 4 customers per ten minutes, the probability of exactly 6 customers is:\n",
    "\n",
    "$P(X=6) = \\frac{4^6 e^{-4}}{6!} = \\frac{4096 e^{-4}}{720} \\approx 0.1042$\n",
    "\n",
    "\n",
    "4b) For the self check-out working properly, with an average of 5 customers per ten minutes, the probability of exactly 6 customers is:\n",
    "\n",
    "$P(X=6) = \\frac{5^6 e^{-5}}{6!} = \\frac{15625 e^{-5}}{720} \\approx 0.1462$\n",
    "\n",
    "\n",
    "4c) For the self check-out when it's frozen, with an average of 1 customer per ten minutes, the probability of exactly 6 customers is:\n",
    "\n",
    "$P(X=6) = \\frac{1^6 e^{-1}}{6!} = \\frac{1 e^{-1}}{720} \\approx 0.000151$\n",
    "\n",
    "\n",
    "4d) To find the overall probability of exactly 6 customers passing through the self check-out in the next 10 minutes, we use the Law of Total Probability. Let $A$ be the event that the machine is working, and $B$ the event that the machine is frozen. The probability that exactly 6 customers pass through is:\n",
    "\n",
    "$P(X=6) = P(X=6|A)P(A) + P(X=6|B)P(B)$\n",
    "\n",
    "Given that $P(A) = 0.9$ (probability machine is working) and $P(B) = 0.1$ (probability machine is frozen), we substitute the values from 4b and 4c:\n",
    "\n",
    "$P(X=6) = (0.1462)(0.9) + (0.000151)(0.1) \\approx 0.1316 + 0.0000151 \\approx 0.1316$\n",
    "Thus, the probability that exactly 6 customers pass through the self check-out in the next 10 minutes, considering both working and frozen states, is approximately 0.1316.\n"
   ]
  },
  {
   "cell_type": "markdown",
   "id": "10ead6ab",
   "metadata": {
    "deletable": false,
    "editable": false
   },
   "source": [
    "<!-- END QUESTION -->\n",
    "\n",
    "To check your answer to 4d, enter it below.  Note that this autograder test is not worth any points, it's just for you to check your work above to make sure you're on the right track. "
   ]
  },
  {
   "cell_type": "code",
   "execution_count": 54,
   "id": "3861bae6",
   "metadata": {
    "tags": []
   },
   "outputs": [
    {
     "data": {
      "text/plain": [
       "0.1316"
      ]
     },
     "execution_count": 54,
     "metadata": {},
     "output_type": "execute_result"
    }
   ],
   "source": [
    "q4d_check = 0.1316\n",
    "\n",
    "q4d_check"
   ]
  },
  {
   "cell_type": "code",
   "execution_count": 55,
   "id": "a0b3d2d0",
   "metadata": {
    "deletable": false,
    "editable": false
   },
   "outputs": [
    {
     "data": {
      "text/html": [
       "<p><strong><pre style='display: inline;'>q4d_check</pre></strong> passed! 🙌</p>"
      ],
      "text/plain": [
       "q4d_check results: All test cases passed!"
      ]
     },
     "execution_count": 55,
     "metadata": {},
     "output_type": "execute_result"
    }
   ],
   "source": [
    "grader.check(\"q4d_check\")"
   ]
  },
  {
   "cell_type": "markdown",
   "id": "16806c5c",
   "metadata": {
    "deletable": false,
    "editable": false
   },
   "source": [
    "<!-- BEGIN QUESTION -->\n",
    "\n",
    "### Question 4e) ###\n",
    "S'pose John is working a 5-hour shift from 4-9 PM after school. He gets no breaks, because the year is 1870 and worker's rights is not yet a thing.  \n",
    "\n",
    "Plot a histogram of the probability distribution of the number of customers he serves in his 5 hour shift.   \n",
    "For the **domain of the histogram, include $x$ values between $75$ and $160$ in your plot.**\n",
    "\n",
    "**Hint:** Python has a built-in function to calculate the Poisson distribution for different values of $\\mu$.  See the documentation for `poisson.pmf` in `scipy.stats`  (https://docs.scipy.org/doc/scipy/reference/generated/scipy.stats.poisson.html)\n",
    "\n",
    "**Hint:**  Since we are changing the time interval over which we are counting customers, you will need to update the parameter $\\mu$ in the Poisson distribution to be the average number of customers John can serve in a $5$-hour shift. You can assume that his rate of 4 customers per 10 minutes scales up consistently during his 5 hour shift.  \n",
    "\n"
   ]
  },
  {
   "cell_type": "code",
   "execution_count": 57,
   "id": "e471e80c-b4e1-42ed-b39a-3a50e55ff397",
   "metadata": {
    "deletable": false,
    "editable": false
   },
   "outputs": [],
   "source": [
    "from scipy.stats import poisson"
   ]
  },
  {
   "cell_type": "code",
   "execution_count": 58,
   "id": "4c31fba9",
   "metadata": {
    "tags": []
   },
   "outputs": [
    {
     "data": {
      "image/png": "[encoded data removed]",
      "text/plain": [
       "<Figure size 640x480 with 1 Axes>"
      ]
     },
     "metadata": {},
     "output_type": "display_data"
    }
   ],
   "source": [
    "# John serves 4 customers per 10 minutes. In 5 hours (300 minutes), he can serve:\n",
    "mu = 4 * (300 / 10)  # 4 customers every 10 minutes for 300 minutes\n",
    "\n",
    "# Domain of the histogram\n",
    "x = np.arange(75, 161)  # Including 160\n",
    "\n",
    "# Calculate the Poisson PMF for these values\n",
    "pmf = poisson.pmf(x, mu)\n",
    "\n",
    "# Plotting the histogram\n",
    "plt.bar(x, pmf, width=1, edgecolor='white')\n",
    "plt.title(\"Probability Distribution of Customers Served by John in a 5-hour Shift\")\n",
    "plt.xlabel(\"Number of Customers Served\")\n",
    "plt.ylabel(\"Probability\")\n",
    "\n",
    "plt.show()"
   ]
  },
  {
   "cell_type": "markdown",
   "id": "34406772",
   "metadata": {
    "deletable": false,
    "editable": false
   },
   "source": [
    "<!-- END QUESTION -->\n",
    "\n",
    "### Question 4f) ###\n",
    "\n",
    "Calculate  the probability that John serves 100 or more customers during his **5-hour** shift.  Note for this problem do the calculation of the actual probability, not a simulation.   Assign your output to the variable `prob_100_or_more`.\n",
    "Assume we can safely scale our data assumptions up to a 5-hour interval.\n",
    "\n"
   ]
  },
  {
   "cell_type": "code",
   "execution_count": 59,
   "id": "80613691",
   "metadata": {
    "tags": []
   },
   "outputs": [
    {
     "data": {
      "text/plain": [
       "0.9721362601094794"
      ]
     },
     "execution_count": 59,
     "metadata": {},
     "output_type": "execute_result"
    }
   ],
   "source": [
    "# John's rate for 5 hours, already calculated as mu\n",
    "mu = 4 * (300 / 10)  # 4 customers every 10 minutes for 300 minutes\n",
    "\n",
    "# Calculate the probability of serving 100 or more customers\n",
    "prob_100_or_more = 1 - poisson.cdf(99, mu)  # P(X >= 100) = 1 - P(X <= 99)\n",
    "prob_100_or_more"
   ]
  },
  {
   "cell_type": "code",
   "execution_count": 60,
   "id": "afff52b5",
   "metadata": {
    "deletable": false,
    "editable": false
   },
   "outputs": [
    {
     "data": {
      "text/html": [
       "<p><strong><pre style='display: inline;'>q4f</pre></strong> passed! 🙌</p>"
      ],
      "text/plain": [
       "q4f results: All test cases passed!"
      ]
     },
     "execution_count": 60,
     "metadata": {},
     "output_type": "execute_result"
    }
   ],
   "source": [
    "grader.check(\"q4f\")"
   ]
  },
  {
   "cell_type": "markdown",
   "id": "fddc9d6b",
   "metadata": {
    "deletable": false,
    "editable": false
   },
   "source": [
    "<!-- BEGIN QUESTION -->\n",
    "\n",
    "### Question 4g) \n",
    "\n",
    "Time to simulate!\n",
    "\n",
    "Recall from lecture that if the number of random events follows a Poisson distribution, the lapse of time between these events follows an Exponential distribution.   For example, if the number of occurrences per 10 minute interval is \n",
    "distributed $X$~ $Pois(4)$, \n",
    "then the time (in units of 10 minutes) between arrivals is $Y$ ~ $Exp(4)$.  \n",
    " \n",
    "We're going to simulate the number of customers served using this knowledge.  \n",
    "\n",
    "i).  Write a function `checkout_count` to simulate the number of customers served by the **self check-out machine** in a **5-hour** shift. \n",
    "\n",
    "Your function should take as input the time length `time_len`, for calculating the arrivals, the working and broken customer arrival rate parameters (based on the time length given), and the probability, `p` that the machine is working properly. \n",
    "\n",
    "\n",
    "Your function should simulate customer arrival times at the front of the line by sampling between-customer times from $Exp(\\lambda)$ via Numpy's [random.exponential](https://docs.scipy.org/doc/numpy-1.13.0/reference/generated/numpy.random.exponential.html) function, where the argument $\\lambda$ will depend on the state of the machine (working or broken).   Read the documentation carefully for the format of the input for the exponential function in Numpy. \n",
    "\n",
    "Your simulation should model the arrival of each new customer, and sample whether or not the machine is working properly for each new customer. \n",
    "\n",
    "\n",
    "Your function should **return the number of customer arrivals in a 5-hour shift**. \n",
    "\n",
    "**Make sure all code is visible in your PDF, or you won't receive points for this problem**\n",
    "\n",
    "\n",
    "ii).  Use 10,000 simulations of this function to estimate the probability of the self check-out machine serves 100 or more customers in a 5-hour shift, and report your result.\n",
    "\n",
    "iii). Finally, use 10,000 simulations of **this same function** to verify your answer to **Part 4e**.\n",
    "\n"
   ]
  },
  {
   "cell_type": "code",
   "execution_count": 61,
   "id": "eb5613d3",
   "metadata": {
    "tags": []
   },
   "outputs": [],
   "source": [
    "def checkout_count(time_len, rate_work, rate_broken, p):\n",
    "    total_customers = 0\n",
    "    time_elapsed = 0\n",
    "    \n",
    "    # Convert rates to lambda for the exponential distribution (customers per minute)\n",
    "    lambda_work = rate_work / 10  # Convert from per 10 minutes to per minute\n",
    "    lambda_broken = rate_broken / 10  # Convert from per 10 minutes to per minute\n",
    "    \n",
    "    while time_elapsed < time_len:\n",
    "        # Determine the state of the machine\n",
    "        machine_working = np.random.rand() < p\n",
    "        if machine_working:\n",
    "            # Sample time until next customer for working machine\n",
    "            time_to_next_customer = np.random.exponential(1/lambda_work)\n",
    "        else:\n",
    "            # Sample time until next customer for broken machine\n",
    "            time_to_next_customer = np.random.exponential(1/lambda_broken)\n",
    "        \n",
    "        time_elapsed += time_to_next_customer\n",
    "        if time_elapsed < time_len:\n",
    "            total_customers += 1\n",
    "    \n",
    "    return total_customers\n",
    "    "
   ]
  },
  {
   "cell_type": "code",
   "execution_count": 62,
   "id": "ef0b3c11",
   "metadata": {
    "tags": []
   },
   "outputs": [
    {
     "data": {
      "text/plain": [
       "0.7018"
      ]
     },
     "execution_count": 62,
     "metadata": {},
     "output_type": "execute_result"
    }
   ],
   "source": [
    "# Part ii\n",
    "simulations = 10000\n",
    "successes = sum([checkout_count(300, 5, 1, 0.9) >= 100 for _ in range(simulations)])\n",
    "prob_100_or_more_simulated = successes / simulations\n",
    "\n",
    "prob_100_or_more_simulated\n",
    "# Your code for part ii above this line\n",
    "# Output should be approximately 0.70 if code is correct."
   ]
  },
  {
   "cell_type": "code",
   "execution_count": 67,
   "id": "fe69ba59",
   "metadata": {
    "tags": []
   },
   "outputs": [
    {
     "data": {
      "text/plain": [
       "120.0478"
      ]
     },
     "execution_count": 67,
     "metadata": {},
     "output_type": "execute_result"
    }
   ],
   "source": [
    "# Simulating 10,000 shifts for John's checkout line\n",
    "john_simulations = 10000\n",
    "john_successes = sum([checkout_count(300, 4, 0, 1) for _ in range(john_simulations)])\n",
    "\n",
    "# Calculate the average number of customers served\n",
    "average_customers_served_by_john = john_successes / john_simulations\n",
    "\n",
    "average_customers_served_by_john\n",
    "# Your code for part iii above this line\n",
    "# Output should match your theoretical answer to Part 4f"
   ]
  },
  {
   "cell_type": "markdown",
   "id": "8a8366d8",
   "metadata": {
    "deletable": false,
    "editable": false
   },
   "source": [
    "<!-- END QUESTION -->\n",
    "\n",
    "<!-- BEGIN QUESTION -->\n",
    "\n",
    "**QUESTION 4h:** Comment on the results you found above in **Parts F and G** comparing the probabilities that John and the self check-out machine will serve 100 or more customers in a 5-hour block. Which seems like a better investment for the grocery store?  Justify your answer."
   ]
  },
  {
   "cell_type": "markdown",
   "id": "757b8f1e",
   "metadata": {},
   "source": [
    "While the self check-out machine shows a good probability of serving 100 or more customers in a 5-hour block, its reliability is a concern due to the possibility of freezing. John, on the other hand, demonstrates consistent performance with a high average number of customers served at around 120 customers, suggesting a better investment for the grocery store in terms of reliability, customer satisfaction, and potentially lower maintenance and troubleshooting costs associated with technical issues in machines.\n",
    "\n",
    "Therefore, while self check-out machines can automate the checkout process, especially during peak times, investing in reliable and efficient human cashiers like John seems to be a more dependable choice for maintaining high customer service standards and operational reliability.\n"
   ]
  },
  {
   "cell_type": "markdown",
   "id": "169d7663",
   "metadata": {
    "deletable": false,
    "editable": false
   },
   "source": [
    "<!-- END QUESTION -->\n",
    "\n",
    "<br/><br/>\n",
    "<hr style=\"border: 5px solid #003262;\" />\n",
    "<hr style=\"border: 1px solid #fdb515;\" />\n",
    "\n",
    "## Congratulations! You have finished Homework 6!"
   ]
  },
  {
   "cell_type": "markdown",
   "id": "cc31acf9",
   "metadata": {},
   "source": [
    "If you discussed this assignment with any other students in the class (in a manner that is acceptable as described by the Collaboration policy above) please **include their names** here:\n",
    "\n",
    "**Collaborators**: *list collaborators here*"
   ]
  },
  {
   "cell_type": "markdown",
   "id": "46739932",
   "metadata": {},
   "source": [
    "### Submission Instructions\n",
    "\n",
    "Before proceeding any further, **save this notebook.**\n",
    "\n",
    "After running the `grader.export()` cell provided below, **2 files will be created**: a zip file and pdf file.  You can download them using the links provided below OR by finding them in the same folder where this juptyer notebook resides in your JuptyerHub.\n",
    "\n",
    "To receive credit on this assignment, **you must submit BOTH of these files\n",
    "to their respective Gradescope portals:** \n",
    "\n",
    "* **Homework 6 Autograded**: Submit the zip file that is output by the `grader.export()` cell below to the HW6 Autograded assignment in Gradescope.\n",
    "\n",
    "* **Homework 6 Manually Graded**: Submit your hw06.PDF to the HW6 Manually Graded assignment in Gradescope.  **YOU MUST SELECT THE PAGES CORRESPONDING TO EACH QUESTION WHEN YOU UPLOAD TO GRADESCOPE.  IF NOT, YOU WILL LOSE POINTS**   Also, **check** that all of your plots **and** all lines of your code are showing up in your PDF before submitting.  If not, you will not receive credit for your plots/code.  \n",
    "\n",
    "\n",
    "**You are responsible for ensuring your submission follows our requirements. We will not be granting regrade requests nor extensions to submissions that don't follow instructions.** If you encounter any difficulties with submission, please don't hesitate to reach out to staff prior to the deadline."
   ]
  },
  {
   "cell_type": "code",
   "execution_count": null,
   "id": "b6dad5e0-4df0-4b83-b628-b312b256e8f1",
   "metadata": {},
   "outputs": [],
   "source": []
  },
  {
   "cell_type": "markdown",
   "id": "b5dffd9e",
   "metadata": {
    "deletable": false,
    "editable": false
   },
   "source": [
    "## Submission\n",
    "\n",
    "Make sure you have run all cells in your notebook in order before running the cell below, so that all images/graphs appear in the output. The cell below will generate a zip file for you to submit. **Please save before exporting!**\n",
    "\n",
    "AFTER running the cell below, click on <a href='hw06.pdf' download>this link to download the PDF </a> to upload to Gradescope.  There will be a separate link that appears after running the cell below with a link to download the zip file to upload to Gradescope."
   ]
  },
  {
   "cell_type": "code",
   "execution_count": 68,
   "id": "49283c56",
   "metadata": {
    "deletable": false,
    "editable": false
   },
   "outputs": [
    {
     "name": "stdout",
     "output_type": "stream",
     "text": [
      "Running your submission against local test cases...\n",
      "\n",
      "\n",
      "\n",
      "Your submission received the following results when run against available test cases:\n",
      "\n",
      "    q1a results: All test cases passed!\n",
      "\n",
      "    q1b results: All test cases passed!\n",
      "\n",
      "    q1c results: All test cases passed!\n",
      "\n",
      "    q1d results: All test cases passed!\n",
      "\n",
      "    q1e results: All test cases passed!\n",
      "\n",
      "    q1f results: All test cases passed!\n",
      "\n",
      "    q3_check results: All test cases passed!\n",
      "\n",
      "    q4d_check results: All test cases passed!\n",
      "\n",
      "    q4f results: All test cases passed!\n"
     ]
    },
    {
     "data": {
      "text/html": [
       "\n",
       "                    <p>\n",
       "                        Your submission has been exported. Click\n",
       "                        <a href=\"hw06_2024_03_01T04_46_11_397112.zip\" download=\"hw06_2024_03_01T04_46_11_397112.zip\" target=\"_blank\">here</a> to download\n",
       "                        the zip file.\n",
       "                    </p>\n",
       "                "
      ],
      "text/plain": [
       "<IPython.core.display.HTML object>"
      ]
     },
     "metadata": {},
     "output_type": "display_data"
    }
   ],
   "source": [
    "# Save your notebook first, then run this cell to export your submission.\n",
    "grader.export(run_tests=True)"
   ]
  },
  {
   "cell_type": "markdown",
   "id": "e6e48b85",
   "metadata": {},
   "source": [
    " "
   ]
  }
 ],
 "metadata": {
  "kernelspec": {
   "display_name": "Python 3 (ipykernel)",
   "language": "python",
   "name": "python3"
  },
  "language_info": {
   "codemirror_mode": {
    "name": "ipython",
    "version": 3
   },
   "file_extension": ".py",
   "mimetype": "text/x-python",
   "name": "python",
   "nbconvert_exporter": "python",
   "pygments_lexer": "ipython3",
   "version": "3.10.8"
  },
  "otter": {
   "OK_FORMAT": true,
   "tests": {
    "q1a": {
     "name": "q1a",
     "points": 1,
     "suites": [
      {
       "cases": [
        {
         "code": ">>> # TEST\n>>> assert prob_1a >= 0 and prob_1a <= 1\n",
         "hidden": false,
         "locked": false
        },
        {
         "code": ">>> # TEST\n>>> assert np.isclose(prob_1a, 0.0369, atol = 1e-4)\n",
         "hidden": false,
         "locked": false
        }
       ],
       "scored": true,
       "setup": "",
       "teardown": "",
       "type": "doctest"
      }
     ]
    },
    "q1b": {
     "name": "q1b",
     "points": 1,
     "suites": [
      {
       "cases": [
        {
         "code": ">>> # TEST\n>>> assert np.all(all_probs >= 0) and np.all(all_probs <= 1)\n",
         "hidden": false,
         "locked": false
        },
        {
         "code": ">>> # TEST\n>>> k = np.arange(101)\n>>> test_1b = special.comb(100, k)*(0.26**k)*(0.74**(100-k))\n>>> assert np.all(np.isclose(test_1b, all_probs, atol = 1e-5))\n",
         "hidden": false,
         "locked": false
        }
       ],
       "scored": true,
       "setup": "",
       "teardown": "",
       "type": "doctest"
      }
     ]
    },
    "q1c": {
     "name": "q1c",
     "points": 1,
     "suites": [
      {
       "cases": [
        {
         "code": ">>> # TEST\n>>> assert prob_1c >= 0 and prob_1c <= 1\n",
         "hidden": false,
         "locked": false
        },
        {
         "code": ">>> # TEST\n>>> assert np.isclose(prob_1c, 0.9838, atol = 1e-4)\n",
         "hidden": false,
         "locked": false
        }
       ],
       "scored": true,
       "setup": "",
       "teardown": "",
       "type": "doctest"
      }
     ]
    },
    "q1d": {
     "name": "q1d",
     "points": 1,
     "suites": [
      {
       "cases": [
        {
         "code": ">>> # TEST\n>>> assert prob_at_most(3, 0.4, 1) >= 0\n",
         "hidden": false,
         "locked": false
        },
        {
         "code": ">>> # TEST\n>>> assert prob_at_most(5, 0.6, 3) <= 1\n",
         "hidden": false,
         "locked": false
        },
        {
         "code": ">>> # TEST\n>>> assert prob_at_most(2, 3, 4) == 0\n",
         "hidden": false,
         "locked": false
        },
        {
         "code": ">>> # TEST\n>>> assert np.isclose(prob_at_most(10, 0.7, 4), 0.0473, atol = 1e-4)\n",
         "hidden": false,
         "locked": false
        },
        {
         "code": ">>> # TEST\n>>> assert np.isclose(prob_at_most(10, 0.7, 4), 0.0473, atol = 1e-4)\n",
         "hidden": false,
         "locked": false
        },
        {
         "code": ">>> # TEST\n>>> assert np.isclose(prob_at_most(5, 1, 1), 0, atol = 1e-4)\n",
         "hidden": false,
         "locked": false
        },
        {
         "code": ">>> # TEST\n>>> assert np.isclose(prob_at_most(8, 0.7, 3), 0.05797, atol = 1e-4)\n",
         "hidden": false,
         "locked": false
        }
       ],
       "scored": true,
       "setup": "",
       "teardown": "",
       "type": "doctest"
      }
     ]
    },
    "q1e": {
     "name": "q1e",
     "points": 1,
     "suites": [
      {
       "cases": [
        {
         "code": ">>> # TEST\n>>> p_majority >= 0 and p_majority <= 1\nTrue",
         "hidden": false,
         "locked": false
        },
        {
         "code": ">>> # TEST\n>>> np.isclose(p_majority, 0.06807, atol = 1e-4)\nTrue",
         "hidden": false,
         "locked": false
        }
       ],
       "scored": true,
       "setup": "",
       "teardown": "",
       "type": "doctest"
      }
     ]
    },
    "q1f": {
     "name": "q1f",
     "points": 2,
     "suites": [
      {
       "cases": [
        {
         "code": ">>> # TEST\n>>> assert prob_1f >= 0 and prob_1f <= 1\n",
         "hidden": false,
         "locked": false
        },
        {
         "code": ">>> # TEST\n>>> assert np.isclose(prob_1f, 0.2355, atol = 1e-4)\n",
         "hidden": false,
         "locked": false
        }
       ],
       "scored": true,
       "setup": "",
       "teardown": "",
       "type": "doctest"
      }
     ]
    },
    "q3_check": {
     "name": "q3_check",
     "points": 0,
     "suites": [
      {
       "cases": [
        {
         "code": ">>> # TEST\n>>> assert np.isclose(expected_value, 3.5)\n",
         "hidden": false,
         "locked": false
        },
        {
         "code": ">>> # TEST\n>>> assert np.isclose(standard_deviation, np.sqrt(9/20))\n",
         "hidden": false,
         "locked": false
        }
       ],
       "scored": true,
       "setup": "",
       "teardown": "",
       "type": "doctest"
      }
     ]
    },
    "q4d_check": {
     "name": "q4d_check",
     "points": 0,
     "suites": [
      {
       "cases": [
        {
         "code": ">>> assert np.isclose(q4d_check, 0.1316516216927174,atol = 1e-4)\n",
         "hidden": false,
         "locked": false
        }
       ],
       "scored": true,
       "setup": "",
       "teardown": "",
       "type": "doctest"
      }
     ]
    },
    "q4f": {
     "name": "q4f",
     "points": 3,
     "suites": [
      {
       "cases": [
        {
         "code": ">>> # TEST\n>>> \n>>> assert np.isclose(prob_100_or_more, 0.9721362601094793)\n>>> \n",
         "hidden": false,
         "locked": false
        }
       ],
       "scored": true,
       "setup": "",
       "teardown": "",
       "type": "doctest"
      }
     ]
    }
   }
  }
 },
 "nbformat": 4,
 "nbformat_minor": 5
}
